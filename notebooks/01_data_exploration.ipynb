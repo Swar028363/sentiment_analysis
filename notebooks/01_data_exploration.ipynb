{
 "cells": [
  {
   "cell_type": "markdown",
   "id": "2790708d-8ca2-49d9-9fb7-16ff09a996cc",
   "metadata": {},
   "source": [
    "# Data Exploration"
   ]
  },
  {
   "cell_type": "markdown",
   "id": "ed87f7cc-aa70-47c6-9358-419fcc04ad5d",
   "metadata": {},
   "source": [
    "## Import"
   ]
  },
  {
   "cell_type": "code",
   "execution_count": 1,
   "id": "f8caaeb9-2182-4f44-86d0-a28b9411ae7c",
   "metadata": {
    "execution": {
     "iopub.execute_input": "2025-10-24T11:51:14.525103Z",
     "iopub.status.busy": "2025-10-24T11:51:14.524326Z",
     "iopub.status.idle": "2025-10-24T11:51:18.434922Z",
     "shell.execute_reply": "2025-10-24T11:51:18.433479Z"
    }
   },
   "outputs": [],
   "source": [
    "import re\n",
    "import os\n",
    "import yaml\n",
    "import random\n",
    "import numpy as np \n",
    "import pandas as pd \n",
    "import seaborn as sns\n",
    "import matplotlib.pyplot as plt \n",
    "\n",
    "import sys\n",
    "sys.path.append('../')\n",
    "from src.data_preparation import count_words, count_charecters, get_words, get_charecters, has_html\n",
    "from src.utility import *"
   ]
  },
  {
   "cell_type": "markdown",
   "id": "8d4016d3-1b78-4452-bd09-dde1e59daa64",
   "metadata": {},
   "source": [
    "## Reading Config File"
   ]
  },
  {
   "cell_type": "code",
   "execution_count": 2,
   "id": "a13df194-40ce-4612-9682-e185965cd9da",
   "metadata": {
    "execution": {
     "iopub.execute_input": "2025-10-24T11:51:18.439060Z",
     "iopub.status.busy": "2025-10-24T11:51:18.438450Z",
     "iopub.status.idle": "2025-10-24T11:51:18.475386Z",
     "shell.execute_reply": "2025-10-24T11:51:18.473180Z"
    }
   },
   "outputs": [],
   "source": [
    "with open(\"../config.yaml\") as f:\n",
    "    config = yaml.safe_load(f)\n",
    "    config = config[\"exploration\"]\n",
    "fix_config_types(config)\n",
    "    \n",
    "RAW_CSV = os.path.join(\"../\", config[\"raw_csv\"])\n",
    "SAVE_FIG = config[\"save_fig\"]\n",
    "FIG_SAVE_DIR = os.path.join(\"../\", config[\"fig_save_dir\"])\n",
    "RESULR_FILE_NAME = config[\"result_file_name\"]\n",
    "RESULT_SAVE_DIR = os.path.join(\"../\", config[\"result_save_dir\"])"
   ]
  },
  {
   "cell_type": "markdown",
   "id": "85993931-2442-4eef-a96e-291448db37e1",
   "metadata": {},
   "source": [
    "## Load Data"
   ]
  },
  {
   "cell_type": "code",
   "execution_count": 3,
   "id": "57d3b08f-abfb-4715-9332-b58fe2c4b6fa",
   "metadata": {
    "execution": {
     "iopub.execute_input": "2025-10-24T11:51:18.481311Z",
     "iopub.status.busy": "2025-10-24T11:51:18.480808Z",
     "iopub.status.idle": "2025-10-24T11:51:20.117728Z",
     "shell.execute_reply": "2025-10-24T11:51:20.116386Z"
    }
   },
   "outputs": [],
   "source": [
    "df = pd.read_csv(RAW_CSV)"
   ]
  },
  {
   "cell_type": "markdown",
   "id": "11503415-bcc7-4f70-910b-0733b1730e92",
   "metadata": {},
   "source": [
    "## Basic Dataset Check"
   ]
  },
  {
   "cell_type": "code",
   "execution_count": 4,
   "id": "4cc6e5e9-0e18-4655-96a6-6c1da8e10e81",
   "metadata": {
    "execution": {
     "iopub.execute_input": "2025-10-24T11:51:20.121649Z",
     "iopub.status.busy": "2025-10-24T11:51:20.121185Z",
     "iopub.status.idle": "2025-10-24T11:51:20.153572Z",
     "shell.execute_reply": "2025-10-24T11:51:20.152174Z"
    }
   },
   "outputs": [
    {
     "data": {
      "text/html": [
       "<div>\n",
       "<style scoped>\n",
       "    .dataframe tbody tr th:only-of-type {\n",
       "        vertical-align: middle;\n",
       "    }\n",
       "\n",
       "    .dataframe tbody tr th {\n",
       "        vertical-align: top;\n",
       "    }\n",
       "\n",
       "    .dataframe thead th {\n",
       "        text-align: right;\n",
       "    }\n",
       "</style>\n",
       "<table border=\"1\" class=\"dataframe\">\n",
       "  <thead>\n",
       "    <tr style=\"text-align: right;\">\n",
       "      <th></th>\n",
       "      <th>review</th>\n",
       "      <th>sentiment</th>\n",
       "    </tr>\n",
       "  </thead>\n",
       "  <tbody>\n",
       "    <tr>\n",
       "      <th>0</th>\n",
       "      <td>One of the other reviewers has mentioned that ...</td>\n",
       "      <td>positive</td>\n",
       "    </tr>\n",
       "    <tr>\n",
       "      <th>1</th>\n",
       "      <td>A wonderful little production. &lt;br /&gt;&lt;br /&gt;The...</td>\n",
       "      <td>positive</td>\n",
       "    </tr>\n",
       "    <tr>\n",
       "      <th>2</th>\n",
       "      <td>I thought this was a wonderful way to spend ti...</td>\n",
       "      <td>positive</td>\n",
       "    </tr>\n",
       "    <tr>\n",
       "      <th>3</th>\n",
       "      <td>Basically there's a family where a little boy ...</td>\n",
       "      <td>negative</td>\n",
       "    </tr>\n",
       "    <tr>\n",
       "      <th>4</th>\n",
       "      <td>Petter Mattei's \"Love in the Time of Money\" is...</td>\n",
       "      <td>positive</td>\n",
       "    </tr>\n",
       "    <tr>\n",
       "      <th>...</th>\n",
       "      <td>...</td>\n",
       "      <td>...</td>\n",
       "    </tr>\n",
       "    <tr>\n",
       "      <th>49995</th>\n",
       "      <td>I thought this movie did a down right good job...</td>\n",
       "      <td>positive</td>\n",
       "    </tr>\n",
       "    <tr>\n",
       "      <th>49996</th>\n",
       "      <td>Bad plot, bad dialogue, bad acting, idiotic di...</td>\n",
       "      <td>negative</td>\n",
       "    </tr>\n",
       "    <tr>\n",
       "      <th>49997</th>\n",
       "      <td>I am a Catholic taught in parochial elementary...</td>\n",
       "      <td>negative</td>\n",
       "    </tr>\n",
       "    <tr>\n",
       "      <th>49998</th>\n",
       "      <td>I'm going to have to disagree with the previou...</td>\n",
       "      <td>negative</td>\n",
       "    </tr>\n",
       "    <tr>\n",
       "      <th>49999</th>\n",
       "      <td>No one expects the Star Trek movies to be high...</td>\n",
       "      <td>negative</td>\n",
       "    </tr>\n",
       "  </tbody>\n",
       "</table>\n",
       "<p>50000 rows × 2 columns</p>\n",
       "</div>"
      ],
      "text/plain": [
       "                                                  review sentiment\n",
       "0      One of the other reviewers has mentioned that ...  positive\n",
       "1      A wonderful little production. <br /><br />The...  positive\n",
       "2      I thought this was a wonderful way to spend ti...  positive\n",
       "3      Basically there's a family where a little boy ...  negative\n",
       "4      Petter Mattei's \"Love in the Time of Money\" is...  positive\n",
       "...                                                  ...       ...\n",
       "49995  I thought this movie did a down right good job...  positive\n",
       "49996  Bad plot, bad dialogue, bad acting, idiotic di...  negative\n",
       "49997  I am a Catholic taught in parochial elementary...  negative\n",
       "49998  I'm going to have to disagree with the previou...  negative\n",
       "49999  No one expects the Star Trek movies to be high...  negative\n",
       "\n",
       "[50000 rows x 2 columns]"
      ]
     },
     "execution_count": 4,
     "metadata": {},
     "output_type": "execute_result"
    }
   ],
   "source": [
    "df"
   ]
  },
  {
   "cell_type": "code",
   "execution_count": 5,
   "id": "900e9549-988f-4100-a597-4030287f7440",
   "metadata": {
    "execution": {
     "iopub.execute_input": "2025-10-24T11:51:20.157780Z",
     "iopub.status.busy": "2025-10-24T11:51:20.157326Z",
     "iopub.status.idle": "2025-10-24T11:51:20.235005Z",
     "shell.execute_reply": "2025-10-24T11:51:20.233490Z"
    }
   },
   "outputs": [
    {
     "name": "stdout",
     "output_type": "stream",
     "text": [
      "<class 'pandas.core.frame.DataFrame'>\n",
      "RangeIndex: 50000 entries, 0 to 49999\n",
      "Data columns (total 2 columns):\n",
      " #   Column     Non-Null Count  Dtype \n",
      "---  ------     --------------  ----- \n",
      " 0   review     50000 non-null  object\n",
      " 1   sentiment  50000 non-null  object\n",
      "dtypes: object(2)\n",
      "memory usage: 781.4+ KB\n"
     ]
    }
   ],
   "source": [
    "df.info()"
   ]
  },
  {
   "cell_type": "code",
   "execution_count": 6,
   "id": "d4b244f0-c025-48a4-a567-435621ba3cb9",
   "metadata": {
    "execution": {
     "iopub.execute_input": "2025-10-24T11:51:20.238818Z",
     "iopub.status.busy": "2025-10-24T11:51:20.238235Z",
     "iopub.status.idle": "2025-10-24T11:51:20.264057Z",
     "shell.execute_reply": "2025-10-24T11:51:20.261995Z"
    }
   },
   "outputs": [
    {
     "data": {
      "text/plain": [
       "review       0\n",
       "sentiment    0\n",
       "dtype: int64"
      ]
     },
     "execution_count": 6,
     "metadata": {},
     "output_type": "execute_result"
    }
   ],
   "source": [
    "df.isnull().sum()"
   ]
  },
  {
   "cell_type": "code",
   "execution_count": 7,
   "id": "e2041514-285d-461d-adbe-0e108fab032b",
   "metadata": {
    "execution": {
     "iopub.execute_input": "2025-10-24T11:51:20.267668Z",
     "iopub.status.busy": "2025-10-24T11:51:20.267268Z",
     "iopub.status.idle": "2025-10-24T11:51:20.432735Z",
     "shell.execute_reply": "2025-10-24T11:51:20.431134Z"
    }
   },
   "outputs": [
    {
     "data": {
      "text/html": [
       "<div>\n",
       "<style scoped>\n",
       "    .dataframe tbody tr th:only-of-type {\n",
       "        vertical-align: middle;\n",
       "    }\n",
       "\n",
       "    .dataframe tbody tr th {\n",
       "        vertical-align: top;\n",
       "    }\n",
       "\n",
       "    .dataframe thead th {\n",
       "        text-align: right;\n",
       "    }\n",
       "</style>\n",
       "<table border=\"1\" class=\"dataframe\">\n",
       "  <thead>\n",
       "    <tr style=\"text-align: right;\">\n",
       "      <th></th>\n",
       "      <th>review</th>\n",
       "      <th>sentiment</th>\n",
       "    </tr>\n",
       "  </thead>\n",
       "  <tbody>\n",
       "    <tr>\n",
       "      <th>count</th>\n",
       "      <td>50000</td>\n",
       "      <td>50000</td>\n",
       "    </tr>\n",
       "    <tr>\n",
       "      <th>unique</th>\n",
       "      <td>49582</td>\n",
       "      <td>2</td>\n",
       "    </tr>\n",
       "    <tr>\n",
       "      <th>top</th>\n",
       "      <td>Loved today's show!!! It was a variety and not...</td>\n",
       "      <td>positive</td>\n",
       "    </tr>\n",
       "    <tr>\n",
       "      <th>freq</th>\n",
       "      <td>5</td>\n",
       "      <td>25000</td>\n",
       "    </tr>\n",
       "  </tbody>\n",
       "</table>\n",
       "</div>"
      ],
      "text/plain": [
       "                                                   review sentiment\n",
       "count                                               50000     50000\n",
       "unique                                              49582         2\n",
       "top     Loved today's show!!! It was a variety and not...  positive\n",
       "freq                                                    5     25000"
      ]
     },
     "execution_count": 7,
     "metadata": {},
     "output_type": "execute_result"
    }
   ],
   "source": [
    "df.describe(include=[\"object\"])"
   ]
  },
  {
   "cell_type": "code",
   "execution_count": 8,
   "id": "d2a0c610-62d9-4169-9364-9713c2a7eb96",
   "metadata": {
    "execution": {
     "iopub.execute_input": "2025-10-24T11:51:20.436073Z",
     "iopub.status.busy": "2025-10-24T11:51:20.435659Z",
     "iopub.status.idle": "2025-10-24T11:51:20.724202Z",
     "shell.execute_reply": "2025-10-24T11:51:20.721868Z"
    }
   },
   "outputs": [
    {
     "data": {
      "text/html": [
       "<div>\n",
       "<style scoped>\n",
       "    .dataframe tbody tr th:only-of-type {\n",
       "        vertical-align: middle;\n",
       "    }\n",
       "\n",
       "    .dataframe tbody tr th {\n",
       "        vertical-align: top;\n",
       "    }\n",
       "\n",
       "    .dataframe thead th {\n",
       "        text-align: right;\n",
       "    }\n",
       "</style>\n",
       "<table border=\"1\" class=\"dataframe\">\n",
       "  <thead>\n",
       "    <tr style=\"text-align: right;\">\n",
       "      <th></th>\n",
       "      <th>review</th>\n",
       "      <th>sentiment</th>\n",
       "    </tr>\n",
       "  </thead>\n",
       "  <tbody>\n",
       "    <tr>\n",
       "      <th>3537</th>\n",
       "      <td>Quite what the producers of this appalling ada...</td>\n",
       "      <td>negative</td>\n",
       "    </tr>\n",
       "    <tr>\n",
       "      <th>3769</th>\n",
       "      <td>My favourite police series of all time turns t...</td>\n",
       "      <td>positive</td>\n",
       "    </tr>\n",
       "    <tr>\n",
       "      <th>4391</th>\n",
       "      <td>Beautiful film, pure Cassavetes style. Gena Ro...</td>\n",
       "      <td>positive</td>\n",
       "    </tr>\n",
       "    <tr>\n",
       "      <th>6352</th>\n",
       "      <td>If you liked the Grinch movie... go watch that...</td>\n",
       "      <td>negative</td>\n",
       "    </tr>\n",
       "    <tr>\n",
       "      <th>6479</th>\n",
       "      <td>I want very much to believe that the above quo...</td>\n",
       "      <td>negative</td>\n",
       "    </tr>\n",
       "    <tr>\n",
       "      <th>...</th>\n",
       "      <td>...</td>\n",
       "      <td>...</td>\n",
       "    </tr>\n",
       "    <tr>\n",
       "      <th>49912</th>\n",
       "      <td>This is an incredible piece of drama and power...</td>\n",
       "      <td>positive</td>\n",
       "    </tr>\n",
       "    <tr>\n",
       "      <th>49950</th>\n",
       "      <td>This was a very brief episode that appeared in...</td>\n",
       "      <td>negative</td>\n",
       "    </tr>\n",
       "    <tr>\n",
       "      <th>49984</th>\n",
       "      <td>Hello it is I Derrick Cannon and I welcome you...</td>\n",
       "      <td>negative</td>\n",
       "    </tr>\n",
       "    <tr>\n",
       "      <th>49986</th>\n",
       "      <td>This movie is a disgrace to the Major League F...</td>\n",
       "      <td>negative</td>\n",
       "    </tr>\n",
       "    <tr>\n",
       "      <th>49991</th>\n",
       "      <td>Les Visiteurs, the first movie about the medie...</td>\n",
       "      <td>negative</td>\n",
       "    </tr>\n",
       "  </tbody>\n",
       "</table>\n",
       "<p>418 rows × 2 columns</p>\n",
       "</div>"
      ],
      "text/plain": [
       "                                                  review sentiment\n",
       "3537   Quite what the producers of this appalling ada...  negative\n",
       "3769   My favourite police series of all time turns t...  positive\n",
       "4391   Beautiful film, pure Cassavetes style. Gena Ro...  positive\n",
       "6352   If you liked the Grinch movie... go watch that...  negative\n",
       "6479   I want very much to believe that the above quo...  negative\n",
       "...                                                  ...       ...\n",
       "49912  This is an incredible piece of drama and power...  positive\n",
       "49950  This was a very brief episode that appeared in...  negative\n",
       "49984  Hello it is I Derrick Cannon and I welcome you...  negative\n",
       "49986  This movie is a disgrace to the Major League F...  negative\n",
       "49991  Les Visiteurs, the first movie about the medie...  negative\n",
       "\n",
       "[418 rows x 2 columns]"
      ]
     },
     "execution_count": 8,
     "metadata": {},
     "output_type": "execute_result"
    }
   ],
   "source": [
    "df[df.duplicated()]"
   ]
  },
  {
   "cell_type": "markdown",
   "id": "547e5039-0be2-47e1-a168-e12fc82ada2f",
   "metadata": {},
   "source": [
    "## Sentiment Distribution"
   ]
  },
  {
   "cell_type": "code",
   "execution_count": 9,
   "id": "cad30c3b-f11b-4390-b94d-cce55365c326",
   "metadata": {
    "execution": {
     "iopub.execute_input": "2025-10-24T11:51:20.730237Z",
     "iopub.status.busy": "2025-10-24T11:51:20.729603Z",
     "iopub.status.idle": "2025-10-24T11:51:20.748673Z",
     "shell.execute_reply": "2025-10-24T11:51:20.745354Z"
    }
   },
   "outputs": [
    {
     "data": {
      "text/html": [
       "<div>\n",
       "<style scoped>\n",
       "    .dataframe tbody tr th:only-of-type {\n",
       "        vertical-align: middle;\n",
       "    }\n",
       "\n",
       "    .dataframe tbody tr th {\n",
       "        vertical-align: top;\n",
       "    }\n",
       "\n",
       "    .dataframe thead th {\n",
       "        text-align: right;\n",
       "    }\n",
       "</style>\n",
       "<table border=\"1\" class=\"dataframe\">\n",
       "  <thead>\n",
       "    <tr style=\"text-align: right;\">\n",
       "      <th></th>\n",
       "      <th>count</th>\n",
       "    </tr>\n",
       "    <tr>\n",
       "      <th>sentiment</th>\n",
       "      <th></th>\n",
       "    </tr>\n",
       "  </thead>\n",
       "  <tbody>\n",
       "    <tr>\n",
       "      <th>positive</th>\n",
       "      <td>25000</td>\n",
       "    </tr>\n",
       "    <tr>\n",
       "      <th>negative</th>\n",
       "      <td>25000</td>\n",
       "    </tr>\n",
       "  </tbody>\n",
       "</table>\n",
       "</div>"
      ],
      "text/plain": [
       "           count\n",
       "sentiment       \n",
       "positive   25000\n",
       "negative   25000"
      ]
     },
     "execution_count": 9,
     "metadata": {},
     "output_type": "execute_result"
    }
   ],
   "source": [
    "sd = pd.DataFrame(df['sentiment'].value_counts())\n",
    "sd"
   ]
  },
  {
   "cell_type": "code",
   "execution_count": 10,
   "id": "e38b0372-dd8e-41b1-8e8f-4f25729b11ec",
   "metadata": {
    "execution": {
     "iopub.execute_input": "2025-10-24T11:51:20.752858Z",
     "iopub.status.busy": "2025-10-24T11:51:20.752473Z",
     "iopub.status.idle": "2025-10-24T11:51:21.588417Z",
     "shell.execute_reply": "2025-10-24T11:51:21.586727Z"
    }
   },
   "outputs": [
    {
     "data": {
      "image/png": "[encoded data removed]",
      "text/plain": [
       "<Figure size 640x480 with 1 Axes>"
      ]
     },
     "metadata": {},
     "output_type": "display_data"
    }
   ],
   "source": [
    "sns.barplot(x='sentiment', y='count', data=sd, hue='sentiment')\n",
    "plt.title(\"Sentiment Distribution\")\n",
    "if SAVE_FIG:\n",
    "    plt.savefig(os.path.join(FIG_SAVE_DIR, 'Sentiment_Distribution.png'))\n",
    "plt.show()"
   ]
  },
  {
   "cell_type": "markdown",
   "id": "1eab1c06-c4ff-4798-a0f5-36950adbe076",
   "metadata": {},
   "source": [
    "## Text Characteristics"
   ]
  },
  {
   "cell_type": "markdown",
   "id": "8f6d230f-b984-47bd-bfc0-98a7c7ebe0b8",
   "metadata": {},
   "source": [
    "### Calculating Number of Charecters"
   ]
  },
  {
   "cell_type": "code",
   "execution_count": 11,
   "id": "e28e2859-6c60-490e-a6d0-9d229516a2be",
   "metadata": {
    "execution": {
     "iopub.execute_input": "2025-10-24T11:51:21.593716Z",
     "iopub.status.busy": "2025-10-24T11:51:21.592956Z",
     "iopub.status.idle": "2025-10-24T11:51:21.605558Z",
     "shell.execute_reply": "2025-10-24T11:51:21.603767Z"
    }
   },
   "outputs": [
    {
     "data": {
      "text/plain": [
       "\"Outside the household is a different world and the family struggle to tread the line between Dads authority and their hopes and dreams.<br /><br /> The period is captured; The bakelite light swithes, the Georgian floorpan, the picture rails, the wall paper, the short skirts, the cheeky lads, the Mini van, shiny modern mangles....<br /><br /> The location is captured; A wind lashed glacier hewn rocky landscape, walls of local stone, community, freedom.<br /><br /> But there is much much more; Childhood, happiness, sensuality, pride, values, freedom, authority, rebellion, violence (in the deepest sense), love, struggle, puberty, naivety, morality, trust, faith, deceit, machismo, manners, maturity, loss, poverty, sacrifice, horror, acceptence, revelation, comedy and parenthood are all there. (And in no particular order!).<br /><br /> This film is a richly woven expression of family tensions that are as relevent today as ever. The fact that some of these aren't tackled directly is testament in itself to the attitudes of the day but the fact that they are all here is a testament to the acting skill, the story and the direction.<br /><br /> If there's anything bad about this film, it's that all this deeply entrenched and wonderfully enacted tension is swept away a little too lightly towards the end. Maybe I missunderstand - the doom and gloom felt by many teenagers really does disappear if they deal with it (**) - maybe the film is trying to send even that message too - well worth doing.<br /><br /> What is the film trying to say? Kids: Parents were young too, parents struggle too, everyone makes mistakes, everyone learns, things change, struggle can end happily. Parents: Don't try too hard! Try to remember that your support is the key to their well being.<br /><br /> It sounds simplistic doesn't it? Sometimes the film feels like that too but it's then that you notice how much is being being challenged and uncovered.<br /><br /> The film is a classic.<br /><br />(**) - Not the problems themsleves.\""
      ]
     },
     "execution_count": 11,
     "metadata": {},
     "output_type": "execute_result"
    }
   ],
   "source": [
    "n = random.choice(df.index.values.tolist())\n",
    "df.iloc[n]['review']"
   ]
  },
  {
   "cell_type": "code",
   "execution_count": 12,
   "id": "ab94595f-cdd8-4180-af2b-be9c4f746b46",
   "metadata": {
    "execution": {
     "iopub.execute_input": "2025-10-24T11:51:21.610773Z",
     "iopub.status.busy": "2025-10-24T11:51:21.610224Z",
     "iopub.status.idle": "2025-10-24T11:51:21.637789Z",
     "shell.execute_reply": "2025-10-24T11:51:21.636136Z"
    },
    "scrolled": true
   },
   "outputs": [
    {
     "data": {
      "text/plain": [
       "['O',\n",
       " 'u',\n",
       " 't',\n",
       " 's',\n",
       " 'i',\n",
       " 'd',\n",
       " 'e',\n",
       " 't',\n",
       " 'h',\n",
       " 'e',\n",
       " 'h',\n",
       " 'o',\n",
       " 'u',\n",
       " 's',\n",
       " 'e',\n",
       " 'h',\n",
       " 'o',\n",
       " 'l',\n",
       " 'd',\n",
       " 'i',\n",
       " 's',\n",
       " 'a',\n",
       " 'd',\n",
       " 'i',\n",
       " 'f',\n",
       " 'f',\n",
       " 'e',\n",
       " 'r',\n",
       " 'e',\n",
       " 'n',\n",
       " 't',\n",
       " 'w',\n",
       " 'o',\n",
       " 'r',\n",
       " 'l',\n",
       " 'd',\n",
       " 'a',\n",
       " 'n',\n",
       " 'd',\n",
       " 't',\n",
       " 'h',\n",
       " 'e',\n",
       " 'f',\n",
       " 'a',\n",
       " 'm',\n",
       " 'i',\n",
       " 'l',\n",
       " 'y',\n",
       " 's',\n",
       " 't',\n",
       " 'r',\n",
       " 'u',\n",
       " 'g',\n",
       " 'g',\n",
       " 'l',\n",
       " 'e',\n",
       " 't',\n",
       " 'o',\n",
       " 't',\n",
       " 'r',\n",
       " 'e',\n",
       " 'a',\n",
       " 'd',\n",
       " 't',\n",
       " 'h',\n",
       " 'e',\n",
       " 'l',\n",
       " 'i',\n",
       " 'n',\n",
       " 'e',\n",
       " 'b',\n",
       " 'e',\n",
       " 't',\n",
       " 'w',\n",
       " 'e',\n",
       " 'e',\n",
       " 'n',\n",
       " 'D',\n",
       " 'a',\n",
       " 'd',\n",
       " 's',\n",
       " 'a',\n",
       " 'u',\n",
       " 't',\n",
       " 'h',\n",
       " 'o',\n",
       " 'r',\n",
       " 'i',\n",
       " 't',\n",
       " 'y',\n",
       " 'a',\n",
       " 'n',\n",
       " 'd',\n",
       " 't',\n",
       " 'h',\n",
       " 'e',\n",
       " 'i',\n",
       " 'r',\n",
       " 'h',\n",
       " 'o',\n",
       " 'p',\n",
       " 'e',\n",
       " 's',\n",
       " 'a',\n",
       " 'n',\n",
       " 'd',\n",
       " 'd',\n",
       " 'r',\n",
       " 'e',\n",
       " 'a',\n",
       " 'm',\n",
       " 's',\n",
       " 'b',\n",
       " 'r',\n",
       " 'b',\n",
       " 'r',\n",
       " 'T',\n",
       " 'h',\n",
       " 'e',\n",
       " 'p',\n",
       " 'e',\n",
       " 'r',\n",
       " 'i',\n",
       " 'o',\n",
       " 'd',\n",
       " 'i',\n",
       " 's',\n",
       " 'c',\n",
       " 'a',\n",
       " 'p',\n",
       " 't',\n",
       " 'u',\n",
       " 'r',\n",
       " 'e',\n",
       " 'd',\n",
       " 'T',\n",
       " 'h',\n",
       " 'e',\n",
       " 'b',\n",
       " 'a',\n",
       " 'k',\n",
       " 'e',\n",
       " 'l',\n",
       " 'i',\n",
       " 't',\n",
       " 'e',\n",
       " 'l',\n",
       " 'i',\n",
       " 'g',\n",
       " 'h',\n",
       " 't',\n",
       " 's',\n",
       " 'w',\n",
       " 'i',\n",
       " 't',\n",
       " 'h',\n",
       " 'e',\n",
       " 's',\n",
       " 't',\n",
       " 'h',\n",
       " 'e',\n",
       " 'G',\n",
       " 'e',\n",
       " 'o',\n",
       " 'r',\n",
       " 'g',\n",
       " 'i',\n",
       " 'a',\n",
       " 'n',\n",
       " 'f',\n",
       " 'l',\n",
       " 'o',\n",
       " 'o',\n",
       " 'r',\n",
       " 'p',\n",
       " 'a',\n",
       " 'n',\n",
       " 't',\n",
       " 'h',\n",
       " 'e',\n",
       " 'p',\n",
       " 'i',\n",
       " 'c',\n",
       " 't',\n",
       " 'u',\n",
       " 'r',\n",
       " 'e',\n",
       " 'r',\n",
       " 'a',\n",
       " 'i',\n",
       " 'l',\n",
       " 's',\n",
       " 't',\n",
       " 'h',\n",
       " 'e',\n",
       " 'w',\n",
       " 'a',\n",
       " 'l',\n",
       " 'l',\n",
       " 'p',\n",
       " 'a',\n",
       " 'p',\n",
       " 'e',\n",
       " 'r',\n",
       " 't',\n",
       " 'h',\n",
       " 'e',\n",
       " 's',\n",
       " 'h',\n",
       " 'o',\n",
       " 'r',\n",
       " 't',\n",
       " 's',\n",
       " 'k',\n",
       " 'i',\n",
       " 'r',\n",
       " 't',\n",
       " 's',\n",
       " 't',\n",
       " 'h',\n",
       " 'e',\n",
       " 'c',\n",
       " 'h',\n",
       " 'e',\n",
       " 'e',\n",
       " 'k',\n",
       " 'y',\n",
       " 'l',\n",
       " 'a',\n",
       " 'd',\n",
       " 's',\n",
       " 't',\n",
       " 'h',\n",
       " 'e',\n",
       " 'M',\n",
       " 'i',\n",
       " 'n',\n",
       " 'i',\n",
       " 'v',\n",
       " 'a',\n",
       " 'n',\n",
       " 's',\n",
       " 'h',\n",
       " 'i',\n",
       " 'n',\n",
       " 'y',\n",
       " 'm',\n",
       " 'o',\n",
       " 'd',\n",
       " 'e',\n",
       " 'r',\n",
       " 'n',\n",
       " 'm',\n",
       " 'a',\n",
       " 'n',\n",
       " 'g',\n",
       " 'l',\n",
       " 'e',\n",
       " 's',\n",
       " 'b',\n",
       " 'r',\n",
       " 'b',\n",
       " 'r',\n",
       " 'T',\n",
       " 'h',\n",
       " 'e',\n",
       " 'l',\n",
       " 'o',\n",
       " 'c',\n",
       " 'a',\n",
       " 't',\n",
       " 'i',\n",
       " 'o',\n",
       " 'n',\n",
       " 'i',\n",
       " 's',\n",
       " 'c',\n",
       " 'a',\n",
       " 'p',\n",
       " 't',\n",
       " 'u',\n",
       " 'r',\n",
       " 'e',\n",
       " 'd',\n",
       " 'A',\n",
       " 'w',\n",
       " 'i',\n",
       " 'n',\n",
       " 'd',\n",
       " 'l',\n",
       " 'a',\n",
       " 's',\n",
       " 'h',\n",
       " 'e',\n",
       " 'd',\n",
       " 'g',\n",
       " 'l',\n",
       " 'a',\n",
       " 'c',\n",
       " 'i',\n",
       " 'e',\n",
       " 'r',\n",
       " 'h',\n",
       " 'e',\n",
       " 'w',\n",
       " 'n',\n",
       " 'r',\n",
       " 'o',\n",
       " 'c',\n",
       " 'k',\n",
       " 'y',\n",
       " 'l',\n",
       " 'a',\n",
       " 'n',\n",
       " 'd',\n",
       " 's',\n",
       " 'c',\n",
       " 'a',\n",
       " 'p',\n",
       " 'e',\n",
       " 'w',\n",
       " 'a',\n",
       " 'l',\n",
       " 'l',\n",
       " 's',\n",
       " 'o',\n",
       " 'f',\n",
       " 'l',\n",
       " 'o',\n",
       " 'c',\n",
       " 'a',\n",
       " 'l',\n",
       " 's',\n",
       " 't',\n",
       " 'o',\n",
       " 'n',\n",
       " 'e',\n",
       " 'c',\n",
       " 'o',\n",
       " 'm',\n",
       " 'm',\n",
       " 'u',\n",
       " 'n',\n",
       " 'i',\n",
       " 't',\n",
       " 'y',\n",
       " 'f',\n",
       " 'r',\n",
       " 'e',\n",
       " 'e',\n",
       " 'd',\n",
       " 'o',\n",
       " 'm',\n",
       " 'b',\n",
       " 'r',\n",
       " 'b',\n",
       " 'r',\n",
       " 'B',\n",
       " 'u',\n",
       " 't',\n",
       " 't',\n",
       " 'h',\n",
       " 'e',\n",
       " 'r',\n",
       " 'e',\n",
       " 'i',\n",
       " 's',\n",
       " 'm',\n",
       " 'u',\n",
       " 'c',\n",
       " 'h',\n",
       " 'm',\n",
       " 'u',\n",
       " 'c',\n",
       " 'h',\n",
       " 'm',\n",
       " 'o',\n",
       " 'r',\n",
       " 'e',\n",
       " 'C',\n",
       " 'h',\n",
       " 'i',\n",
       " 'l',\n",
       " 'd',\n",
       " 'h',\n",
       " 'o',\n",
       " 'o',\n",
       " 'd',\n",
       " 'h',\n",
       " 'a',\n",
       " 'p',\n",
       " 'p',\n",
       " 'i',\n",
       " 'n',\n",
       " 'e',\n",
       " 's',\n",
       " 's',\n",
       " 's',\n",
       " 'e',\n",
       " 'n',\n",
       " 's',\n",
       " 'u',\n",
       " 'a',\n",
       " 'l',\n",
       " 'i',\n",
       " 't',\n",
       " 'y',\n",
       " 'p',\n",
       " 'r',\n",
       " 'i',\n",
       " 'd',\n",
       " 'e',\n",
       " 'v',\n",
       " 'a',\n",
       " 'l',\n",
       " 'u',\n",
       " 'e',\n",
       " 's',\n",
       " 'f',\n",
       " 'r',\n",
       " 'e',\n",
       " 'e',\n",
       " 'd',\n",
       " 'o',\n",
       " 'm',\n",
       " 'a',\n",
       " 'u',\n",
       " 't',\n",
       " 'h',\n",
       " 'o',\n",
       " 'r',\n",
       " 'i',\n",
       " 't',\n",
       " 'y',\n",
       " 'r',\n",
       " 'e',\n",
       " 'b',\n",
       " 'e',\n",
       " 'l',\n",
       " 'l',\n",
       " 'i',\n",
       " 'o',\n",
       " 'n',\n",
       " 'v',\n",
       " 'i',\n",
       " 'o',\n",
       " 'l',\n",
       " 'e',\n",
       " 'n',\n",
       " 'c',\n",
       " 'e',\n",
       " 'i',\n",
       " 'n',\n",
       " 't',\n",
       " 'h',\n",
       " 'e',\n",
       " 'd',\n",
       " 'e',\n",
       " 'e',\n",
       " 'p',\n",
       " 'e',\n",
       " 's',\n",
       " 't',\n",
       " 's',\n",
       " 'e',\n",
       " 'n',\n",
       " 's',\n",
       " 'e',\n",
       " 'l',\n",
       " 'o',\n",
       " 'v',\n",
       " 'e',\n",
       " 's',\n",
       " 't',\n",
       " 'r',\n",
       " 'u',\n",
       " 'g',\n",
       " 'g',\n",
       " 'l',\n",
       " 'e',\n",
       " 'p',\n",
       " 'u',\n",
       " 'b',\n",
       " 'e',\n",
       " 'r',\n",
       " 't',\n",
       " 'y',\n",
       " 'n',\n",
       " 'a',\n",
       " 'i',\n",
       " 'v',\n",
       " 'e',\n",
       " 't',\n",
       " 'y',\n",
       " 'm',\n",
       " 'o',\n",
       " 'r',\n",
       " 'a',\n",
       " 'l',\n",
       " 'i',\n",
       " 't',\n",
       " 'y',\n",
       " 't',\n",
       " 'r',\n",
       " 'u',\n",
       " 's',\n",
       " 't',\n",
       " 'f',\n",
       " 'a',\n",
       " 'i',\n",
       " 't',\n",
       " 'h',\n",
       " 'd',\n",
       " 'e',\n",
       " 'c',\n",
       " 'e',\n",
       " 'i',\n",
       " 't',\n",
       " 'm',\n",
       " 'a',\n",
       " 'c',\n",
       " 'h',\n",
       " 'i',\n",
       " 's',\n",
       " 'm',\n",
       " 'o',\n",
       " 'm',\n",
       " 'a',\n",
       " 'n',\n",
       " 'n',\n",
       " 'e',\n",
       " 'r',\n",
       " 's',\n",
       " 'm',\n",
       " 'a',\n",
       " 't',\n",
       " 'u',\n",
       " 'r',\n",
       " 'i',\n",
       " 't',\n",
       " 'y',\n",
       " 'l',\n",
       " 'o',\n",
       " 's',\n",
       " 's',\n",
       " 'p',\n",
       " 'o',\n",
       " 'v',\n",
       " 'e',\n",
       " 'r',\n",
       " 't',\n",
       " 'y',\n",
       " 's',\n",
       " 'a',\n",
       " 'c',\n",
       " 'r',\n",
       " 'i',\n",
       " 'f',\n",
       " 'i',\n",
       " 'c',\n",
       " 'e',\n",
       " 'h',\n",
       " 'o',\n",
       " 'r',\n",
       " 'r',\n",
       " 'o',\n",
       " 'r',\n",
       " 'a',\n",
       " 'c',\n",
       " 'c',\n",
       " 'e',\n",
       " 'p',\n",
       " 't',\n",
       " 'e',\n",
       " 'n',\n",
       " 'c',\n",
       " 'e',\n",
       " 'r',\n",
       " 'e',\n",
       " 'v',\n",
       " 'e',\n",
       " 'l',\n",
       " 'a',\n",
       " 't',\n",
       " 'i',\n",
       " 'o',\n",
       " 'n',\n",
       " 'c',\n",
       " 'o',\n",
       " 'm',\n",
       " 'e',\n",
       " 'd',\n",
       " 'y',\n",
       " 'a',\n",
       " 'n',\n",
       " 'd',\n",
       " 'p',\n",
       " 'a',\n",
       " 'r',\n",
       " 'e',\n",
       " 'n',\n",
       " 't',\n",
       " 'h',\n",
       " 'o',\n",
       " 'o',\n",
       " 'd',\n",
       " 'a',\n",
       " 'r',\n",
       " 'e',\n",
       " 'a',\n",
       " 'l',\n",
       " 'l',\n",
       " 't',\n",
       " 'h',\n",
       " 'e',\n",
       " 'r',\n",
       " 'e',\n",
       " 'A',\n",
       " 'n',\n",
       " 'd',\n",
       " 'i',\n",
       " 'n',\n",
       " 'n',\n",
       " 'o',\n",
       " 'p',\n",
       " 'a',\n",
       " 'r',\n",
       " 't',\n",
       " 'i',\n",
       " 'c',\n",
       " 'u',\n",
       " 'l',\n",
       " 'a',\n",
       " 'r',\n",
       " 'o',\n",
       " 'r',\n",
       " 'd',\n",
       " 'e',\n",
       " 'r',\n",
       " 'b',\n",
       " 'r',\n",
       " 'b',\n",
       " 'r',\n",
       " 'T',\n",
       " 'h',\n",
       " 'i',\n",
       " 's',\n",
       " 'f',\n",
       " 'i',\n",
       " 'l',\n",
       " 'm',\n",
       " 'i',\n",
       " 's',\n",
       " 'a',\n",
       " 'r',\n",
       " 'i',\n",
       " 'c',\n",
       " 'h',\n",
       " 'l',\n",
       " 'y',\n",
       " 'w',\n",
       " 'o',\n",
       " 'v',\n",
       " 'e',\n",
       " 'n',\n",
       " 'e',\n",
       " 'x',\n",
       " 'p',\n",
       " 'r',\n",
       " 'e',\n",
       " 's',\n",
       " 's',\n",
       " 'i',\n",
       " 'o',\n",
       " 'n',\n",
       " 'o',\n",
       " 'f',\n",
       " 'f',\n",
       " 'a',\n",
       " 'm',\n",
       " 'i',\n",
       " 'l',\n",
       " 'y',\n",
       " 't',\n",
       " 'e',\n",
       " 'n',\n",
       " 's',\n",
       " 'i',\n",
       " 'o',\n",
       " 'n',\n",
       " 's',\n",
       " 't',\n",
       " 'h',\n",
       " 'a',\n",
       " 't',\n",
       " 'a',\n",
       " 'r',\n",
       " 'e',\n",
       " 'a',\n",
       " 's',\n",
       " 'r',\n",
       " 'e',\n",
       " 'l',\n",
       " 'e',\n",
       " 'v',\n",
       " 'e',\n",
       " 'n',\n",
       " 't',\n",
       " 't',\n",
       " 'o',\n",
       " 'd',\n",
       " 'a',\n",
       " 'y',\n",
       " 'a',\n",
       " 's',\n",
       " 'e',\n",
       " 'v',\n",
       " 'e',\n",
       " 'r',\n",
       " 'T',\n",
       " 'h',\n",
       " 'e',\n",
       " 'f',\n",
       " 'a',\n",
       " 'c',\n",
       " 't',\n",
       " 't',\n",
       " 'h',\n",
       " 'a',\n",
       " 't',\n",
       " 's',\n",
       " 'o',\n",
       " 'm',\n",
       " 'e',\n",
       " 'o',\n",
       " 'f',\n",
       " 't',\n",
       " 'h',\n",
       " 'e',\n",
       " 's',\n",
       " 'e',\n",
       " 'a',\n",
       " 'r',\n",
       " 'e',\n",
       " 'n',\n",
       " 't',\n",
       " 't',\n",
       " 'a',\n",
       " 'c',\n",
       " 'k',\n",
       " 'l',\n",
       " 'e',\n",
       " 'd',\n",
       " 'd',\n",
       " 'i',\n",
       " 'r',\n",
       " 'e',\n",
       " 'c',\n",
       " 't',\n",
       " 'l',\n",
       " 'y',\n",
       " 'i',\n",
       " 's',\n",
       " 't',\n",
       " 'e',\n",
       " 's',\n",
       " 't',\n",
       " 'a',\n",
       " 'm',\n",
       " 'e',\n",
       " 'n',\n",
       " 't',\n",
       " 'i',\n",
       " 'n',\n",
       " 'i',\n",
       " 't',\n",
       " 's',\n",
       " 'e',\n",
       " 'l',\n",
       " 'f',\n",
       " 't',\n",
       " 'o',\n",
       " 't',\n",
       " 'h',\n",
       " 'e',\n",
       " 'a',\n",
       " 't',\n",
       " 't',\n",
       " 'i',\n",
       " 't',\n",
       " 'u',\n",
       " 'd',\n",
       " 'e',\n",
       " 's',\n",
       " 'o',\n",
       " 'f',\n",
       " 't',\n",
       " 'h',\n",
       " 'e',\n",
       " 'd',\n",
       " 'a',\n",
       " 'y',\n",
       " 'b',\n",
       " 'u',\n",
       " 't',\n",
       " 't',\n",
       " 'h',\n",
       " 'e',\n",
       " 'f',\n",
       " 'a',\n",
       " 'c',\n",
       " 't',\n",
       " 't',\n",
       " 'h',\n",
       " 'a',\n",
       " 't',\n",
       " 't',\n",
       " 'h',\n",
       " 'e',\n",
       " 'y',\n",
       " 'a',\n",
       " 'r',\n",
       " 'e',\n",
       " 'a',\n",
       " 'l',\n",
       " 'l',\n",
       " 'h',\n",
       " 'e',\n",
       " 'r',\n",
       " 'e',\n",
       " 'i',\n",
       " 's',\n",
       " 'a',\n",
       " 't',\n",
       " 'e',\n",
       " 's',\n",
       " 't',\n",
       " 'a',\n",
       " 'm',\n",
       " 'e',\n",
       " 'n',\n",
       " 't',\n",
       " 't',\n",
       " 'o',\n",
       " 't',\n",
       " 'h',\n",
       " 'e',\n",
       " 'a',\n",
       " 'c',\n",
       " 't',\n",
       " 'i',\n",
       " 'n',\n",
       " 'g',\n",
       " 's',\n",
       " 'k',\n",
       " 'i',\n",
       " 'l',\n",
       " 'l',\n",
       " 't',\n",
       " 'h',\n",
       " 'e',\n",
       " 's',\n",
       " 't',\n",
       " 'o',\n",
       " 'r',\n",
       " 'y',\n",
       " 'a',\n",
       " 'n',\n",
       " 'd',\n",
       " 't',\n",
       " 'h',\n",
       " 'e',\n",
       " 'd',\n",
       " 'i',\n",
       " 'r',\n",
       " 'e',\n",
       " 'c',\n",
       " 't',\n",
       " 'i',\n",
       " 'o',\n",
       " 'n',\n",
       " 'b',\n",
       " 'r',\n",
       " 'b',\n",
       " 'r',\n",
       " 'I',\n",
       " 'f',\n",
       " 't',\n",
       " 'h',\n",
       " 'e',\n",
       " 'r',\n",
       " 'e',\n",
       " 's',\n",
       " 'a',\n",
       " 'n',\n",
       " 'y',\n",
       " 't',\n",
       " 'h',\n",
       " 'i',\n",
       " 'n',\n",
       " 'g',\n",
       " 'b',\n",
       " 'a',\n",
       " 'd',\n",
       " 'a',\n",
       " 'b',\n",
       " 'o',\n",
       " 'u',\n",
       " 't',\n",
       " 't',\n",
       " 'h',\n",
       " 'i',\n",
       " 's',\n",
       " 'f',\n",
       " 'i',\n",
       " 'l',\n",
       " 'm',\n",
       " 'i',\n",
       " 't',\n",
       " 's',\n",
       " 't',\n",
       " 'h',\n",
       " 'a',\n",
       " 't',\n",
       " 'a',\n",
       " 'l',\n",
       " 'l',\n",
       " 't',\n",
       " 'h',\n",
       " 'i',\n",
       " 's',\n",
       " 'd',\n",
       " 'e',\n",
       " 'e',\n",
       " 'p',\n",
       " 'l',\n",
       " 'y',\n",
       " 'e',\n",
       " 'n',\n",
       " 't',\n",
       " 'r',\n",
       " 'e',\n",
       " 'n',\n",
       " 'c',\n",
       " 'h',\n",
       " 'e',\n",
       " 'd',\n",
       " 'a',\n",
       " 'n',\n",
       " 'd',\n",
       " 'w',\n",
       " 'o',\n",
       " 'n',\n",
       " 'd',\n",
       " 'e',\n",
       " 'r',\n",
       " 'f',\n",
       " 'u',\n",
       " 'l',\n",
       " 'l',\n",
       " 'y',\n",
       " 'e',\n",
       " 'n',\n",
       " 'a',\n",
       " 'c',\n",
       " 't',\n",
       " 'e',\n",
       " 'd',\n",
       " 't',\n",
       " 'e',\n",
       " 'n',\n",
       " 's',\n",
       " 'i',\n",
       " 'o',\n",
       " 'n',\n",
       " 'i',\n",
       " 's',\n",
       " 's',\n",
       " 'w',\n",
       " 'e',\n",
       " 'p',\n",
       " 't',\n",
       " 'a',\n",
       " 'w',\n",
       " 'a',\n",
       " 'y',\n",
       " 'a',\n",
       " 'l',\n",
       " 'i',\n",
       " 't',\n",
       " 't',\n",
       " 'l',\n",
       " 'e',\n",
       " 't',\n",
       " 'o',\n",
       " 'o',\n",
       " 'l',\n",
       " 'i',\n",
       " 'g',\n",
       " 'h',\n",
       " ...]"
      ]
     },
     "execution_count": 12,
     "metadata": {},
     "output_type": "execute_result"
    }
   ],
   "source": [
    "get_charecters(df.iloc[n]['review'])"
   ]
  },
  {
   "cell_type": "code",
   "execution_count": 13,
   "id": "ec66a197-53a7-41fd-9cac-3d8afc97cb9d",
   "metadata": {
    "execution": {
     "iopub.execute_input": "2025-10-24T11:51:21.642615Z",
     "iopub.status.busy": "2025-10-24T11:51:21.642114Z",
     "iopub.status.idle": "2025-10-24T11:51:21.651810Z",
     "shell.execute_reply": "2025-10-24T11:51:21.650237Z"
    }
   },
   "outputs": [
    {
     "data": {
      "text/plain": [
       "1548"
      ]
     },
     "execution_count": 13,
     "metadata": {},
     "output_type": "execute_result"
    }
   ],
   "source": [
    "count_charecters(df.iloc[n]['review'])"
   ]
  },
  {
   "cell_type": "code",
   "execution_count": 14,
   "id": "67c422d1-21e7-4efb-bd13-3e4fd2b5fa11",
   "metadata": {
    "execution": {
     "iopub.execute_input": "2025-10-24T11:51:21.655954Z",
     "iopub.status.busy": "2025-10-24T11:51:21.655394Z",
     "iopub.status.idle": "2025-10-24T11:51:33.527859Z",
     "shell.execute_reply": "2025-10-24T11:51:33.525284Z"
    }
   },
   "outputs": [
    {
     "data": {
      "text/plain": [
       "0        1377\n",
       "1         793\n",
       "2         721\n",
       "3         569\n",
       "4        1032\n",
       "         ... \n",
       "49995     769\n",
       "49996     505\n",
       "49997    1006\n",
       "49998     995\n",
       "49999     526\n",
       "Name: review_charecters_len, Length: 50000, dtype: int64"
      ]
     },
     "execution_count": 14,
     "metadata": {},
     "output_type": "execute_result"
    }
   ],
   "source": [
    "df['review_charecters_len'] = df['review'].apply(count_charecters)\n",
    "df['review_charecters_len']"
   ]
  },
  {
   "cell_type": "code",
   "execution_count": 15,
   "id": "140a137f-2a33-4ef7-b23e-339579676daa",
   "metadata": {
    "execution": {
     "iopub.execute_input": "2025-10-24T11:51:33.532628Z",
     "iopub.status.busy": "2025-10-24T11:51:33.532205Z",
     "iopub.status.idle": "2025-10-24T11:51:33.540778Z",
     "shell.execute_reply": "2025-10-24T11:51:33.538346Z"
    }
   },
   "outputs": [
    {
     "data": {
      "text/plain": [
       "np.int64(1548)"
      ]
     },
     "execution_count": 15,
     "metadata": {},
     "output_type": "execute_result"
    }
   ],
   "source": [
    "df.iloc[n]['review_charecters_len']"
   ]
  },
  {
   "cell_type": "markdown",
   "id": "3dc13331-2839-4cfc-a40f-954ad743c83b",
   "metadata": {},
   "source": [
    "### Calculating Number of Words"
   ]
  },
  {
   "cell_type": "code",
   "execution_count": 16,
   "id": "6acc93b3-c91d-465d-ab61-e4833cfdeb10",
   "metadata": {
    "execution": {
     "iopub.execute_input": "2025-10-24T11:51:33.546907Z",
     "iopub.status.busy": "2025-10-24T11:51:33.546426Z",
     "iopub.status.idle": "2025-10-24T11:51:33.557823Z",
     "shell.execute_reply": "2025-10-24T11:51:33.555151Z"
    }
   },
   "outputs": [
    {
     "data": {
      "text/plain": [
       "\"THE SECRET OF KELLS may be the most exquisite film I have seen since THE TRIPLETS OF BELLEVILLE. Although stylistically very different, KELLS shares with TRIPLETS and (the jaw-dropping opening 2D sequence of) KUNG FU PANDA, incredible art direction, production design, background/layout and a richness in color that is a feast for one's senses. KELLS is so lavish -- almost Gothic in its layout (somewhat reminiscent of Klimt), wonderfully flat in general overall perspective, ornate in its Celtic & illuminated design, yet the characters are so simplistic and appealing -- AND it all works together beautifully. You fall in love with the characters from the moment you meet them. You are so drawn to every detail of the story and to every stroke of the pencil & brush. What Tomm, Nora, Ross, Paul and all at Cartoon Saloon (& their extended crews) have achieved with this small budget/VERY small crewed film, is absolutely astounding. The groundswell of support amongst our animation community is phenomenal. This film is breathtaking and the buzz amongst our colleagues in recommending this film is spreading like wildfire. Congratulations to KELLS on its many accolades, its Annie nomination as well as its current Oscar qualifying run. They are all very well-deserved nods, indeed...\""
      ]
     },
     "execution_count": 16,
     "metadata": {},
     "output_type": "execute_result"
    }
   ],
   "source": [
    "n = random.choice(df.index.values.tolist())\n",
    "df.iloc[n]['review']"
   ]
  },
  {
   "cell_type": "code",
   "execution_count": 17,
   "id": "d30046a4-5dfa-4205-b47e-21ee2bf0a9b4",
   "metadata": {
    "execution": {
     "iopub.execute_input": "2025-10-24T11:51:33.564537Z",
     "iopub.status.busy": "2025-10-24T11:51:33.564042Z",
     "iopub.status.idle": "2025-10-24T11:51:33.578392Z",
     "shell.execute_reply": "2025-10-24T11:51:33.575536Z"
    },
    "scrolled": true
   },
   "outputs": [
    {
     "data": {
      "text/plain": [
       "['THE',\n",
       " 'SECRET',\n",
       " 'OF',\n",
       " 'KELLS',\n",
       " 'may',\n",
       " 'be',\n",
       " 'the',\n",
       " 'most',\n",
       " 'exquisite',\n",
       " 'film',\n",
       " 'I',\n",
       " 'have',\n",
       " 'seen',\n",
       " 'since',\n",
       " 'THE',\n",
       " 'TRIPLETS',\n",
       " 'OF',\n",
       " 'BELLEVILLE',\n",
       " 'Although',\n",
       " 'stylistically',\n",
       " 'very',\n",
       " 'different',\n",
       " 'KELLS',\n",
       " 'shares',\n",
       " 'with',\n",
       " 'TRIPLETS',\n",
       " 'and',\n",
       " 'the',\n",
       " 'jaw',\n",
       " 'dropping',\n",
       " 'opening',\n",
       " '2D',\n",
       " 'sequence',\n",
       " 'of',\n",
       " 'KUNG',\n",
       " 'FU',\n",
       " 'PANDA',\n",
       " 'incredible',\n",
       " 'art',\n",
       " 'direction',\n",
       " 'production',\n",
       " 'design',\n",
       " 'background',\n",
       " 'layout',\n",
       " 'and',\n",
       " 'a',\n",
       " 'richness',\n",
       " 'in',\n",
       " 'color',\n",
       " 'that',\n",
       " 'is',\n",
       " 'a',\n",
       " 'feast',\n",
       " 'for',\n",
       " 'one',\n",
       " 's',\n",
       " 'senses',\n",
       " 'KELLS',\n",
       " 'is',\n",
       " 'so',\n",
       " 'lavish',\n",
       " 'almost',\n",
       " 'Gothic',\n",
       " 'in',\n",
       " 'its',\n",
       " 'layout',\n",
       " 'somewhat',\n",
       " 'reminiscent',\n",
       " 'of',\n",
       " 'Klimt',\n",
       " 'wonderfully',\n",
       " 'flat',\n",
       " 'in',\n",
       " 'general',\n",
       " 'overall',\n",
       " 'perspective',\n",
       " 'ornate',\n",
       " 'in',\n",
       " 'its',\n",
       " 'Celtic',\n",
       " 'illuminated',\n",
       " 'design',\n",
       " 'yet',\n",
       " 'the',\n",
       " 'characters',\n",
       " 'are',\n",
       " 'so',\n",
       " 'simplistic',\n",
       " 'and',\n",
       " 'appealing',\n",
       " 'AND',\n",
       " 'it',\n",
       " 'all',\n",
       " 'works',\n",
       " 'together',\n",
       " 'beautifully',\n",
       " 'You',\n",
       " 'fall',\n",
       " 'in',\n",
       " 'love',\n",
       " 'with',\n",
       " 'the',\n",
       " 'characters',\n",
       " 'from',\n",
       " 'the',\n",
       " 'moment',\n",
       " 'you',\n",
       " 'meet',\n",
       " 'them',\n",
       " 'You',\n",
       " 'are',\n",
       " 'so',\n",
       " 'drawn',\n",
       " 'to',\n",
       " 'every',\n",
       " 'detail',\n",
       " 'of',\n",
       " 'the',\n",
       " 'story',\n",
       " 'and',\n",
       " 'to',\n",
       " 'every',\n",
       " 'stroke',\n",
       " 'of',\n",
       " 'the',\n",
       " 'pencil',\n",
       " 'brush',\n",
       " 'What',\n",
       " 'Tomm',\n",
       " 'Nora',\n",
       " 'Ross',\n",
       " 'Paul',\n",
       " 'and',\n",
       " 'all',\n",
       " 'at',\n",
       " 'Cartoon',\n",
       " 'Saloon',\n",
       " 'their',\n",
       " 'extended',\n",
       " 'crews',\n",
       " 'have',\n",
       " 'achieved',\n",
       " 'with',\n",
       " 'this',\n",
       " 'small',\n",
       " 'budget',\n",
       " 'VERY',\n",
       " 'small',\n",
       " 'crewed',\n",
       " 'film',\n",
       " 'is',\n",
       " 'absolutely',\n",
       " 'astounding',\n",
       " 'The',\n",
       " 'groundswell',\n",
       " 'of',\n",
       " 'support',\n",
       " 'amongst',\n",
       " 'our',\n",
       " 'animation',\n",
       " 'community',\n",
       " 'is',\n",
       " 'phenomenal',\n",
       " 'This',\n",
       " 'film',\n",
       " 'is',\n",
       " 'breathtaking',\n",
       " 'and',\n",
       " 'the',\n",
       " 'buzz',\n",
       " 'amongst',\n",
       " 'our',\n",
       " 'colleagues',\n",
       " 'in',\n",
       " 'recommending',\n",
       " 'this',\n",
       " 'film',\n",
       " 'is',\n",
       " 'spreading',\n",
       " 'like',\n",
       " 'wildfire',\n",
       " 'Congratulations',\n",
       " 'to',\n",
       " 'KELLS',\n",
       " 'on',\n",
       " 'its',\n",
       " 'many',\n",
       " 'accolades',\n",
       " 'its',\n",
       " 'Annie',\n",
       " 'nomination',\n",
       " 'as',\n",
       " 'well',\n",
       " 'as',\n",
       " 'its',\n",
       " 'current',\n",
       " 'Oscar',\n",
       " 'qualifying',\n",
       " 'run',\n",
       " 'They',\n",
       " 'are',\n",
       " 'all',\n",
       " 'very',\n",
       " 'well',\n",
       " 'deserved',\n",
       " 'nods',\n",
       " 'indeed']"
      ]
     },
     "execution_count": 17,
     "metadata": {},
     "output_type": "execute_result"
    }
   ],
   "source": [
    "get_words(df.iloc[n]['review'])"
   ]
  },
  {
   "cell_type": "code",
   "execution_count": 18,
   "id": "3731a490-9d5d-47f8-8e54-d1126e844cb8",
   "metadata": {
    "execution": {
     "iopub.execute_input": "2025-10-24T11:51:33.582665Z",
     "iopub.status.busy": "2025-10-24T11:51:33.582293Z",
     "iopub.status.idle": "2025-10-24T11:51:33.589784Z",
     "shell.execute_reply": "2025-10-24T11:51:33.588279Z"
    }
   },
   "outputs": [
    {
     "data": {
      "text/plain": [
       "207"
      ]
     },
     "execution_count": 18,
     "metadata": {},
     "output_type": "execute_result"
    }
   ],
   "source": [
    "count_words(df.iloc[n]['review'])"
   ]
  },
  {
   "cell_type": "code",
   "execution_count": 19,
   "id": "f2752136-77af-4e3a-8400-a70aeb3d5b91",
   "metadata": {
    "execution": {
     "iopub.execute_input": "2025-10-24T11:51:33.597312Z",
     "iopub.status.busy": "2025-10-24T11:51:33.596745Z",
     "iopub.status.idle": "2025-10-24T11:51:39.095418Z",
     "shell.execute_reply": "2025-10-24T11:51:39.092411Z"
    }
   },
   "outputs": [
    {
     "data": {
      "text/plain": [
       "0        320\n",
       "1        166\n",
       "2        172\n",
       "3        141\n",
       "4        236\n",
       "        ... \n",
       "49995    205\n",
       "49996    115\n",
       "49997    240\n",
       "49998    217\n",
       "49999    129\n",
       "Name: review_word_len, Length: 50000, dtype: int64"
      ]
     },
     "execution_count": 19,
     "metadata": {},
     "output_type": "execute_result"
    }
   ],
   "source": [
    "df['review_word_len'] = df['review'].apply(count_words)\n",
    "df['review_word_len']"
   ]
  },
  {
   "cell_type": "code",
   "execution_count": 20,
   "id": "9eb537b3-e4a2-4c25-bdce-c77cf9f33cf9",
   "metadata": {
    "execution": {
     "iopub.execute_input": "2025-10-24T11:51:39.099316Z",
     "iopub.status.busy": "2025-10-24T11:51:39.098888Z",
     "iopub.status.idle": "2025-10-24T11:51:39.108343Z",
     "shell.execute_reply": "2025-10-24T11:51:39.105262Z"
    }
   },
   "outputs": [
    {
     "data": {
      "text/plain": [
       "np.int64(207)"
      ]
     },
     "execution_count": 20,
     "metadata": {},
     "output_type": "execute_result"
    }
   ],
   "source": [
    "df.iloc[n]['review_word_len']"
   ]
  },
  {
   "cell_type": "markdown",
   "id": "8df99ebc-cb76-4696-bbbf-4ff845a8ec16",
   "metadata": {},
   "source": [
    "### Describe"
   ]
  },
  {
   "cell_type": "code",
   "execution_count": 21,
   "id": "87e9ea8d-c272-4624-9927-962030b0dab4",
   "metadata": {
    "execution": {
     "iopub.execute_input": "2025-10-24T11:51:39.113476Z",
     "iopub.status.busy": "2025-10-24T11:51:39.112996Z",
     "iopub.status.idle": "2025-10-24T11:51:39.131170Z",
     "shell.execute_reply": "2025-10-24T11:51:39.128611Z"
    }
   },
   "outputs": [
    {
     "data": {
      "text/html": [
       "<div>\n",
       "<style scoped>\n",
       "    .dataframe tbody tr th:only-of-type {\n",
       "        vertical-align: middle;\n",
       "    }\n",
       "\n",
       "    .dataframe tbody tr th {\n",
       "        vertical-align: top;\n",
       "    }\n",
       "\n",
       "    .dataframe thead th {\n",
       "        text-align: right;\n",
       "    }\n",
       "</style>\n",
       "<table border=\"1\" class=\"dataframe\">\n",
       "  <thead>\n",
       "    <tr style=\"text-align: right;\">\n",
       "      <th></th>\n",
       "      <th>review</th>\n",
       "      <th>sentiment</th>\n",
       "      <th>review_charecters_len</th>\n",
       "      <th>review_word_len</th>\n",
       "    </tr>\n",
       "  </thead>\n",
       "  <tbody>\n",
       "    <tr>\n",
       "      <th>0</th>\n",
       "      <td>One of the other reviewers has mentioned that ...</td>\n",
       "      <td>positive</td>\n",
       "      <td>1377</td>\n",
       "      <td>320</td>\n",
       "    </tr>\n",
       "    <tr>\n",
       "      <th>1</th>\n",
       "      <td>A wonderful little production. &lt;br /&gt;&lt;br /&gt;The...</td>\n",
       "      <td>positive</td>\n",
       "      <td>793</td>\n",
       "      <td>166</td>\n",
       "    </tr>\n",
       "    <tr>\n",
       "      <th>2</th>\n",
       "      <td>I thought this was a wonderful way to spend ti...</td>\n",
       "      <td>positive</td>\n",
       "      <td>721</td>\n",
       "      <td>172</td>\n",
       "    </tr>\n",
       "    <tr>\n",
       "      <th>3</th>\n",
       "      <td>Basically there's a family where a little boy ...</td>\n",
       "      <td>negative</td>\n",
       "      <td>569</td>\n",
       "      <td>141</td>\n",
       "    </tr>\n",
       "    <tr>\n",
       "      <th>4</th>\n",
       "      <td>Petter Mattei's \"Love in the Time of Money\" is...</td>\n",
       "      <td>positive</td>\n",
       "      <td>1032</td>\n",
       "      <td>236</td>\n",
       "    </tr>\n",
       "    <tr>\n",
       "      <th>...</th>\n",
       "      <td>...</td>\n",
       "      <td>...</td>\n",
       "      <td>...</td>\n",
       "      <td>...</td>\n",
       "    </tr>\n",
       "    <tr>\n",
       "      <th>49995</th>\n",
       "      <td>I thought this movie did a down right good job...</td>\n",
       "      <td>positive</td>\n",
       "      <td>769</td>\n",
       "      <td>205</td>\n",
       "    </tr>\n",
       "    <tr>\n",
       "      <th>49996</th>\n",
       "      <td>Bad plot, bad dialogue, bad acting, idiotic di...</td>\n",
       "      <td>negative</td>\n",
       "      <td>505</td>\n",
       "      <td>115</td>\n",
       "    </tr>\n",
       "    <tr>\n",
       "      <th>49997</th>\n",
       "      <td>I am a Catholic taught in parochial elementary...</td>\n",
       "      <td>negative</td>\n",
       "      <td>1006</td>\n",
       "      <td>240</td>\n",
       "    </tr>\n",
       "    <tr>\n",
       "      <th>49998</th>\n",
       "      <td>I'm going to have to disagree with the previou...</td>\n",
       "      <td>negative</td>\n",
       "      <td>995</td>\n",
       "      <td>217</td>\n",
       "    </tr>\n",
       "    <tr>\n",
       "      <th>49999</th>\n",
       "      <td>No one expects the Star Trek movies to be high...</td>\n",
       "      <td>negative</td>\n",
       "      <td>526</td>\n",
       "      <td>129</td>\n",
       "    </tr>\n",
       "  </tbody>\n",
       "</table>\n",
       "<p>50000 rows × 4 columns</p>\n",
       "</div>"
      ],
      "text/plain": [
       "                                                  review sentiment  \\\n",
       "0      One of the other reviewers has mentioned that ...  positive   \n",
       "1      A wonderful little production. <br /><br />The...  positive   \n",
       "2      I thought this was a wonderful way to spend ti...  positive   \n",
       "3      Basically there's a family where a little boy ...  negative   \n",
       "4      Petter Mattei's \"Love in the Time of Money\" is...  positive   \n",
       "...                                                  ...       ...   \n",
       "49995  I thought this movie did a down right good job...  positive   \n",
       "49996  Bad plot, bad dialogue, bad acting, idiotic di...  negative   \n",
       "49997  I am a Catholic taught in parochial elementary...  negative   \n",
       "49998  I'm going to have to disagree with the previou...  negative   \n",
       "49999  No one expects the Star Trek movies to be high...  negative   \n",
       "\n",
       "       review_charecters_len  review_word_len  \n",
       "0                       1377              320  \n",
       "1                        793              166  \n",
       "2                        721              172  \n",
       "3                        569              141  \n",
       "4                       1032              236  \n",
       "...                      ...              ...  \n",
       "49995                    769              205  \n",
       "49996                    505              115  \n",
       "49997                   1006              240  \n",
       "49998                    995              217  \n",
       "49999                    526              129  \n",
       "\n",
       "[50000 rows x 4 columns]"
      ]
     },
     "execution_count": 21,
     "metadata": {},
     "output_type": "execute_result"
    }
   ],
   "source": [
    "df"
   ]
  },
  {
   "cell_type": "code",
   "execution_count": 22,
   "id": "25847496-0a3a-46af-b3e6-85d5bc2578c6",
   "metadata": {
    "execution": {
     "iopub.execute_input": "2025-10-24T11:51:39.136308Z",
     "iopub.status.busy": "2025-10-24T11:51:39.135894Z",
     "iopub.status.idle": "2025-10-24T11:51:39.182786Z",
     "shell.execute_reply": "2025-10-24T11:51:39.180760Z"
    }
   },
   "outputs": [
    {
     "data": {
      "text/html": [
       "<div>\n",
       "<style scoped>\n",
       "    .dataframe tbody tr th:only-of-type {\n",
       "        vertical-align: middle;\n",
       "    }\n",
       "\n",
       "    .dataframe tbody tr th {\n",
       "        vertical-align: top;\n",
       "    }\n",
       "\n",
       "    .dataframe thead th {\n",
       "        text-align: right;\n",
       "    }\n",
       "</style>\n",
       "<table border=\"1\" class=\"dataframe\">\n",
       "  <thead>\n",
       "    <tr style=\"text-align: right;\">\n",
       "      <th></th>\n",
       "      <th>review_charecters_len</th>\n",
       "      <th>review_word_len</th>\n",
       "    </tr>\n",
       "  </thead>\n",
       "  <tbody>\n",
       "    <tr>\n",
       "      <th>count</th>\n",
       "      <td>50000.000000</td>\n",
       "      <td>50000.000000</td>\n",
       "    </tr>\n",
       "    <tr>\n",
       "      <th>mean</th>\n",
       "      <td>1026.598680</td>\n",
       "      <td>239.537900</td>\n",
       "    </tr>\n",
       "    <tr>\n",
       "      <th>std</th>\n",
       "      <td>780.019859</td>\n",
       "      <td>177.383495</td>\n",
       "    </tr>\n",
       "    <tr>\n",
       "      <th>min</th>\n",
       "      <td>25.000000</td>\n",
       "      <td>6.000000</td>\n",
       "    </tr>\n",
       "    <tr>\n",
       "      <th>25%</th>\n",
       "      <td>546.000000</td>\n",
       "      <td>131.000000</td>\n",
       "    </tr>\n",
       "    <tr>\n",
       "      <th>50%</th>\n",
       "      <td>759.000000</td>\n",
       "      <td>179.000000</td>\n",
       "    </tr>\n",
       "    <tr>\n",
       "      <th>75%</th>\n",
       "      <td>1246.000000</td>\n",
       "      <td>291.000000</td>\n",
       "    </tr>\n",
       "    <tr>\n",
       "      <th>max</th>\n",
       "      <td>10877.000000</td>\n",
       "      <td>2525.000000</td>\n",
       "    </tr>\n",
       "  </tbody>\n",
       "</table>\n",
       "</div>"
      ],
      "text/plain": [
       "       review_charecters_len  review_word_len\n",
       "count           50000.000000     50000.000000\n",
       "mean             1026.598680       239.537900\n",
       "std               780.019859       177.383495\n",
       "min                25.000000         6.000000\n",
       "25%               546.000000       131.000000\n",
       "50%               759.000000       179.000000\n",
       "75%              1246.000000       291.000000\n",
       "max             10877.000000      2525.000000"
      ]
     },
     "execution_count": 22,
     "metadata": {},
     "output_type": "execute_result"
    }
   ],
   "source": [
    "df.describe()"
   ]
  },
  {
   "cell_type": "markdown",
   "id": "1f07b973-791c-4158-85de-cf3b6b96136a",
   "metadata": {},
   "source": [
    "### Plots"
   ]
  },
  {
   "cell_type": "markdown",
   "id": "7ccaf4a2-3db6-4024-859e-bb3e2ea10e56",
   "metadata": {},
   "source": [
    "#### Word Length "
   ]
  },
  {
   "cell_type": "code",
   "execution_count": 23,
   "id": "ff47e156-bf31-4142-8415-ae59167ff994",
   "metadata": {
    "execution": {
     "iopub.execute_input": "2025-10-24T11:51:39.186686Z",
     "iopub.status.busy": "2025-10-24T11:51:39.186282Z",
     "iopub.status.idle": "2025-10-24T11:51:40.949623Z",
     "shell.execute_reply": "2025-10-24T11:51:40.947886Z"
    },
    "scrolled": true
   },
   "outputs": [
    {
     "data": {
      "image/png": "[encoded data removed]",
      "text/plain": [
       "<Figure size 640x480 with 1 Axes>"
      ]
     },
     "metadata": {},
     "output_type": "display_data"
    }
   ],
   "source": [
    "sns.histplot(df[\"review_word_len\"], kde=True)\n",
    "plt.title(\"Review Word Length Distribution\")\n",
    "if SAVE_FIG:\n",
    "    plt.savefig(os.path.join(FIG_SAVE_DIR,\"review_word_length_histplot.png\"))\n",
    "plt.show()"
   ]
  },
  {
   "cell_type": "code",
   "execution_count": 24,
   "id": "e4f1e1c0-ebab-4725-8522-cfac763980f3",
   "metadata": {
    "execution": {
     "iopub.execute_input": "2025-10-24T11:51:40.953338Z",
     "iopub.status.busy": "2025-10-24T11:51:40.952931Z",
     "iopub.status.idle": "2025-10-24T11:51:41.461386Z",
     "shell.execute_reply": "2025-10-24T11:51:41.459004Z"
    },
    "scrolled": true
   },
   "outputs": [
    {
     "data": {
      "image/png": "[encoded data removed]",
      "text/plain": [
       "<Figure size 640x480 with 1 Axes>"
      ]
     },
     "metadata": {},
     "output_type": "display_data"
    }
   ],
   "source": [
    "sns.boxplot(df[\"review_word_len\"])\n",
    "plt.title(\"Review Word Length Box-Plot\")\n",
    "if SAVE_FIG:\n",
    "    plt.savefig(os.path.join(FIG_SAVE_DIR, \"review_word_length_boxplot.png\"))\n",
    "plt.show()"
   ]
  },
  {
   "cell_type": "markdown",
   "id": "46e1591f-9a16-4ca2-811e-392c12429268",
   "metadata": {},
   "source": [
    "#### Charecters Length"
   ]
  },
  {
   "cell_type": "code",
   "execution_count": 25,
   "id": "ba48fbec-789e-4c25-925c-74971d5bd054",
   "metadata": {
    "execution": {
     "iopub.execute_input": "2025-10-24T11:51:41.466591Z",
     "iopub.status.busy": "2025-10-24T11:51:41.466178Z",
     "iopub.status.idle": "2025-10-24T11:51:43.251086Z",
     "shell.execute_reply": "2025-10-24T11:51:43.249313Z"
    },
    "scrolled": true
   },
   "outputs": [
    {
     "data": {
      "image/png": "[encoded data removed]",
      "text/plain": [
       "<Figure size 640x480 with 1 Axes>"
      ]
     },
     "metadata": {},
     "output_type": "display_data"
    }
   ],
   "source": [
    "sns.histplot(df[\"review_charecters_len\"], kde=True)\n",
    "plt.title(\"Review Charecters Length Distribution\")\n",
    "if SAVE_FIG:\n",
    "    plt.savefig(os.path.join(FIG_SAVE_DIR, \"review_charecters_length_histplot.png\"))\n",
    "plt.show()"
   ]
  },
  {
   "cell_type": "code",
   "execution_count": 26,
   "id": "fe164f11-c57c-4277-bb7e-2cde8194efea",
   "metadata": {
    "execution": {
     "iopub.execute_input": "2025-10-24T11:51:43.254561Z",
     "iopub.status.busy": "2025-10-24T11:51:43.254101Z",
     "iopub.status.idle": "2025-10-24T11:51:43.759294Z",
     "shell.execute_reply": "2025-10-24T11:51:43.756131Z"
    },
    "scrolled": true
   },
   "outputs": [
    {
     "data": {
      "image/png": "[encoded data removed]",
      "text/plain": [
       "<Figure size 640x480 with 1 Axes>"
      ]
     },
     "metadata": {},
     "output_type": "display_data"
    }
   ],
   "source": [
    "sns.boxplot(df[\"review_charecters_len\"])\n",
    "plt.title(\"Review Charecters Length Box-Plot\")\n",
    "if SAVE_FIG:\n",
    "    plt.savefig(os.path.join(FIG_SAVE_DIR, \"review_charecters_length_boxplot.png\"))\n",
    "plt.show()"
   ]
  },
  {
   "cell_type": "markdown",
   "id": "a3c781b2-bca9-48e7-8fb4-fc66602806e8",
   "metadata": {},
   "source": [
    "### Counting Outlires in Reviwes using Word Lengeth"
   ]
  },
  {
   "cell_type": "code",
   "execution_count": 27,
   "id": "e3ff2504-d5db-477f-baef-64cfaa43d942",
   "metadata": {
    "execution": {
     "iopub.execute_input": "2025-10-24T11:51:43.764759Z",
     "iopub.status.busy": "2025-10-24T11:51:43.764051Z",
     "iopub.status.idle": "2025-10-24T11:51:43.776509Z",
     "shell.execute_reply": "2025-10-24T11:51:43.774764Z"
    }
   },
   "outputs": [
    {
     "data": {
      "text/plain": [
       "(131.0, 291.0)"
      ]
     },
     "execution_count": 27,
     "metadata": {},
     "output_type": "execute_result"
    }
   ],
   "source": [
    "q1, q3 = df[\"review_word_len\"].quantile([.25, .75])\n",
    "q1, q3"
   ]
  },
  {
   "cell_type": "code",
   "execution_count": 28,
   "id": "428c1295-7874-4ecc-8657-79ed623d066b",
   "metadata": {
    "execution": {
     "iopub.execute_input": "2025-10-24T11:51:43.782205Z",
     "iopub.status.busy": "2025-10-24T11:51:43.781833Z",
     "iopub.status.idle": "2025-10-24T11:51:43.789435Z",
     "shell.execute_reply": "2025-10-24T11:51:43.787054Z"
    }
   },
   "outputs": [
    {
     "data": {
      "text/plain": [
       "160.0"
      ]
     },
     "execution_count": 28,
     "metadata": {},
     "output_type": "execute_result"
    }
   ],
   "source": [
    "iqr = q3 - q1\n",
    "iqr"
   ]
  },
  {
   "cell_type": "code",
   "execution_count": 29,
   "id": "548a47c5-13ab-4b9e-9e3f-0ef8fe7ac986",
   "metadata": {
    "execution": {
     "iopub.execute_input": "2025-10-24T11:51:43.793923Z",
     "iopub.status.busy": "2025-10-24T11:51:43.793514Z",
     "iopub.status.idle": "2025-10-24T11:51:43.803889Z",
     "shell.execute_reply": "2025-10-24T11:51:43.802295Z"
    }
   },
   "outputs": [
    {
     "data": {
      "text/plain": [
       "(-109.0, 531.0)"
      ]
     },
     "execution_count": 29,
     "metadata": {},
     "output_type": "execute_result"
    }
   ],
   "source": [
    "lower_limit = q1 - (1.5 * iqr)\n",
    "upper_limit = q3 + (1.5 * iqr)\n",
    "lower_limit, upper_limit"
   ]
  },
  {
   "cell_type": "code",
   "execution_count": 30,
   "id": "e1f14815-915e-4403-bf88-acd94ebb2eb1",
   "metadata": {
    "execution": {
     "iopub.execute_input": "2025-10-24T11:51:43.808572Z",
     "iopub.status.busy": "2025-10-24T11:51:43.808032Z",
     "iopub.status.idle": "2025-10-24T11:51:43.818366Z",
     "shell.execute_reply": "2025-10-24T11:51:43.817081Z"
    }
   },
   "outputs": [
    {
     "data": {
      "text/plain": [
       "np.int64(0)"
      ]
     },
     "execution_count": 30,
     "metadata": {},
     "output_type": "execute_result"
    }
   ],
   "source": [
    "(df['review_word_len'] < lower_limit).sum()"
   ]
  },
  {
   "cell_type": "code",
   "execution_count": 31,
   "id": "958e6304-710c-4348-99fa-fbf5cbe19091",
   "metadata": {
    "execution": {
     "iopub.execute_input": "2025-10-24T11:51:43.822174Z",
     "iopub.status.busy": "2025-10-24T11:51:43.821780Z",
     "iopub.status.idle": "2025-10-24T11:51:43.842796Z",
     "shell.execute_reply": "2025-10-24T11:51:43.839873Z"
    }
   },
   "outputs": [
    {
     "data": {
      "text/html": [
       "<div>\n",
       "<style scoped>\n",
       "    .dataframe tbody tr th:only-of-type {\n",
       "        vertical-align: middle;\n",
       "    }\n",
       "\n",
       "    .dataframe tbody tr th {\n",
       "        vertical-align: top;\n",
       "    }\n",
       "\n",
       "    .dataframe thead th {\n",
       "        text-align: right;\n",
       "    }\n",
       "</style>\n",
       "<table border=\"1\" class=\"dataframe\">\n",
       "  <thead>\n",
       "    <tr style=\"text-align: right;\">\n",
       "      <th></th>\n",
       "      <th>review</th>\n",
       "      <th>sentiment</th>\n",
       "      <th>review_charecters_len</th>\n",
       "      <th>review_word_len</th>\n",
       "    </tr>\n",
       "  </thead>\n",
       "  <tbody>\n",
       "    <tr>\n",
       "      <th>26</th>\n",
       "      <td>\"The Cell\" is an exotic masterpiece, a dizzyin...</td>\n",
       "      <td>positive</td>\n",
       "      <td>2448</td>\n",
       "      <td>589</td>\n",
       "    </tr>\n",
       "    <tr>\n",
       "      <th>29</th>\n",
       "      <td>'War movie' is a Hollywood genre that has been...</td>\n",
       "      <td>positive</td>\n",
       "      <td>3047</td>\n",
       "      <td>636</td>\n",
       "    </tr>\n",
       "    <tr>\n",
       "      <th>33</th>\n",
       "      <td>One of the most significant quotes from the en...</td>\n",
       "      <td>positive</td>\n",
       "      <td>3228</td>\n",
       "      <td>679</td>\n",
       "    </tr>\n",
       "    <tr>\n",
       "      <th>48</th>\n",
       "      <td>Preston Sturgis' THE POWER AND THE GLORY was u...</td>\n",
       "      <td>positive</td>\n",
       "      <td>3115</td>\n",
       "      <td>720</td>\n",
       "    </tr>\n",
       "    <tr>\n",
       "      <th>51</th>\n",
       "      <td>***SPOILERS*** All too, in real life as well a...</td>\n",
       "      <td>positive</td>\n",
       "      <td>2637</td>\n",
       "      <td>636</td>\n",
       "    </tr>\n",
       "    <tr>\n",
       "      <th>...</th>\n",
       "      <td>...</td>\n",
       "      <td>...</td>\n",
       "      <td>...</td>\n",
       "      <td>...</td>\n",
       "    </tr>\n",
       "    <tr>\n",
       "      <th>49946</th>\n",
       "      <td>One of the greatest lessons I ever had in how ...</td>\n",
       "      <td>negative</td>\n",
       "      <td>2227</td>\n",
       "      <td>548</td>\n",
       "    </tr>\n",
       "    <tr>\n",
       "      <th>49948</th>\n",
       "      <td>It is the early morning of our discontent, and...</td>\n",
       "      <td>negative</td>\n",
       "      <td>4626</td>\n",
       "      <td>1023</td>\n",
       "    </tr>\n",
       "    <tr>\n",
       "      <th>49954</th>\n",
       "      <td>Why is it that every time I mention this movie...</td>\n",
       "      <td>negative</td>\n",
       "      <td>2167</td>\n",
       "      <td>538</td>\n",
       "    </tr>\n",
       "    <tr>\n",
       "      <th>49959</th>\n",
       "      <td>My thoughts on the movie, 9&lt;br /&gt;&lt;br /&gt;It was ...</td>\n",
       "      <td>negative</td>\n",
       "      <td>2689</td>\n",
       "      <td>652</td>\n",
       "    </tr>\n",
       "    <tr>\n",
       "      <th>49981</th>\n",
       "      <td>And I repeat, please do not see this movie! Th...</td>\n",
       "      <td>negative</td>\n",
       "      <td>3686</td>\n",
       "      <td>876</td>\n",
       "    </tr>\n",
       "  </tbody>\n",
       "</table>\n",
       "<p>3689 rows × 4 columns</p>\n",
       "</div>"
      ],
      "text/plain": [
       "                                                  review sentiment  \\\n",
       "26     \"The Cell\" is an exotic masterpiece, a dizzyin...  positive   \n",
       "29     'War movie' is a Hollywood genre that has been...  positive   \n",
       "33     One of the most significant quotes from the en...  positive   \n",
       "48     Preston Sturgis' THE POWER AND THE GLORY was u...  positive   \n",
       "51     ***SPOILERS*** All too, in real life as well a...  positive   \n",
       "...                                                  ...       ...   \n",
       "49946  One of the greatest lessons I ever had in how ...  negative   \n",
       "49948  It is the early morning of our discontent, and...  negative   \n",
       "49954  Why is it that every time I mention this movie...  negative   \n",
       "49959  My thoughts on the movie, 9<br /><br />It was ...  negative   \n",
       "49981  And I repeat, please do not see this movie! Th...  negative   \n",
       "\n",
       "       review_charecters_len  review_word_len  \n",
       "26                      2448              589  \n",
       "29                      3047              636  \n",
       "33                      3228              679  \n",
       "48                      3115              720  \n",
       "51                      2637              636  \n",
       "...                      ...              ...  \n",
       "49946                   2227              548  \n",
       "49948                   4626             1023  \n",
       "49954                   2167              538  \n",
       "49959                   2689              652  \n",
       "49981                   3686              876  \n",
       "\n",
       "[3689 rows x 4 columns]"
      ]
     },
     "execution_count": 31,
     "metadata": {},
     "output_type": "execute_result"
    }
   ],
   "source": [
    "# Only using upper_limit because the min value for word len is 0 but lower_limit is -109\n",
    "outlires = df[df['review_word_len'] > upper_limit]\n",
    "outlires"
   ]
  },
  {
   "cell_type": "code",
   "execution_count": 32,
   "id": "ecc203ff-3a2a-4aa9-bd47-8e2c4e917643",
   "metadata": {
    "execution": {
     "iopub.execute_input": "2025-10-24T11:51:43.847555Z",
     "iopub.status.busy": "2025-10-24T11:51:43.847018Z",
     "iopub.status.idle": "2025-10-24T11:51:43.855208Z",
     "shell.execute_reply": "2025-10-24T11:51:43.853380Z"
    }
   },
   "outputs": [
    {
     "data": {
      "text/plain": [
       "'Mobile Suit Gundam Wing is the Fourth series in the continuing Gundam chronicles. Unlike the previous entries which focused on massive wars, this one is a little different; instead of having an army-vs.-army situation, this one is led by five teenage boys (due to their ability to blend in more readily than normal adults) and their machines called \"Gundams\" because of the metal alloy used in their construction. Which leads to problems, since gundams are supposed to be destroyed, replaced by \"Mobile Suits\", which are piloted less-destructive weapon platforms and \"Dolls\" which are ran on A.I. and are used as grunt infantry.<br /><br />The whole point of the series is a metaphysical question that gives Gundam Wing an edge over a greater portion of the Anime that makes it\\'s way here. Especially since most anime is adapted from popular magazines, such as Naruto, DragonBall, One Piece, DragonBall Z and InuYasha which are all from Shonen Jump, which is now available in America.<br /><br />Mobile Suit Gundam Wing sets itself apart from most anime in the fact that instead of over-the-top battles between mortals who more resemble gods, Gundam is very humanistic and seems to revel in the fact that it is dramatic instead of melodramatic and events seem to unfold across the series gracefully. Normally in anime there are more than few series that think that the best way to go about having a \"small\" battle is to have it take a half-hour - something that would never happen in real life. Gundam tops this by making sure that everyone knows that characters will die, machines will be destroyed and rebuilt, battles will be lost and won, and it never seems as though it makes the actions themselves satirical.<br /><br />But the magic of Gundam Wing is in the details, and what this series has that more anime would be grateful for having. Emotion. Instead of mythic prophecies, magic, or overblown martial arts, Gundam Wing is hard-line science fiction from a country that hates hard-line science fiction. (NOTE: The author would like to state that Neon Genesis Evangelion is not hard-line-plausible-in-real-life science fiction due to the religious subject matter that is the core of its series) they love Star Wars, but hate A.I. (the movie). Henceforth why Gundam Wing was and Gundam SeeD is now in production for both Japanese and U.S. releases at the same time with two voice teams. American audiences only have to wait two or three weeks after the end of the Japanese season to catch the dubbed or subtitled versions or even the edited SeeD episodes that air on Cartoon Network.<br /><br />The emotion is that these two sides that are fighting a war are technically backwards. The heroes are those who defend the rights of the more wealthy and aristocratic citizens of Earth from the band of terrorists bent on victory at any and all costs that make up the protagonists of Mobile Suit Gundam Wing. This is not war, this is \"total war\". Every person, every building, every street is a target for attack, both on Earth and off.<br /><br />My only complaint, and the reason it didn\\'t get the score of ten, is that at about three-fourths of the way through, it just kind of goes dead for a few episodes, and no one really seems to change. Kind of like a present-time flashback, which is fine due to what it reveals about the characters, but at the same time it drags down what should be the brewing between Project: Meteor and OZ. But the final two episodes and the overplayed-on-Cartoon-Network (back in 2001-2003) Mobile Suit Gundam Wing: Endless Waltz movie more than make up for the slack.'"
      ]
     },
     "execution_count": 32,
     "metadata": {},
     "output_type": "execute_result"
    }
   ],
   "source": [
    "random.choice(outlires['review'].tolist())"
   ]
  },
  {
   "cell_type": "code",
   "execution_count": 33,
   "id": "2b9549e4-674b-41f1-8cbf-1c707fd3c5ee",
   "metadata": {
    "execution": {
     "iopub.execute_input": "2025-10-24T11:51:43.861602Z",
     "iopub.status.busy": "2025-10-24T11:51:43.860969Z",
     "iopub.status.idle": "2025-10-24T11:51:43.879723Z",
     "shell.execute_reply": "2025-10-24T11:51:43.877979Z"
    }
   },
   "outputs": [
    {
     "data": {
      "text/html": [
       "<div>\n",
       "<style scoped>\n",
       "    .dataframe tbody tr th:only-of-type {\n",
       "        vertical-align: middle;\n",
       "    }\n",
       "\n",
       "    .dataframe tbody tr th {\n",
       "        vertical-align: top;\n",
       "    }\n",
       "\n",
       "    .dataframe thead th {\n",
       "        text-align: right;\n",
       "    }\n",
       "</style>\n",
       "<table border=\"1\" class=\"dataframe\">\n",
       "  <thead>\n",
       "    <tr style=\"text-align: right;\">\n",
       "      <th></th>\n",
       "      <th>review</th>\n",
       "      <th>sentiment</th>\n",
       "      <th>review_charecters_len</th>\n",
       "      <th>review_word_len</th>\n",
       "    </tr>\n",
       "  </thead>\n",
       "  <tbody>\n",
       "    <tr>\n",
       "      <th>9</th>\n",
       "      <td>If you like original gut wrenching laughter yo...</td>\n",
       "      <td>positive</td>\n",
       "      <td>132</td>\n",
       "      <td>34</td>\n",
       "    </tr>\n",
       "    <tr>\n",
       "      <th>14</th>\n",
       "      <td>This a fantastic movie of three prisoners who ...</td>\n",
       "      <td>positive</td>\n",
       "      <td>219</td>\n",
       "      <td>51</td>\n",
       "    </tr>\n",
       "    <tr>\n",
       "      <th>63</th>\n",
       "      <td>Besides being boring, the scenes were oppressi...</td>\n",
       "      <td>negative</td>\n",
       "      <td>212</td>\n",
       "      <td>48</td>\n",
       "    </tr>\n",
       "    <tr>\n",
       "      <th>112</th>\n",
       "      <td>It's terrific when a funny movie doesn't make ...</td>\n",
       "      <td>negative</td>\n",
       "      <td>170</td>\n",
       "      <td>45</td>\n",
       "    </tr>\n",
       "    <tr>\n",
       "      <th>160</th>\n",
       "      <td>MYSTERY MEN has got to be THE stupidest film I...</td>\n",
       "      <td>positive</td>\n",
       "      <td>223</td>\n",
       "      <td>56</td>\n",
       "    </tr>\n",
       "    <tr>\n",
       "      <th>...</th>\n",
       "      <td>...</td>\n",
       "      <td>...</td>\n",
       "      <td>...</td>\n",
       "      <td>...</td>\n",
       "    </tr>\n",
       "    <tr>\n",
       "      <th>49789</th>\n",
       "      <td>Great characters, great acting, great dialogue...</td>\n",
       "      <td>positive</td>\n",
       "      <td>187</td>\n",
       "      <td>46</td>\n",
       "    </tr>\n",
       "    <tr>\n",
       "      <th>49902</th>\n",
       "      <td>Greenaway seems to have a habit of trying deli...</td>\n",
       "      <td>negative</td>\n",
       "      <td>284</td>\n",
       "      <td>58</td>\n",
       "    </tr>\n",
       "    <tr>\n",
       "      <th>49910</th>\n",
       "      <td>This is one of those movies that showcases a g...</td>\n",
       "      <td>positive</td>\n",
       "      <td>195</td>\n",
       "      <td>48</td>\n",
       "    </tr>\n",
       "    <tr>\n",
       "      <th>49929</th>\n",
       "      <td>This is John Waters best film to date. The cha...</td>\n",
       "      <td>positive</td>\n",
       "      <td>214</td>\n",
       "      <td>49</td>\n",
       "    </tr>\n",
       "    <tr>\n",
       "      <th>49942</th>\n",
       "      <td>The movie is not that bad, Ringo Lam sucks. I ...</td>\n",
       "      <td>negative</td>\n",
       "      <td>117</td>\n",
       "      <td>33</td>\n",
       "    </tr>\n",
       "  </tbody>\n",
       "</table>\n",
       "<p>1971 rows × 4 columns</p>\n",
       "</div>"
      ],
      "text/plain": [
       "                                                  review sentiment  \\\n",
       "9      If you like original gut wrenching laughter yo...  positive   \n",
       "14     This a fantastic movie of three prisoners who ...  positive   \n",
       "63     Besides being boring, the scenes were oppressi...  negative   \n",
       "112    It's terrific when a funny movie doesn't make ...  negative   \n",
       "160    MYSTERY MEN has got to be THE stupidest film I...  positive   \n",
       "...                                                  ...       ...   \n",
       "49789  Great characters, great acting, great dialogue...  positive   \n",
       "49902  Greenaway seems to have a habit of trying deli...  negative   \n",
       "49910  This is one of those movies that showcases a g...  positive   \n",
       "49929  This is John Waters best film to date. The cha...  positive   \n",
       "49942  The movie is not that bad, Ringo Lam sucks. I ...  negative   \n",
       "\n",
       "       review_charecters_len  review_word_len  \n",
       "9                        132               34  \n",
       "14                       219               51  \n",
       "63                       212               48  \n",
       "112                      170               45  \n",
       "160                      223               56  \n",
       "...                      ...              ...  \n",
       "49789                    187               46  \n",
       "49902                    284               58  \n",
       "49910                    195               48  \n",
       "49929                    214               49  \n",
       "49942                    117               33  \n",
       "\n",
       "[1971 rows x 4 columns]"
      ]
     },
     "execution_count": 33,
     "metadata": {},
     "output_type": "execute_result"
    }
   ],
   "source": [
    "df[df[\"review_word_len\"] < 60]"
   ]
  },
  {
   "cell_type": "code",
   "execution_count": 34,
   "id": "57a25d4f-d036-4fde-9890-de1c312438fa",
   "metadata": {
    "execution": {
     "iopub.execute_input": "2025-10-24T11:51:43.883617Z",
     "iopub.status.busy": "2025-10-24T11:51:43.883229Z",
     "iopub.status.idle": "2025-10-24T11:51:43.894044Z",
     "shell.execute_reply": "2025-10-24T11:51:43.891629Z"
    },
    "scrolled": true
   },
   "outputs": [
    {
     "data": {
      "text/plain": [
       "\"If you haven't seen this, it's terrible. It is pure trash. I saw this about 17 years ago, and I'm still screwed up from it.\""
      ]
     },
     "execution_count": 34,
     "metadata": {},
     "output_type": "execute_result"
    }
   ],
   "source": [
    "random.choice(df[df[\"review_word_len\"] < 60]['review'].tolist())"
   ]
  },
  {
   "cell_type": "markdown",
   "id": "5065501b-ce4a-4c6c-af93-e85efae34fb1",
   "metadata": {},
   "source": [
    "### Counting Outlires in Reviwes using Charecter Lengeth"
   ]
  },
  {
   "cell_type": "code",
   "execution_count": 35,
   "id": "223e7ce5-c3ab-4bb6-b624-d5b0599e8644",
   "metadata": {
    "execution": {
     "iopub.execute_input": "2025-10-24T11:51:43.898769Z",
     "iopub.status.busy": "2025-10-24T11:51:43.898371Z",
     "iopub.status.idle": "2025-10-24T11:51:43.909571Z",
     "shell.execute_reply": "2025-10-24T11:51:43.907577Z"
    }
   },
   "outputs": [
    {
     "data": {
      "text/plain": [
       "(546.0, 1246.0)"
      ]
     },
     "execution_count": 35,
     "metadata": {},
     "output_type": "execute_result"
    }
   ],
   "source": [
    "q1, q3 = df[\"review_charecters_len\"].quantile([.25, .75])\n",
    "q1, q3"
   ]
  },
  {
   "cell_type": "code",
   "execution_count": 36,
   "id": "fc217ae8-c361-4177-b30e-ab797a966d19",
   "metadata": {
    "execution": {
     "iopub.execute_input": "2025-10-24T11:51:43.914428Z",
     "iopub.status.busy": "2025-10-24T11:51:43.913969Z",
     "iopub.status.idle": "2025-10-24T11:51:43.921410Z",
     "shell.execute_reply": "2025-10-24T11:51:43.919968Z"
    }
   },
   "outputs": [
    {
     "data": {
      "text/plain": [
       "700.0"
      ]
     },
     "execution_count": 36,
     "metadata": {},
     "output_type": "execute_result"
    }
   ],
   "source": [
    "iqr = q3 - q1\n",
    "iqr"
   ]
  },
  {
   "cell_type": "code",
   "execution_count": 37,
   "id": "d17903b7-5621-4ef2-a123-5541cb608f03",
   "metadata": {
    "execution": {
     "iopub.execute_input": "2025-10-24T11:51:43.929862Z",
     "iopub.status.busy": "2025-10-24T11:51:43.928340Z",
     "iopub.status.idle": "2025-10-24T11:51:43.939646Z",
     "shell.execute_reply": "2025-10-24T11:51:43.937167Z"
    }
   },
   "outputs": [
    {
     "data": {
      "text/plain": [
       "(-504.0, 2296.0)"
      ]
     },
     "execution_count": 37,
     "metadata": {},
     "output_type": "execute_result"
    }
   ],
   "source": [
    "lower_limit = q1 - (1.5 * iqr)\n",
    "upper_limit = q3 + (1.5 * iqr)\n",
    "lower_limit, upper_limit"
   ]
  },
  {
   "cell_type": "code",
   "execution_count": 38,
   "id": "9ca185b5-2e32-4090-a15a-6a4c693c969d",
   "metadata": {
    "execution": {
     "iopub.execute_input": "2025-10-24T11:51:43.946061Z",
     "iopub.status.busy": "2025-10-24T11:51:43.945522Z",
     "iopub.status.idle": "2025-10-24T11:51:43.954311Z",
     "shell.execute_reply": "2025-10-24T11:51:43.952648Z"
    }
   },
   "outputs": [
    {
     "data": {
      "text/plain": [
       "np.int64(0)"
      ]
     },
     "execution_count": 38,
     "metadata": {},
     "output_type": "execute_result"
    }
   ],
   "source": [
    "(df['review_charecters_len'] < lower_limit).sum()"
   ]
  },
  {
   "cell_type": "code",
   "execution_count": 39,
   "id": "3ea9f706-45d9-42ea-96a7-6b2e6b06ec52",
   "metadata": {
    "execution": {
     "iopub.execute_input": "2025-10-24T11:51:43.959543Z",
     "iopub.status.busy": "2025-10-24T11:51:43.958920Z",
     "iopub.status.idle": "2025-10-24T11:51:43.978760Z",
     "shell.execute_reply": "2025-10-24T11:51:43.976448Z"
    }
   },
   "outputs": [
    {
     "data": {
      "text/html": [
       "<div>\n",
       "<style scoped>\n",
       "    .dataframe tbody tr th:only-of-type {\n",
       "        vertical-align: middle;\n",
       "    }\n",
       "\n",
       "    .dataframe tbody tr th {\n",
       "        vertical-align: top;\n",
       "    }\n",
       "\n",
       "    .dataframe thead th {\n",
       "        text-align: right;\n",
       "    }\n",
       "</style>\n",
       "<table border=\"1\" class=\"dataframe\">\n",
       "  <thead>\n",
       "    <tr style=\"text-align: right;\">\n",
       "      <th></th>\n",
       "      <th>review</th>\n",
       "      <th>sentiment</th>\n",
       "      <th>review_charecters_len</th>\n",
       "      <th>review_word_len</th>\n",
       "    </tr>\n",
       "  </thead>\n",
       "  <tbody>\n",
       "    <tr>\n",
       "      <th>26</th>\n",
       "      <td>\"The Cell\" is an exotic masterpiece, a dizzyin...</td>\n",
       "      <td>positive</td>\n",
       "      <td>2448</td>\n",
       "      <td>589</td>\n",
       "    </tr>\n",
       "    <tr>\n",
       "      <th>29</th>\n",
       "      <td>'War movie' is a Hollywood genre that has been...</td>\n",
       "      <td>positive</td>\n",
       "      <td>3047</td>\n",
       "      <td>636</td>\n",
       "    </tr>\n",
       "    <tr>\n",
       "      <th>33</th>\n",
       "      <td>One of the most significant quotes from the en...</td>\n",
       "      <td>positive</td>\n",
       "      <td>3228</td>\n",
       "      <td>679</td>\n",
       "    </tr>\n",
       "    <tr>\n",
       "      <th>48</th>\n",
       "      <td>Preston Sturgis' THE POWER AND THE GLORY was u...</td>\n",
       "      <td>positive</td>\n",
       "      <td>3115</td>\n",
       "      <td>720</td>\n",
       "    </tr>\n",
       "    <tr>\n",
       "      <th>51</th>\n",
       "      <td>***SPOILERS*** All too, in real life as well a...</td>\n",
       "      <td>positive</td>\n",
       "      <td>2637</td>\n",
       "      <td>636</td>\n",
       "    </tr>\n",
       "    <tr>\n",
       "      <th>...</th>\n",
       "      <td>...</td>\n",
       "      <td>...</td>\n",
       "      <td>...</td>\n",
       "      <td>...</td>\n",
       "    </tr>\n",
       "    <tr>\n",
       "      <th>49925</th>\n",
       "      <td>What a disaster! Normally, when one critiques ...</td>\n",
       "      <td>negative</td>\n",
       "      <td>3317</td>\n",
       "      <td>759</td>\n",
       "    </tr>\n",
       "    <tr>\n",
       "      <th>49943</th>\n",
       "      <td>\"Sir\" has played Lear over 200 times,but tonig...</td>\n",
       "      <td>positive</td>\n",
       "      <td>2856</td>\n",
       "      <td>618</td>\n",
       "    </tr>\n",
       "    <tr>\n",
       "      <th>49948</th>\n",
       "      <td>It is the early morning of our discontent, and...</td>\n",
       "      <td>negative</td>\n",
       "      <td>4626</td>\n",
       "      <td>1023</td>\n",
       "    </tr>\n",
       "    <tr>\n",
       "      <th>49959</th>\n",
       "      <td>My thoughts on the movie, 9&lt;br /&gt;&lt;br /&gt;It was ...</td>\n",
       "      <td>negative</td>\n",
       "      <td>2689</td>\n",
       "      <td>652</td>\n",
       "    </tr>\n",
       "    <tr>\n",
       "      <th>49981</th>\n",
       "      <td>And I repeat, please do not see this movie! Th...</td>\n",
       "      <td>negative</td>\n",
       "      <td>3686</td>\n",
       "      <td>876</td>\n",
       "    </tr>\n",
       "  </tbody>\n",
       "</table>\n",
       "<p>3767 rows × 4 columns</p>\n",
       "</div>"
      ],
      "text/plain": [
       "                                                  review sentiment  \\\n",
       "26     \"The Cell\" is an exotic masterpiece, a dizzyin...  positive   \n",
       "29     'War movie' is a Hollywood genre that has been...  positive   \n",
       "33     One of the most significant quotes from the en...  positive   \n",
       "48     Preston Sturgis' THE POWER AND THE GLORY was u...  positive   \n",
       "51     ***SPOILERS*** All too, in real life as well a...  positive   \n",
       "...                                                  ...       ...   \n",
       "49925  What a disaster! Normally, when one critiques ...  negative   \n",
       "49943  \"Sir\" has played Lear over 200 times,but tonig...  positive   \n",
       "49948  It is the early morning of our discontent, and...  negative   \n",
       "49959  My thoughts on the movie, 9<br /><br />It was ...  negative   \n",
       "49981  And I repeat, please do not see this movie! Th...  negative   \n",
       "\n",
       "       review_charecters_len  review_word_len  \n",
       "26                      2448              589  \n",
       "29                      3047              636  \n",
       "33                      3228              679  \n",
       "48                      3115              720  \n",
       "51                      2637              636  \n",
       "...                      ...              ...  \n",
       "49925                   3317              759  \n",
       "49943                   2856              618  \n",
       "49948                   4626             1023  \n",
       "49959                   2689              652  \n",
       "49981                   3686              876  \n",
       "\n",
       "[3767 rows x 4 columns]"
      ]
     },
     "execution_count": 39,
     "metadata": {},
     "output_type": "execute_result"
    }
   ],
   "source": [
    "# Only using upper_limit because the min value for charecters len is 0 but lower_limit is -504\n",
    "outlires = df[df['review_charecters_len'] > upper_limit]\n",
    "outlires"
   ]
  },
  {
   "cell_type": "code",
   "execution_count": 40,
   "id": "17e6ba80-2e49-4ae5-8705-97dd0c389556",
   "metadata": {
    "execution": {
     "iopub.execute_input": "2025-10-24T11:51:43.983966Z",
     "iopub.status.busy": "2025-10-24T11:51:43.983372Z",
     "iopub.status.idle": "2025-10-24T11:51:43.992703Z",
     "shell.execute_reply": "2025-10-24T11:51:43.990635Z"
    }
   },
   "outputs": [
    {
     "data": {
      "text/plain": [
       "'By 1909, D.W. Griffith had been directing films for the Biograph Company for about a year, and \\x96 working at a rate of two or three per week \\x96 was rapidly beginning to develop his skills as a filmmaker. \\'The Sealed Room\\' is a very interesting 11 minute short, a fascinating piece of Gothic melodrama that even drifts slightly into the realm of early horror. The simple narrative was probably inspired by Edgar Allen Poe\\'s 1846 short story, \"The Cask of Amontillado,\" and concerns a powerful king who conceives a deliciously sadistic form of revenge to punish his wife\\'s infidelity.<br /><br />Set in medieval times, \\'The Sealed Room\\' begins with the king (Arthur V. Johnson) overseeing the construction of a windowless room from a sequestered dove-cote, the idea being that he and his wife (Marion Leonard) will have a completely private place to enjoy each other\\'s company. He is obviously very much in love with her, always showing his affection, this latest act the crowning achievement of his endearment. However, unbeknownst to the king, his wife has fallen in love with the royal minstrel (Henry B. Walthall). During one romantic liaison inside the specially-built room, the wife and the minstrel are discovered, and the heartbroken king conceives a means of getting his retribution on the ignorant couple. Silently, he orders his workmen to seal off the only doorway with stone and mortar, slowly descending into cackling insanity as each new stone is placed down.<br /><br />D.W. Griffith always had an eye for acute detail, and \\'The Sealed Room\\' is an excellent early example of this. The lavish medieval century costumes lend the film a sense of reality, and the castle interior looks authentic enough to be believable. At the time, the director was also pioneering methods of creating suspense, and I must admit that, as the film progressed, I became fixated on finding out what would happen to the hapless young lovers. In the early minutes, Griffith restricts his shots to lengthy long-takes from a stationary camera (as was usual at the time), but soon \\x96 parallel to the progressively darker subject matter \\x96 he alters his editing tactics in a fascinating way. Though he may not have invented the technique, Griffith was crucial in popularising the use of \"cross-cutting\" \\x96 that is, alternating between different events occurring at the same time. Not only does this create a sense of continuity, but it also maximises the level of suspense, since we, as the audience, are well aware, not only of the king\\'s ghastly actions, but also that the wife and the minstrel are oblivious to it all.<br /><br />Despite these innovations, \\'The Sealed Room\\' suffers from many of the shortcomings typical of the era. The entire film takes place in just two rooms, with footage captured from a total of just three positions, and so it is prone to become dull and monotonous at times. The acting performances are greatly exaggerated for extra effect, however, at least in the case of Arthur V. Johnson, his overplaying actually contributed to recognising the escalating madness of the betrayed king. A moment that I thought particularly effective was when the two lovers attempted to exit the room, only to find their only doorway replaced with a wall of solid stone. Their panicked reactions, accompanied by the silent maniacal cackling of the king, serve very well to create an impending sense of claustrophobia. I did think, however, that their supply of oxygen was exhausted surprisingly quickly.'"
      ]
     },
     "execution_count": 40,
     "metadata": {},
     "output_type": "execute_result"
    }
   ],
   "source": [
    "random.choice(outlires['review'].tolist())"
   ]
  },
  {
   "cell_type": "code",
   "execution_count": 41,
   "id": "5f0b0e73-e749-45eb-a791-f64d2315ee4e",
   "metadata": {
    "execution": {
     "iopub.execute_input": "2025-10-24T11:51:43.998129Z",
     "iopub.status.busy": "2025-10-24T11:51:43.997583Z",
     "iopub.status.idle": "2025-10-24T11:51:44.016204Z",
     "shell.execute_reply": "2025-10-24T11:51:44.014592Z"
    }
   },
   "outputs": [
    {
     "data": {
      "text/html": [
       "<div>\n",
       "<style scoped>\n",
       "    .dataframe tbody tr th:only-of-type {\n",
       "        vertical-align: middle;\n",
       "    }\n",
       "\n",
       "    .dataframe tbody tr th {\n",
       "        vertical-align: top;\n",
       "    }\n",
       "\n",
       "    .dataframe thead th {\n",
       "        text-align: right;\n",
       "    }\n",
       "</style>\n",
       "<table border=\"1\" class=\"dataframe\">\n",
       "  <thead>\n",
       "    <tr style=\"text-align: right;\">\n",
       "      <th></th>\n",
       "      <th>review</th>\n",
       "      <th>sentiment</th>\n",
       "      <th>review_charecters_len</th>\n",
       "      <th>review_word_len</th>\n",
       "    </tr>\n",
       "  </thead>\n",
       "  <tbody>\n",
       "    <tr>\n",
       "      <th>9</th>\n",
       "      <td>If you like original gut wrenching laughter yo...</td>\n",
       "      <td>positive</td>\n",
       "      <td>132</td>\n",
       "      <td>34</td>\n",
       "    </tr>\n",
       "    <tr>\n",
       "      <th>14</th>\n",
       "      <td>This a fantastic movie of three prisoners who ...</td>\n",
       "      <td>positive</td>\n",
       "      <td>219</td>\n",
       "      <td>51</td>\n",
       "    </tr>\n",
       "    <tr>\n",
       "      <th>63</th>\n",
       "      <td>Besides being boring, the scenes were oppressi...</td>\n",
       "      <td>negative</td>\n",
       "      <td>212</td>\n",
       "      <td>48</td>\n",
       "    </tr>\n",
       "    <tr>\n",
       "      <th>112</th>\n",
       "      <td>It's terrific when a funny movie doesn't make ...</td>\n",
       "      <td>negative</td>\n",
       "      <td>170</td>\n",
       "      <td>45</td>\n",
       "    </tr>\n",
       "    <tr>\n",
       "      <th>160</th>\n",
       "      <td>MYSTERY MEN has got to be THE stupidest film I...</td>\n",
       "      <td>positive</td>\n",
       "      <td>223</td>\n",
       "      <td>56</td>\n",
       "    </tr>\n",
       "    <tr>\n",
       "      <th>...</th>\n",
       "      <td>...</td>\n",
       "      <td>...</td>\n",
       "      <td>...</td>\n",
       "      <td>...</td>\n",
       "    </tr>\n",
       "    <tr>\n",
       "      <th>49920</th>\n",
       "      <td>I first saw this movie in the night program of...</td>\n",
       "      <td>positive</td>\n",
       "      <td>225</td>\n",
       "      <td>61</td>\n",
       "    </tr>\n",
       "    <tr>\n",
       "      <th>49929</th>\n",
       "      <td>This is John Waters best film to date. The cha...</td>\n",
       "      <td>positive</td>\n",
       "      <td>214</td>\n",
       "      <td>49</td>\n",
       "    </tr>\n",
       "    <tr>\n",
       "      <th>49942</th>\n",
       "      <td>The movie is not that bad, Ringo Lam sucks. I ...</td>\n",
       "      <td>negative</td>\n",
       "      <td>117</td>\n",
       "      <td>33</td>\n",
       "    </tr>\n",
       "    <tr>\n",
       "      <th>49968</th>\n",
       "      <td>I must say as a girl with a cowboy of my own,I...</td>\n",
       "      <td>positive</td>\n",
       "      <td>222</td>\n",
       "      <td>66</td>\n",
       "    </tr>\n",
       "    <tr>\n",
       "      <th>49969</th>\n",
       "      <td>I must admit that this is one of the worst mov...</td>\n",
       "      <td>negative</td>\n",
       "      <td>238</td>\n",
       "      <td>63</td>\n",
       "    </tr>\n",
       "  </tbody>\n",
       "</table>\n",
       "<p>1955 rows × 4 columns</p>\n",
       "</div>"
      ],
      "text/plain": [
       "                                                  review sentiment  \\\n",
       "9      If you like original gut wrenching laughter yo...  positive   \n",
       "14     This a fantastic movie of three prisoners who ...  positive   \n",
       "63     Besides being boring, the scenes were oppressi...  negative   \n",
       "112    It's terrific when a funny movie doesn't make ...  negative   \n",
       "160    MYSTERY MEN has got to be THE stupidest film I...  positive   \n",
       "...                                                  ...       ...   \n",
       "49920  I first saw this movie in the night program of...  positive   \n",
       "49929  This is John Waters best film to date. The cha...  positive   \n",
       "49942  The movie is not that bad, Ringo Lam sucks. I ...  negative   \n",
       "49968  I must say as a girl with a cowboy of my own,I...  positive   \n",
       "49969  I must admit that this is one of the worst mov...  negative   \n",
       "\n",
       "       review_charecters_len  review_word_len  \n",
       "9                        132               34  \n",
       "14                       219               51  \n",
       "63                       212               48  \n",
       "112                      170               45  \n",
       "160                      223               56  \n",
       "...                      ...              ...  \n",
       "49920                    225               61  \n",
       "49929                    214               49  \n",
       "49942                    117               33  \n",
       "49968                    222               66  \n",
       "49969                    238               63  \n",
       "\n",
       "[1955 rows x 4 columns]"
      ]
     },
     "execution_count": 41,
     "metadata": {},
     "output_type": "execute_result"
    }
   ],
   "source": [
    "df[df[\"review_charecters_len\"] < 250]"
   ]
  },
  {
   "cell_type": "code",
   "execution_count": 42,
   "id": "78cc030a-8a75-4cc0-a887-e0299402536c",
   "metadata": {
    "execution": {
     "iopub.execute_input": "2025-10-24T11:51:44.019611Z",
     "iopub.status.busy": "2025-10-24T11:51:44.019240Z",
     "iopub.status.idle": "2025-10-24T11:51:44.031952Z",
     "shell.execute_reply": "2025-10-24T11:51:44.029600Z"
    }
   },
   "outputs": [
    {
     "data": {
      "text/plain": [
       "\"This is a charming movie starring everyone's favorite cartoon chipmunks. In this feature we follow the band of rodents on an unforgettable balloon race around the world. Although there are lows, including an orphan penguin, all in all it's a great family film.\""
      ]
     },
     "execution_count": 42,
     "metadata": {},
     "output_type": "execute_result"
    }
   ],
   "source": [
    "random.choice(df[df[\"review_charecters_len\"] < 250]['review'].tolist())"
   ]
  },
  {
   "cell_type": "markdown",
   "id": "ccf57e21-d9f0-47e4-af65-9bcb5ca33ecf",
   "metadata": {},
   "source": [
    "## Quick Glance at Text"
   ]
  },
  {
   "cell_type": "code",
   "execution_count": 43,
   "id": "dbae8608-353c-4881-bdd8-b0f4186195fc",
   "metadata": {
    "execution": {
     "iopub.execute_input": "2025-10-24T11:51:44.035219Z",
     "iopub.status.busy": "2025-10-24T11:51:44.034828Z",
     "iopub.status.idle": "2025-10-24T11:51:44.056867Z",
     "shell.execute_reply": "2025-10-24T11:51:44.054568Z"
    }
   },
   "outputs": [
    {
     "name": "stdout",
     "output_type": "stream",
     "text": [
      "\n",
      "--- Example of a POSITIVE review ---\n",
      "\n"
     ]
    },
    {
     "data": {
      "text/plain": [
       "\"One of my desires is to be a film-maker, and I just have to say there's no way I will be able to compete with the powerful drama The War at Home. The reason is because the acting is perfect, and when you see the movie, you'll know what I'm talking about. All I can suggest is watching it, I got so involved in it and was extremely impressed.<br /><br />Estevez's and Sheen's relationship on the screen was absolutely amazing.<br /><br />And so was his relationship with his mother (Kathy Bates). Some of the best scenes include these 2. <br /><br />As well as the relationship between Sheen and his daughter, Estevez's sister in the film.<br /><br />10/10, and definitely in my top 10. I want the DVD!\""
      ]
     },
     "execution_count": 43,
     "metadata": {},
     "output_type": "execute_result"
    }
   ],
   "source": [
    "print(\"\\n--- Example of a POSITIVE review ---\\n\")\n",
    "random.choice(df[df['sentiment'] == 'positive']['review'].tolist())"
   ]
  },
  {
   "cell_type": "code",
   "execution_count": 44,
   "id": "9372f8ee-24b1-4cd8-b6d0-6b321bf271ee",
   "metadata": {
    "execution": {
     "iopub.execute_input": "2025-10-24T11:51:44.062000Z",
     "iopub.status.busy": "2025-10-24T11:51:44.061365Z",
     "iopub.status.idle": "2025-10-24T11:51:44.083600Z",
     "shell.execute_reply": "2025-10-24T11:51:44.082123Z"
    }
   },
   "outputs": [
    {
     "name": "stdout",
     "output_type": "stream",
     "text": [
      "\n",
      "--- Example of a NEGATIVE review ---\n",
      "\n"
     ]
    },
    {
     "data": {
      "text/plain": [
       "\"Utterly predictable silly show about a man who has killed his wife by mowing her down when driving and claimed he had blacked out. Why was he still driving a car? Why did he still feel able to drive a car having killed his wife with one? This question has not occurred to the writers. The story then witters on about a psychologist and her failing marriage which is tied into the failing marriage of wife-killing blackout driver. An omniscient mother and one dimensional child are thrown in for good measure, and the whole builds up to a predictable denouement and crashing finale. Are police psychologists so easily taken in? Deadful writing that the actors do their best with, but they are doomed to failure. This is on a par with a Harlequin Romance. Don't waste your time watching this one unless that's what you are aiming for.\""
      ]
     },
     "execution_count": 44,
     "metadata": {},
     "output_type": "execute_result"
    }
   ],
   "source": [
    "print(\"\\n--- Example of a NEGATIVE review ---\\n\")\n",
    "random.choice(df[df['sentiment'] == 'negative']['review'].tolist())"
   ]
  },
  {
   "cell_type": "code",
   "execution_count": 45,
   "id": "e47b633e-f8c1-4722-9ec7-b695094b578e",
   "metadata": {
    "execution": {
     "iopub.execute_input": "2025-10-24T11:51:44.086862Z",
     "iopub.status.busy": "2025-10-24T11:51:44.086467Z",
     "iopub.status.idle": "2025-10-24T11:51:44.198915Z",
     "shell.execute_reply": "2025-10-24T11:51:44.197076Z"
    }
   },
   "outputs": [
    {
     "data": {
      "text/plain": [
       "0         True\n",
       "1         True\n",
       "2         True\n",
       "3         True\n",
       "4         True\n",
       "         ...  \n",
       "49995     True\n",
       "49996     True\n",
       "49997     True\n",
       "49998    False\n",
       "49999     True\n",
       "Name: has_html, Length: 50000, dtype: bool"
      ]
     },
     "execution_count": 45,
     "metadata": {},
     "output_type": "execute_result"
    }
   ],
   "source": [
    "df[\"has_html\"] = df[\"review\"].apply(has_html)\n",
    "df[\"has_html\"]"
   ]
  },
  {
   "cell_type": "code",
   "execution_count": 46,
   "id": "9c6ed002-2b57-402c-acff-f739b68e00ac",
   "metadata": {
    "execution": {
     "iopub.execute_input": "2025-10-24T11:51:44.202148Z",
     "iopub.status.busy": "2025-10-24T11:51:44.201749Z",
     "iopub.status.idle": "2025-10-24T11:51:44.214641Z",
     "shell.execute_reply": "2025-10-24T11:51:44.212744Z"
    }
   },
   "outputs": [
    {
     "data": {
      "text/plain": [
       "has_html\n",
       "True     29202\n",
       "False    20798\n",
       "Name: count, dtype: int64"
      ]
     },
     "execution_count": 46,
     "metadata": {},
     "output_type": "execute_result"
    }
   ],
   "source": [
    "df[\"has_html\"].value_counts()"
   ]
  },
  {
   "cell_type": "code",
   "execution_count": 47,
   "id": "3b598a4c-525d-4692-a0bc-b22c939af51e",
   "metadata": {
    "execution": {
     "iopub.execute_input": "2025-10-24T11:51:44.218003Z",
     "iopub.status.busy": "2025-10-24T11:51:44.217513Z",
     "iopub.status.idle": "2025-10-24T11:51:44.232593Z",
     "shell.execute_reply": "2025-10-24T11:51:44.229990Z"
    }
   },
   "outputs": [
    {
     "data": {
      "text/plain": [
       "\"I found the film quite good for what I was expecting. Although I weary, because I have a fear of injection needles, I sort of came to expect when they were coming. So if you're not into needles, blood, the human body, and some good medical fun, put this movie back and rent another. As the other user commented, I was also please at the German attempt at a slasher film. I'm an American who just moved to Germany to stay with a family and saw this lying on the shelf. I love psychological thrillers, and I'd say this is somewhere along those lines. A character falls into places and feels misconstrued. While trying to dig her way out and find some truth to a situation, things get a little sticky and other aren't so sure she's on the right track. So throughout the film you're kept on edge about who's anatomy you might catch a glimpse of and who's rounding the next corner.\""
      ]
     },
     "execution_count": 47,
     "metadata": {},
     "output_type": "execute_result"
    }
   ],
   "source": [
    "random.choice(df[df[\"has_html\"] == False]['review'].tolist())"
   ]
  },
  {
   "cell_type": "markdown",
   "id": "3bfd9f52-d284-451d-9809-e9c153c9cdf3",
   "metadata": {},
   "source": [
    "## Saving the File"
   ]
  },
  {
   "cell_type": "code",
   "execution_count": 48,
   "id": "d9c2c581-c0fc-4db8-bbee-cfd9662d316b",
   "metadata": {
    "execution": {
     "iopub.execute_input": "2025-10-24T11:51:44.237554Z",
     "iopub.status.busy": "2025-10-24T11:51:44.237149Z",
     "iopub.status.idle": "2025-10-24T11:51:47.219383Z",
     "shell.execute_reply": "2025-10-24T11:51:47.215912Z"
    }
   },
   "outputs": [],
   "source": [
    "df.to_csv(os.path.join(RESULT_SAVE_DIR, RESULR_FILE_NAME), index=False)"
   ]
  },
  {
   "cell_type": "markdown",
   "id": "85ecb7cd-69cd-419d-b47f-a1c2961f7fb1",
   "metadata": {},
   "source": [
    "## Observations"
   ]
  },
  {
   "cell_type": "markdown",
   "id": "3349d1a8-c47d-4e44-b35e-d95b66f07d9e",
   "metadata": {},
   "source": [
    "Total samples: 50,000  \n",
    "Columns: review, sentiment  \n",
    "Sentiment labels: balanced (25k positive, 25k negative)  \n",
    "\n",
    "### Text Structure\n",
    "\n",
    "For Words\n",
    "1. Average review length: ~240 words\n",
    "2. Shortest review: 6 words\n",
    "3. Longest review: 2525 words\n",
    "4. Quantiles (min, 25%, 50%, 75%, max): 6, 131, 179, 291, 2525\n",
    "5. Distribution: not normal, right-skewed with a long tail and roughly 3.7k long reviews longer then 531 words.  \n",
    "\n",
    "For Characters  \n",
    "1. Average review length: ~1027 characters\n",
    "2. Shortest review: 25 characters\n",
    "3. Longest review: 10,877 characters\n",
    "4. Quantiles (min, 25%, 50%, 75%, max): 25, 546, 759, 1246, 10877\n",
    "5. Distribution: not normal, right-skewed with a long tail and around 3.75k long reviews longer then 2296 characters.  \n",
    "\n",
    "### Text Quality / Formatting\n",
    "\n",
    "~29k reviews contain HTML tags (e.g., \\<br />, \\<p>) which will need to be stripped.  \n",
    "Punctuation and capitalization vary heavily.  \n",
    "Some reviews include numbers, movie names, and actor mentions.  \n",
    "Occasional typos and elongated words (“goooood”, “awwwesome”) — may need normalization.  \n",
    "\n",
    "### Content Tone\n",
    "\n",
    "Positive reviews often include adjectives (“amazing”, “beautifully done”, “heartwarming”).  \n",
    "Negative reviews often include negations (“didn’t like”, “worst”, “boring”, “waste of time”).  \n",
    "No neutral/mixed category — binary sentiment only.  "
   ]
  },
  {
   "cell_type": "code",
   "execution_count": null,
   "id": "addbfdbe-2016-422a-afee-b3dc794a9994",
   "metadata": {},
   "outputs": [],
   "source": []
  }
 ],
 "metadata": {
  "kernelspec": {
   "display_name": "Python 3 (ipykernel)",
   "language": "python",
   "name": "python3"
  },
  "language_info": {
   "codemirror_mode": {
    "name": "ipython",
    "version": 3
   },
   "file_extension": ".py",
   "mimetype": "text/x-python",
   "name": "python",
   "nbconvert_exporter": "python",
   "pygments_lexer": "ipython3",
   "version": "3.10.18"
  }
 },
 "nbformat": 4,
 "nbformat_minor": 5
}
