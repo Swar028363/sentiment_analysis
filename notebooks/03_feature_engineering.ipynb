{
 "cells": [
  {
   "cell_type": "markdown",
   "id": "c103ccf1-95af-47d8-a540-c49cf98aa037",
   "metadata": {},
   "source": [
    "# Feature Engineering"
   ]
  },
  {
   "cell_type": "markdown",
   "id": "24065a97-5b6c-4da2-b55a-5edc6614937d",
   "metadata": {},
   "source": [
    "## Imports"
   ]
  },
  {
   "cell_type": "code",
   "execution_count": 1,
   "id": "a6a79191-9f3a-48f8-8e20-ebae4a2db3be",
   "metadata": {},
   "outputs": [],
   "source": [
    "import os\n",
    "import re\n",
    "import yaml\n",
    "import random\n",
    "import gensim\n",
    "\n",
    "import numpy as np \n",
    "import pandas as pd \n",
    "import seaborn as sns\n",
    "import matplotlib.pyplot as plt \n",
    "\n",
    "from scipy.sparse import save_npz\n",
    "from nltk.corpus import opinion_lexicon\n",
    "from sklearn.preprocessing import LabelEncoder\n",
    "from sklearn.feature_extraction.text import CountVectorizer, TfidfVectorizer\n",
    "\n",
    "from gensim.models import Word2Vec, FastText,Doc2Vec \n",
    "\n",
    "import sys\n",
    "sys.path.append(\"../\")\n",
    "from src.feature_engineering import *\n",
    "from src.utility import *"
   ]
  },
  {
   "cell_type": "markdown",
   "id": "0890012d-6ae2-448a-a23e-5aa1bd35aa5d",
   "metadata": {},
   "source": [
    "## Loading Config"
   ]
  },
  {
   "cell_type": "code",
   "execution_count": 2,
   "id": "ab0dcc8a-b827-4870-90df-a5aa1982a7cf",
   "metadata": {
    "scrolled": true
   },
   "outputs": [
    {
     "data": {
      "text/plain": [
       "{'use_gpu': True,\n",
       " 'random_seed': 42,\n",
       " 'save_after_each_stage': True,\n",
       " 'format': 'pkl',\n",
       " 'cleaned_data': 'data/interim/IMDB_cleaned.pkl',\n",
       " 'save_df_path': 'data/interim/IMDB_feature_engineered.pkl',\n",
       " 'label_encoder': {'save_path': 'models/label_encoder.pkl'},\n",
       " 'count_vectorizer': {'encoding': 'utf-8',\n",
       "  'decode_error': 'strict',\n",
       "  'strip_accents': None,\n",
       "  'ngram_range': (1, 3),\n",
       "  'analyzer': 'word',\n",
       "  'max_df': 0.9,\n",
       "  'min_df': 3,\n",
       "  'max_features': 20000,\n",
       "  'vocabulary': None,\n",
       "  'binary': False,\n",
       "  'save_vectorizer_path': 'models/count_vectorizer.pkl',\n",
       "  'save_matrix_path': 'data/interim/count_vectorized_reviwes.npz'},\n",
       " 'tfidf_vectorizer': {'encoding': 'utf-8',\n",
       "  'decode_error': 'strict',\n",
       "  'strip_accents': None,\n",
       "  'analyzer': 'word',\n",
       "  'ngram_range': (1, 3),\n",
       "  'max_df': 0.9,\n",
       "  'min_df': 3,\n",
       "  'max_features': 20000,\n",
       "  'vocabulary': None,\n",
       "  'binary': False,\n",
       "  'norm': 'l2',\n",
       "  'use_idf': True,\n",
       "  'smooth_idf': True,\n",
       "  'sublinear_tf': True,\n",
       "  'save_vectorizer_path': 'models/tfidf_vectorizer.pkl',\n",
       "  'save_matrix_path': 'data/interim/tfidf_vectorized_reviwes.npz'}}"
      ]
     },
     "execution_count": 2,
     "metadata": {},
     "output_type": "execute_result"
    }
   ],
   "source": [
    "with open(\"../config.yaml\") as f:\n",
    "    config = yaml.safe_load(f)\n",
    "    config = config[\"feature_engineering\"]\n",
    "fix_config_types(config)\n",
    "config"
   ]
  },
  {
   "cell_type": "code",
   "execution_count": 3,
   "id": "2fbaf22b-da0a-4936-b4af-67739709f5a6",
   "metadata": {},
   "outputs": [],
   "source": [
    "# --------------------------\n",
    "# GENERAL SETTINGS\n",
    "# --------------------------\n",
    "USE_GPU = config[\"use_gpu\"]\n",
    "RANDOM_SEED = config[\"random_seed\"]\n",
    "SAVE_AFTER_EACH_STAGE = config[\"save_after_each_stage\"]\n",
    "FORMAT = config[\"format\"]\n",
    "CLEANED_DATA = os.path.join(\"../\", config[\"cleaned_data\"])\n",
    "SAVE_DF_PATH = os.path.join(\"../\", config[\"save_df_path\"])\n",
    "\n",
    "LE_SAVE_PATH = os.path.join(\"../\", config[\"label_encoder\"][\"save_path\"])\n",
    "\n",
    "# --------------------------\n",
    "# COUNT VECTORIZER CONFIG\n",
    "# --------------------------\n",
    "COUNT_ENCODING = config[\"count_vectorizer\"][\"encoding\"]\n",
    "COUNT_DECODE_ERROR = config[\"count_vectorizer\"][\"decode_error\"]\n",
    "COUNT_STRIP_ACCENTS = config[\"count_vectorizer\"][\"strip_accents\"]\n",
    "COUNT_NGRAM_RANGE = config[\"count_vectorizer\"][\"ngram_range\"]\n",
    "COUNT_ANALYZER = config[\"count_vectorizer\"][\"analyzer\"]\n",
    "COUNT_MAX_DF = config[\"count_vectorizer\"][\"max_df\"]\n",
    "COUNT_MIN_DF = config[\"count_vectorizer\"][\"min_df\"]\n",
    "COUNT_MAX_FEATURES = config[\"count_vectorizer\"][\"max_features\"]\n",
    "COUNT_VOCABULARY = config[\"count_vectorizer\"][\"vocabulary\"]\n",
    "COUNT_BINARY = config[\"count_vectorizer\"][\"binary\"]\n",
    "COUNT_VECTORIZER_PATH = os.path.join(\"../\", config[\"count_vectorizer\"][\"save_vectorizer_path\"])\n",
    "COUNT_MATRIX_PATH = os.path.join(\"../\", config[\"count_vectorizer\"][\"save_matrix_path\"])\n",
    "\n",
    "# --------------------------\n",
    "# TF-IDF CONFIG\n",
    "# --------------------------\n",
    "TFIDF_ENCODING = config[\"tfidf_vectorizer\"][\"encoding\"]\n",
    "TFIDF_DECODE_ERROR = config[\"tfidf_vectorizer\"][\"decode_error\"]\n",
    "TFIDF_STRIP_ACCENTS = config[\"tfidf_vectorizer\"][\"strip_accents\"]\n",
    "TFIDF_ANALYZER = config[\"tfidf_vectorizer\"][\"analyzer\"]\n",
    "TFIDF_NGRAM_RANGE = config[\"tfidf_vectorizer\"][\"ngram_range\"]\n",
    "TFIDF_MAX_DF = config[\"tfidf_vectorizer\"][\"max_df\"]\n",
    "TFIDF_MIN_DF = config[\"tfidf_vectorizer\"][\"min_df\"]\n",
    "TFIDF_MAX_FEATURES = config[\"tfidf_vectorizer\"][\"max_features\"]\n",
    "TFIDF_VOCABULARY = config[\"tfidf_vectorizer\"][\"vocabulary\"]\n",
    "TFIDF_BINARY = config[\"tfidf_vectorizer\"][\"binary\"]\n",
    "TFIDF_NORM = config[\"tfidf_vectorizer\"][\"norm\"]\n",
    "TFIDF_USE_IDF = config[\"tfidf_vectorizer\"][\"use_idf\"]\n",
    "TFIDF_SMOOTH_IDF = config[\"tfidf_vectorizer\"][\"smooth_idf\"]\n",
    "TFIDF_SUBLINEAR_TF = config[\"tfidf_vectorizer\"][\"sublinear_tf\"]\n",
    "TFIDF_VECTORIZER_PATH = os.path.join(\"../\", config[\"tfidf_vectorizer\"][\"save_vectorizer_path\"])\n",
    "TFIDF_MATRIX_PATH = os.path.join(\"../\", config[\"tfidf_vectorizer\"][\"save_matrix_path\"])"
   ]
  },
  {
   "cell_type": "markdown",
   "id": "d11f0d3c-5013-414e-8918-ebe88f498db6",
   "metadata": {},
   "source": [
    "## Loading the data"
   ]
  },
  {
   "cell_type": "code",
   "execution_count": 4,
   "id": "92afb583-ddf0-4f99-8f57-8307d9aebef4",
   "metadata": {},
   "outputs": [
    {
     "data": {
      "text/html": [
       "<div>\n",
       "<style scoped>\n",
       "    .dataframe tbody tr th:only-of-type {\n",
       "        vertical-align: middle;\n",
       "    }\n",
       "\n",
       "    .dataframe tbody tr th {\n",
       "        vertical-align: top;\n",
       "    }\n",
       "\n",
       "    .dataframe thead th {\n",
       "        text-align: right;\n",
       "    }\n",
       "</style>\n",
       "<table border=\"1\" class=\"dataframe\">\n",
       "  <thead>\n",
       "    <tr style=\"text-align: right;\">\n",
       "      <th></th>\n",
       "      <th>review</th>\n",
       "      <th>sentiment</th>\n",
       "      <th>review_charecters_len</th>\n",
       "      <th>review_word_len</th>\n",
       "      <th>has_html</th>\n",
       "      <th>cleaned_review</th>\n",
       "      <th>tokens</th>\n",
       "      <th>cleaned_review_charecter_len</th>\n",
       "      <th>cleaned_review_word_len</th>\n",
       "      <th>cleaned_review_has_html</th>\n",
       "    </tr>\n",
       "  </thead>\n",
       "  <tbody>\n",
       "    <tr>\n",
       "      <th>0</th>\n",
       "      <td>One of the other reviewers has mentioned that ...</td>\n",
       "      <td>positive</td>\n",
       "      <td>1377</td>\n",
       "      <td>320</td>\n",
       "      <td>True</td>\n",
       "      <td>one reviewer mentioned watching oz episode hoo...</td>\n",
       "      <td>[one, reviewer, mentioned, watching, oz, episo...</td>\n",
       "      <td>931</td>\n",
       "      <td>162</td>\n",
       "      <td>False</td>\n",
       "    </tr>\n",
       "    <tr>\n",
       "      <th>1</th>\n",
       "      <td>A wonderful little production. &lt;br /&gt;&lt;br /&gt;The...</td>\n",
       "      <td>positive</td>\n",
       "      <td>793</td>\n",
       "      <td>166</td>\n",
       "      <td>True</td>\n",
       "      <td>wonderful little production filming technique ...</td>\n",
       "      <td>[wonderful, little, production, filming, techn...</td>\n",
       "      <td>557</td>\n",
       "      <td>84</td>\n",
       "      <td>False</td>\n",
       "    </tr>\n",
       "    <tr>\n",
       "      <th>2</th>\n",
       "      <td>I thought this was a wonderful way to spend ti...</td>\n",
       "      <td>positive</td>\n",
       "      <td>721</td>\n",
       "      <td>172</td>\n",
       "      <td>True</td>\n",
       "      <td>thought wonderful way spend time hot summer we...</td>\n",
       "      <td>[thought, wonderful, way, spend, time, hot, su...</td>\n",
       "      <td>495</td>\n",
       "      <td>83</td>\n",
       "      <td>False</td>\n",
       "    </tr>\n",
       "    <tr>\n",
       "      <th>3</th>\n",
       "      <td>Basically there's a family where a little boy ...</td>\n",
       "      <td>negative</td>\n",
       "      <td>569</td>\n",
       "      <td>141</td>\n",
       "      <td>True</td>\n",
       "      <td>basically family little boy jake think zombie ...</td>\n",
       "      <td>[basically, family, little, boy, jake, think, ...</td>\n",
       "      <td>362</td>\n",
       "      <td>62</td>\n",
       "      <td>False</td>\n",
       "    </tr>\n",
       "    <tr>\n",
       "      <th>4</th>\n",
       "      <td>Petter Mattei's \"Love in the Time of Money\" is...</td>\n",
       "      <td>positive</td>\n",
       "      <td>1032</td>\n",
       "      <td>236</td>\n",
       "      <td>True</td>\n",
       "      <td>petter matteis love time money visually stunni...</td>\n",
       "      <td>[petter, matteis, love, time, money, visually,...</td>\n",
       "      <td>725</td>\n",
       "      <td>123</td>\n",
       "      <td>False</td>\n",
       "    </tr>\n",
       "    <tr>\n",
       "      <th>...</th>\n",
       "      <td>...</td>\n",
       "      <td>...</td>\n",
       "      <td>...</td>\n",
       "      <td>...</td>\n",
       "      <td>...</td>\n",
       "      <td>...</td>\n",
       "      <td>...</td>\n",
       "      <td>...</td>\n",
       "      <td>...</td>\n",
       "      <td>...</td>\n",
       "    </tr>\n",
       "    <tr>\n",
       "      <th>49995</th>\n",
       "      <td>I thought this movie did a down right good job...</td>\n",
       "      <td>positive</td>\n",
       "      <td>769</td>\n",
       "      <td>205</td>\n",
       "      <td>True</td>\n",
       "      <td>thought movie right good job creative original...</td>\n",
       "      <td>[thought, movie, right, good, job, creative, o...</td>\n",
       "      <td>416</td>\n",
       "      <td>75</td>\n",
       "      <td>False</td>\n",
       "    </tr>\n",
       "    <tr>\n",
       "      <th>49996</th>\n",
       "      <td>Bad plot, bad dialogue, bad acting, idiotic di...</td>\n",
       "      <td>negative</td>\n",
       "      <td>505</td>\n",
       "      <td>115</td>\n",
       "      <td>True</td>\n",
       "      <td>bad plot bad dialogue bad acting idiotic direc...</td>\n",
       "      <td>[bad, plot, bad, dialogue, bad, acting, idioti...</td>\n",
       "      <td>344</td>\n",
       "      <td>56</td>\n",
       "      <td>False</td>\n",
       "    </tr>\n",
       "    <tr>\n",
       "      <th>49997</th>\n",
       "      <td>I am a Catholic taught in parochial elementary...</td>\n",
       "      <td>negative</td>\n",
       "      <td>1006</td>\n",
       "      <td>240</td>\n",
       "      <td>True</td>\n",
       "      <td>catholic taught parochial elementary school nu...</td>\n",
       "      <td>[catholic, taught, parochial, elementary, scho...</td>\n",
       "      <td>687</td>\n",
       "      <td>114</td>\n",
       "      <td>False</td>\n",
       "    </tr>\n",
       "    <tr>\n",
       "      <th>49998</th>\n",
       "      <td>I'm going to have to disagree with the previou...</td>\n",
       "      <td>negative</td>\n",
       "      <td>995</td>\n",
       "      <td>217</td>\n",
       "      <td>False</td>\n",
       "      <td>going disagree previous comment side maltin on...</td>\n",
       "      <td>[going, disagree, previous, comment, side, mal...</td>\n",
       "      <td>698</td>\n",
       "      <td>112</td>\n",
       "      <td>False</td>\n",
       "    </tr>\n",
       "    <tr>\n",
       "      <th>49999</th>\n",
       "      <td>No one expects the Star Trek movies to be high...</td>\n",
       "      <td>negative</td>\n",
       "      <td>526</td>\n",
       "      <td>129</td>\n",
       "      <td>True</td>\n",
       "      <td>one expects star trek movie high art fan expec...</td>\n",
       "      <td>[one, expects, star, trek, movie, high, art, f...</td>\n",
       "      <td>354</td>\n",
       "      <td>67</td>\n",
       "      <td>False</td>\n",
       "    </tr>\n",
       "  </tbody>\n",
       "</table>\n",
       "<p>50000 rows × 10 columns</p>\n",
       "</div>"
      ],
      "text/plain": [
       "                                                  review sentiment  \\\n",
       "0      One of the other reviewers has mentioned that ...  positive   \n",
       "1      A wonderful little production. <br /><br />The...  positive   \n",
       "2      I thought this was a wonderful way to spend ti...  positive   \n",
       "3      Basically there's a family where a little boy ...  negative   \n",
       "4      Petter Mattei's \"Love in the Time of Money\" is...  positive   \n",
       "...                                                  ...       ...   \n",
       "49995  I thought this movie did a down right good job...  positive   \n",
       "49996  Bad plot, bad dialogue, bad acting, idiotic di...  negative   \n",
       "49997  I am a Catholic taught in parochial elementary...  negative   \n",
       "49998  I'm going to have to disagree with the previou...  negative   \n",
       "49999  No one expects the Star Trek movies to be high...  negative   \n",
       "\n",
       "       review_charecters_len  review_word_len  has_html  \\\n",
       "0                       1377              320      True   \n",
       "1                        793              166      True   \n",
       "2                        721              172      True   \n",
       "3                        569              141      True   \n",
       "4                       1032              236      True   \n",
       "...                      ...              ...       ...   \n",
       "49995                    769              205      True   \n",
       "49996                    505              115      True   \n",
       "49997                   1006              240      True   \n",
       "49998                    995              217     False   \n",
       "49999                    526              129      True   \n",
       "\n",
       "                                          cleaned_review  \\\n",
       "0      one reviewer mentioned watching oz episode hoo...   \n",
       "1      wonderful little production filming technique ...   \n",
       "2      thought wonderful way spend time hot summer we...   \n",
       "3      basically family little boy jake think zombie ...   \n",
       "4      petter matteis love time money visually stunni...   \n",
       "...                                                  ...   \n",
       "49995  thought movie right good job creative original...   \n",
       "49996  bad plot bad dialogue bad acting idiotic direc...   \n",
       "49997  catholic taught parochial elementary school nu...   \n",
       "49998  going disagree previous comment side maltin on...   \n",
       "49999  one expects star trek movie high art fan expec...   \n",
       "\n",
       "                                                  tokens  \\\n",
       "0      [one, reviewer, mentioned, watching, oz, episo...   \n",
       "1      [wonderful, little, production, filming, techn...   \n",
       "2      [thought, wonderful, way, spend, time, hot, su...   \n",
       "3      [basically, family, little, boy, jake, think, ...   \n",
       "4      [petter, matteis, love, time, money, visually,...   \n",
       "...                                                  ...   \n",
       "49995  [thought, movie, right, good, job, creative, o...   \n",
       "49996  [bad, plot, bad, dialogue, bad, acting, idioti...   \n",
       "49997  [catholic, taught, parochial, elementary, scho...   \n",
       "49998  [going, disagree, previous, comment, side, mal...   \n",
       "49999  [one, expects, star, trek, movie, high, art, f...   \n",
       "\n",
       "       cleaned_review_charecter_len  cleaned_review_word_len  \\\n",
       "0                               931                      162   \n",
       "1                               557                       84   \n",
       "2                               495                       83   \n",
       "3                               362                       62   \n",
       "4                               725                      123   \n",
       "...                             ...                      ...   \n",
       "49995                           416                       75   \n",
       "49996                           344                       56   \n",
       "49997                           687                      114   \n",
       "49998                           698                      112   \n",
       "49999                           354                       67   \n",
       "\n",
       "       cleaned_review_has_html  \n",
       "0                        False  \n",
       "1                        False  \n",
       "2                        False  \n",
       "3                        False  \n",
       "4                        False  \n",
       "...                        ...  \n",
       "49995                    False  \n",
       "49996                    False  \n",
       "49997                    False  \n",
       "49998                    False  \n",
       "49999                    False  \n",
       "\n",
       "[50000 rows x 10 columns]"
      ]
     },
     "execution_count": 4,
     "metadata": {},
     "output_type": "execute_result"
    }
   ],
   "source": [
    "if FORMAT == \"csv\":\n",
    "    df = load_data_csv(CLEANED_DATA)\n",
    "elif FORMAT == \"pkl\":\n",
    "    df = load_pickle(CLEANED_DATA) \n",
    "df"
   ]
  },
  {
   "cell_type": "markdown",
   "id": "cc642ae6-b70d-4472-9a2d-d4d88127442d",
   "metadata": {},
   "source": [
    "## Lable Encoding Target(sentiment)"
   ]
  },
  {
   "cell_type": "code",
   "execution_count": 5,
   "id": "42ad170a-ecb7-41df-a816-8d600ef2ae4c",
   "metadata": {},
   "outputs": [
    {
     "data": {
      "text/plain": [
       "0    1\n",
       "1    1\n",
       "2    1\n",
       "3    0\n",
       "4    1\n",
       "Name: sentiment, dtype: int64"
      ]
     },
     "execution_count": 5,
     "metadata": {},
     "output_type": "execute_result"
    }
   ],
   "source": [
    "le = LabelEncoder()\n",
    "df[\"sentiment\"] = le.fit_transform(df[\"sentiment\"])\n",
    "save_pickle(le, LE_SAVE_PATH)\n",
    "df[\"sentiment\"].head()"
   ]
  },
  {
   "cell_type": "markdown",
   "id": "5d9aae36-0965-4465-936c-b49d2853f505",
   "metadata": {},
   "source": [
    "## Positive And Negative Words"
   ]
  },
  {
   "cell_type": "code",
   "execution_count": 6,
   "id": "d60e2536-ab3f-4be2-b157-925e2080e0d9",
   "metadata": {
    "execution": {
     "iopub.execute_input": "2025-10-24T11:58:32.875131Z",
     "iopub.status.busy": "2025-10-24T11:58:32.874688Z",
     "iopub.status.idle": "2025-10-24T11:58:32.966466Z",
     "shell.execute_reply": "2025-10-24T11:58:32.962111Z"
    },
    "scrolled": true
   },
   "outputs": [],
   "source": [
    "# using sets to make the search operation constant time\n",
    "pw = set(opinion_lexicon.positive())\n",
    "nw = set(opinion_lexicon.negative())"
   ]
  },
  {
   "cell_type": "code",
   "execution_count": 7,
   "id": "2789fb51-2228-4e24-9c92-f17db7e04e67",
   "metadata": {
    "execution": {
     "iopub.execute_input": "2025-10-24T11:58:32.971206Z",
     "iopub.status.busy": "2025-10-24T11:58:32.970785Z",
     "iopub.status.idle": "2025-10-24T11:58:32.980215Z",
     "shell.execute_reply": "2025-10-24T11:58:32.976875Z"
    }
   },
   "outputs": [
    {
     "data": {
      "text/plain": [
       "(True, True)"
      ]
     },
     "execution_count": 7,
     "metadata": {},
     "output_type": "execute_result"
    }
   ],
   "source": [
    "\"love\" in pw, \"hate\" in nw"
   ]
  },
  {
   "cell_type": "code",
   "execution_count": 8,
   "id": "eb6906d9-eb21-4868-bba8-c61b16b941ec",
   "metadata": {
    "execution": {
     "iopub.execute_input": "2025-10-24T11:58:32.986151Z",
     "iopub.status.busy": "2025-10-24T11:58:32.985659Z",
     "iopub.status.idle": "2025-10-24T11:58:33.001863Z",
     "shell.execute_reply": "2025-10-24T11:58:32.998778Z"
    },
    "scrolled": true
   },
   "outputs": [
    {
     "data": {
      "text/plain": [
       "['type',\n",
       " 'comment',\n",
       " 'watching',\n",
       " 'dvd',\n",
       " 'movie',\n",
       " 'got',\n",
       " 'mailorder',\n",
       " 'dealer',\n",
       " 'finding',\n",
       " 'hold',\n",
       " 'extremely',\n",
       " 'well',\n",
       " 'strong',\n",
       " 'characterization',\n",
       " 'believable',\n",
       " 'situation',\n",
       " 'wellstaged',\n",
       " 'action',\n",
       " 'scenesit',\n",
       " 'good',\n",
       " 'year',\n",
       " 'maybe',\n",
       " 'since',\n",
       " 'saw',\n",
       " 'hell',\n",
       " 'one',\n",
       " 'scene',\n",
       " 'made',\n",
       " 'extremely',\n",
       " 'deep',\n",
       " 'impression',\n",
       " 'sterling',\n",
       " 'holloways',\n",
       " 'death',\n",
       " 'scene',\n",
       " 'several',\n",
       " 'commenters',\n",
       " 'mentioned',\n",
       " 'gotten',\n",
       " 'scene',\n",
       " 'yet',\n",
       " 'viewing',\n",
       " 'vouch',\n",
       " 'comment',\n",
       " 'said',\n",
       " 'see',\n",
       " 'sterling',\n",
       " 'holloways',\n",
       " 'death',\n",
       " 'scene',\n",
       " 'movie',\n",
       " 'absolutely',\n",
       " 'never',\n",
       " 'ever',\n",
       " 'forget',\n",
       " 'judging',\n",
       " 'strong',\n",
       " 'film',\n",
       " 'far',\n",
       " 'holding',\n",
       " 'fully',\n",
       " 'expect',\n",
       " 'scene',\n",
       " 'live',\n",
       " 'memory',\n",
       " 'unquestionably',\n",
       " 'one',\n",
       " 'greatest',\n",
       " 'death',\n",
       " 'scene',\n",
       " 'movie',\n",
       " 'history',\n",
       " 'movie',\n",
       " 'worth',\n",
       " 'seeing',\n",
       " 'moment',\n",
       " 'alone',\n",
       " 'even',\n",
       " 'without',\n",
       " 'would',\n",
       " 'firstrate',\n",
       " 'early',\n",
       " 'submarine',\n",
       " 'drama']"
      ]
     },
     "execution_count": 8,
     "metadata": {},
     "output_type": "execute_result"
    }
   ],
   "source": [
    "tokens = random.choice(df[\"tokens\"].tolist())\n",
    "tokens"
   ]
  },
  {
   "cell_type": "code",
   "execution_count": 9,
   "id": "6a532e55-7b8c-45bb-a860-b4ba8af5707a",
   "metadata": {
    "execution": {
     "iopub.execute_input": "2025-10-24T11:58:33.005847Z",
     "iopub.status.busy": "2025-10-24T11:58:33.005347Z",
     "iopub.status.idle": "2025-10-24T11:58:33.018295Z",
     "shell.execute_reply": "2025-10-24T11:58:33.015902Z"
    },
    "scrolled": true
   },
   "outputs": [
    {
     "name": "stdout",
     "output_type": "stream",
     "text": [
      "CPU times: user 22 μs, sys: 3 μs, total: 25 μs\n",
      "Wall time: 29.1 μs\n"
     ]
    },
    {
     "data": {
      "text/plain": [
       "['well',\n",
       " 'strong',\n",
       " 'believable',\n",
       " 'good',\n",
       " 'vouch',\n",
       " 'strong',\n",
       " 'unquestionably',\n",
       " 'greatest',\n",
       " 'worth']"
      ]
     },
     "execution_count": 9,
     "metadata": {},
     "output_type": "execute_result"
    }
   ],
   "source": [
    "%%time\n",
    "get_positive_words(tokens, positive_words=pw)"
   ]
  },
  {
   "cell_type": "code",
   "execution_count": 10,
   "id": "5a4fea78-8790-44ab-9899-f9707a275ed7",
   "metadata": {
    "execution": {
     "iopub.execute_input": "2025-10-24T11:58:33.022023Z",
     "iopub.status.busy": "2025-10-24T11:58:33.021617Z",
     "iopub.status.idle": "2025-10-24T11:58:33.032303Z",
     "shell.execute_reply": "2025-10-24T11:58:33.029887Z"
    },
    "scrolled": true
   },
   "outputs": [
    {
     "name": "stdout",
     "output_type": "stream",
     "text": [
      "CPU times: user 20 μs, sys: 0 ns, total: 20 μs\n",
      "Wall time: 24.3 μs\n"
     ]
    },
    {
     "data": {
      "text/plain": [
       "['hell', 'death', 'death', 'death']"
      ]
     },
     "execution_count": 10,
     "metadata": {},
     "output_type": "execute_result"
    }
   ],
   "source": [
    "%%time\n",
    "get_negative_words(tokens, negative_words=nw)"
   ]
  },
  {
   "cell_type": "code",
   "execution_count": 11,
   "id": "5a80a9ae-dd0d-43f9-a393-9fa1cf74fcf8",
   "metadata": {
    "execution": {
     "iopub.execute_input": "2025-10-24T11:58:33.037592Z",
     "iopub.status.busy": "2025-10-24T11:58:33.037060Z",
     "iopub.status.idle": "2025-10-24T11:58:34.686039Z",
     "shell.execute_reply": "2025-10-24T11:58:34.683857Z"
    }
   },
   "outputs": [],
   "source": [
    "df[\"positive_tokens\"] = df[\"tokens\"].apply(lambda x: get_positive_words(x, positive_words=pw))\n",
    "df[\"negative_tokens\"] = df[\"tokens\"].apply(lambda x: get_negative_words(x, negative_words=nw))"
   ]
  },
  {
   "cell_type": "code",
   "execution_count": 12,
   "id": "1974064e-d694-44c4-8b82-49791870e9ee",
   "metadata": {
    "execution": {
     "iopub.execute_input": "2025-10-24T11:58:34.689747Z",
     "iopub.status.busy": "2025-10-24T11:58:34.689311Z",
     "iopub.status.idle": "2025-10-24T11:58:34.712986Z",
     "shell.execute_reply": "2025-10-24T11:58:34.710604Z"
    },
    "scrolled": true
   },
   "outputs": [
    {
     "data": {
      "text/plain": [
       "([['educated', 'terrific', 'terrific', 'talent']],\n",
       " [['plight', 'clueless', 'funny', 'smell']])"
      ]
     },
     "execution_count": 12,
     "metadata": {},
     "output_type": "execute_result"
    }
   ],
   "source": [
    "temp = df[[\"tokens\", \"positive_tokens\", \"negative_tokens\"]].sample(1)\n",
    "temp[\"positive_tokens\"].tolist(), temp[\"negative_tokens\"].tolist()"
   ]
  },
  {
   "cell_type": "code",
   "execution_count": 13,
   "id": "89f72c69-7f08-4efd-b00a-fa2c8d0fdf4c",
   "metadata": {
    "execution": {
     "iopub.execute_input": "2025-10-24T11:58:34.719076Z",
     "iopub.status.busy": "2025-10-24T11:58:34.718574Z",
     "iopub.status.idle": "2025-10-24T11:58:34.726974Z",
     "shell.execute_reply": "2025-10-24T11:58:34.725499Z"
    },
    "scrolled": true
   },
   "outputs": [
    {
     "data": {
      "text/plain": [
       "[['matter',\n",
       "  'whether',\n",
       "  'experienced',\n",
       "  'plight',\n",
       "  'elderly',\n",
       "  'america',\n",
       "  'plain',\n",
       "  'clueless',\n",
       "  'uncle',\n",
       "  'frank',\n",
       "  'matthew',\n",
       "  'ginsburg',\n",
       "  'give',\n",
       "  'clue',\n",
       "  'straight',\n",
       "  'forward',\n",
       "  'funny',\n",
       "  'wake',\n",
       "  'smell',\n",
       "  'rose',\n",
       "  'sort',\n",
       "  'way',\n",
       "  'end',\n",
       "  'film',\n",
       "  'obvious',\n",
       "  'totally',\n",
       "  'entertained',\n",
       "  'somehow',\n",
       "  'also',\n",
       "  'educated',\n",
       "  'terrific',\n",
       "  'film',\n",
       "  'terrific',\n",
       "  'coming',\n",
       "  'talent',\n",
       "  'movie',\n",
       "  'field',\n",
       "  'matthew',\n",
       "  'ginsburg',\n",
       "  'name',\n",
       "  'pay',\n",
       "  'attention']]"
      ]
     },
     "execution_count": 13,
     "metadata": {},
     "output_type": "execute_result"
    }
   ],
   "source": [
    "temp[\"tokens\"].tolist()"
   ]
  },
  {
   "cell_type": "code",
   "execution_count": 14,
   "id": "581e1915-23c6-46f2-b1aa-2919bc032046",
   "metadata": {
    "execution": {
     "iopub.execute_input": "2025-10-24T11:58:34.732794Z",
     "iopub.status.busy": "2025-10-24T11:58:34.732217Z",
     "iopub.status.idle": "2025-10-24T11:58:34.786762Z",
     "shell.execute_reply": "2025-10-24T11:58:34.784751Z"
    }
   },
   "outputs": [],
   "source": [
    "df[\"positive_tokens_len\"] = df[\"positive_tokens\"].apply(len)\n",
    "df[\"negative_tokens_len\"] = df[\"negative_tokens\"].apply(len)"
   ]
  },
  {
   "cell_type": "code",
   "execution_count": 15,
   "id": "02053f4a-103e-45ca-af65-0c580f130f3d",
   "metadata": {
    "execution": {
     "iopub.execute_input": "2025-10-24T11:58:34.790376Z",
     "iopub.status.busy": "2025-10-24T11:58:34.789980Z",
     "iopub.status.idle": "2025-10-24T11:58:34.822745Z",
     "shell.execute_reply": "2025-10-24T11:58:34.821415Z"
    }
   },
   "outputs": [
    {
     "data": {
      "text/html": [
       "<div>\n",
       "<style scoped>\n",
       "    .dataframe tbody tr th:only-of-type {\n",
       "        vertical-align: middle;\n",
       "    }\n",
       "\n",
       "    .dataframe tbody tr th {\n",
       "        vertical-align: top;\n",
       "    }\n",
       "\n",
       "    .dataframe thead th {\n",
       "        text-align: right;\n",
       "    }\n",
       "</style>\n",
       "<table border=\"1\" class=\"dataframe\">\n",
       "  <thead>\n",
       "    <tr style=\"text-align: right;\">\n",
       "      <th></th>\n",
       "      <th>review</th>\n",
       "      <th>sentiment</th>\n",
       "      <th>review_charecters_len</th>\n",
       "      <th>review_word_len</th>\n",
       "      <th>has_html</th>\n",
       "      <th>cleaned_review</th>\n",
       "      <th>tokens</th>\n",
       "      <th>cleaned_review_charecter_len</th>\n",
       "      <th>cleaned_review_word_len</th>\n",
       "      <th>cleaned_review_has_html</th>\n",
       "      <th>positive_tokens</th>\n",
       "      <th>negative_tokens</th>\n",
       "      <th>positive_tokens_len</th>\n",
       "      <th>negative_tokens_len</th>\n",
       "    </tr>\n",
       "  </thead>\n",
       "  <tbody>\n",
       "    <tr>\n",
       "      <th>0</th>\n",
       "      <td>One of the other reviewers has mentioned that ...</td>\n",
       "      <td>1</td>\n",
       "      <td>1377</td>\n",
       "      <td>320</td>\n",
       "      <td>True</td>\n",
       "      <td>one reviewer mentioned watching oz episode hoo...</td>\n",
       "      <td>[one, reviewer, mentioned, watching, oz, episo...</td>\n",
       "      <td>931</td>\n",
       "      <td>162</td>\n",
       "      <td>False</td>\n",
       "      <td>[right, right, trust, regard, classic, appeal,...</td>\n",
       "      <td>[struck, brutality, faint, timid, punch, priso...</td>\n",
       "      <td>13</td>\n",
       "      <td>20</td>\n",
       "    </tr>\n",
       "    <tr>\n",
       "      <th>1</th>\n",
       "      <td>A wonderful little production. &lt;br /&gt;&lt;br /&gt;The...</td>\n",
       "      <td>1</td>\n",
       "      <td>793</td>\n",
       "      <td>166</td>\n",
       "      <td>True</td>\n",
       "      <td>wonderful little production filming technique ...</td>\n",
       "      <td>[wonderful, little, production, filming, techn...</td>\n",
       "      <td>557</td>\n",
       "      <td>84</td>\n",
       "      <td>False</td>\n",
       "      <td>[wonderful, comforting, well, seamless, well, ...</td>\n",
       "      <td>[terribly]</td>\n",
       "      <td>11</td>\n",
       "      <td>1</td>\n",
       "    </tr>\n",
       "    <tr>\n",
       "      <th>2</th>\n",
       "      <td>I thought this was a wonderful way to spend ti...</td>\n",
       "      <td>1</td>\n",
       "      <td>721</td>\n",
       "      <td>172</td>\n",
       "      <td>True</td>\n",
       "      <td>thought wonderful way spend time hot summer we...</td>\n",
       "      <td>[thought, wonderful, way, spend, time, hot, su...</td>\n",
       "      <td>495</td>\n",
       "      <td>83</td>\n",
       "      <td>False</td>\n",
       "      <td>[wonderful, hot, witty, likable, well, impress...</td>\n",
       "      <td>[plot, simplistic, killer, disappointed, risk,...</td>\n",
       "      <td>11</td>\n",
       "      <td>6</td>\n",
       "    </tr>\n",
       "    <tr>\n",
       "      <th>3</th>\n",
       "      <td>Basically there's a family where a little boy ...</td>\n",
       "      <td>0</td>\n",
       "      <td>569</td>\n",
       "      <td>141</td>\n",
       "      <td>True</td>\n",
       "      <td>basically family little boy jake think zombie ...</td>\n",
       "      <td>[basically, family, little, boy, jake, think, ...</td>\n",
       "      <td>362</td>\n",
       "      <td>62</td>\n",
       "      <td>False</td>\n",
       "      <td>[like, well]</td>\n",
       "      <td>[zombie, slower, kill, ruin, meaningless, ignore]</td>\n",
       "      <td>2</td>\n",
       "      <td>6</td>\n",
       "    </tr>\n",
       "    <tr>\n",
       "      <th>4</th>\n",
       "      <td>Petter Mattei's \"Love in the Time of Money\" is...</td>\n",
       "      <td>1</td>\n",
       "      <td>1032</td>\n",
       "      <td>236</td>\n",
       "      <td>True</td>\n",
       "      <td>petter matteis love time money visually stunni...</td>\n",
       "      <td>[petter, matteis, love, time, money, visually,...</td>\n",
       "      <td>725</td>\n",
       "      <td>123</td>\n",
       "      <td>False</td>\n",
       "      <td>[love, stunning, vivid, success, stylishly, so...</td>\n",
       "      <td>[loneliness, anxiously]</td>\n",
       "      <td>15</td>\n",
       "      <td>2</td>\n",
       "    </tr>\n",
       "  </tbody>\n",
       "</table>\n",
       "</div>"
      ],
      "text/plain": [
       "                                              review  sentiment  \\\n",
       "0  One of the other reviewers has mentioned that ...          1   \n",
       "1  A wonderful little production. <br /><br />The...          1   \n",
       "2  I thought this was a wonderful way to spend ti...          1   \n",
       "3  Basically there's a family where a little boy ...          0   \n",
       "4  Petter Mattei's \"Love in the Time of Money\" is...          1   \n",
       "\n",
       "   review_charecters_len  review_word_len  has_html  \\\n",
       "0                   1377              320      True   \n",
       "1                    793              166      True   \n",
       "2                    721              172      True   \n",
       "3                    569              141      True   \n",
       "4                   1032              236      True   \n",
       "\n",
       "                                      cleaned_review  \\\n",
       "0  one reviewer mentioned watching oz episode hoo...   \n",
       "1  wonderful little production filming technique ...   \n",
       "2  thought wonderful way spend time hot summer we...   \n",
       "3  basically family little boy jake think zombie ...   \n",
       "4  petter matteis love time money visually stunni...   \n",
       "\n",
       "                                              tokens  \\\n",
       "0  [one, reviewer, mentioned, watching, oz, episo...   \n",
       "1  [wonderful, little, production, filming, techn...   \n",
       "2  [thought, wonderful, way, spend, time, hot, su...   \n",
       "3  [basically, family, little, boy, jake, think, ...   \n",
       "4  [petter, matteis, love, time, money, visually,...   \n",
       "\n",
       "   cleaned_review_charecter_len  cleaned_review_word_len  \\\n",
       "0                           931                      162   \n",
       "1                           557                       84   \n",
       "2                           495                       83   \n",
       "3                           362                       62   \n",
       "4                           725                      123   \n",
       "\n",
       "   cleaned_review_has_html                                    positive_tokens  \\\n",
       "0                    False  [right, right, trust, regard, classic, appeal,...   \n",
       "1                    False  [wonderful, comforting, well, seamless, well, ...   \n",
       "2                    False  [wonderful, hot, witty, likable, well, impress...   \n",
       "3                    False                                       [like, well]   \n",
       "4                    False  [love, stunning, vivid, success, stylishly, so...   \n",
       "\n",
       "                                     negative_tokens  positive_tokens_len  \\\n",
       "0  [struck, brutality, faint, timid, punch, priso...                   13   \n",
       "1                                         [terribly]                   11   \n",
       "2  [plot, simplistic, killer, disappointed, risk,...                   11   \n",
       "3  [zombie, slower, kill, ruin, meaningless, ignore]                    2   \n",
       "4                            [loneliness, anxiously]                   15   \n",
       "\n",
       "   negative_tokens_len  \n",
       "0                   20  \n",
       "1                    1  \n",
       "2                    6  \n",
       "3                    6  \n",
       "4                    2  "
      ]
     },
     "execution_count": 15,
     "metadata": {},
     "output_type": "execute_result"
    }
   ],
   "source": [
    "df.head()"
   ]
  },
  {
   "cell_type": "code",
   "execution_count": 16,
   "id": "1d57fb60-3e91-46ca-a48c-a8f5053b98b9",
   "metadata": {
    "execution": {
     "iopub.execute_input": "2025-10-24T11:58:34.826860Z",
     "iopub.status.busy": "2025-10-24T11:58:34.826333Z",
     "iopub.status.idle": "2025-10-24T11:58:34.870576Z",
     "shell.execute_reply": "2025-10-24T11:58:34.867888Z"
    }
   },
   "outputs": [
    {
     "data": {
      "text/html": [
       "<div>\n",
       "<style scoped>\n",
       "    .dataframe tbody tr th:only-of-type {\n",
       "        vertical-align: middle;\n",
       "    }\n",
       "\n",
       "    .dataframe tbody tr th {\n",
       "        vertical-align: top;\n",
       "    }\n",
       "\n",
       "    .dataframe thead th {\n",
       "        text-align: right;\n",
       "    }\n",
       "</style>\n",
       "<table border=\"1\" class=\"dataframe\">\n",
       "  <thead>\n",
       "    <tr style=\"text-align: right;\">\n",
       "      <th></th>\n",
       "      <th>sentiment</th>\n",
       "      <th>positive_tokens_len</th>\n",
       "      <th>negative_tokens_len</th>\n",
       "    </tr>\n",
       "  </thead>\n",
       "  <tbody>\n",
       "    <tr>\n",
       "      <th>count</th>\n",
       "      <td>50000.000000</td>\n",
       "      <td>50000.000000</td>\n",
       "      <td>50000.000000</td>\n",
       "    </tr>\n",
       "    <tr>\n",
       "      <th>mean</th>\n",
       "      <td>0.500000</td>\n",
       "      <td>9.734520</td>\n",
       "      <td>9.493540</td>\n",
       "    </tr>\n",
       "    <tr>\n",
       "      <th>std</th>\n",
       "      <td>0.500005</td>\n",
       "      <td>7.667152</td>\n",
       "      <td>8.586845</td>\n",
       "    </tr>\n",
       "    <tr>\n",
       "      <th>min</th>\n",
       "      <td>0.000000</td>\n",
       "      <td>0.000000</td>\n",
       "      <td>0.000000</td>\n",
       "    </tr>\n",
       "    <tr>\n",
       "      <th>25%</th>\n",
       "      <td>0.000000</td>\n",
       "      <td>5.000000</td>\n",
       "      <td>4.000000</td>\n",
       "    </tr>\n",
       "    <tr>\n",
       "      <th>50%</th>\n",
       "      <td>0.500000</td>\n",
       "      <td>8.000000</td>\n",
       "      <td>7.000000</td>\n",
       "    </tr>\n",
       "    <tr>\n",
       "      <th>75%</th>\n",
       "      <td>1.000000</td>\n",
       "      <td>12.000000</td>\n",
       "      <td>12.000000</td>\n",
       "    </tr>\n",
       "    <tr>\n",
       "      <th>max</th>\n",
       "      <td>1.000000</td>\n",
       "      <td>93.000000</td>\n",
       "      <td>121.000000</td>\n",
       "    </tr>\n",
       "  </tbody>\n",
       "</table>\n",
       "</div>"
      ],
      "text/plain": [
       "          sentiment  positive_tokens_len  negative_tokens_len\n",
       "count  50000.000000         50000.000000         50000.000000\n",
       "mean       0.500000             9.734520             9.493540\n",
       "std        0.500005             7.667152             8.586845\n",
       "min        0.000000             0.000000             0.000000\n",
       "25%        0.000000             5.000000             4.000000\n",
       "50%        0.500000             8.000000             7.000000\n",
       "75%        1.000000            12.000000            12.000000\n",
       "max        1.000000            93.000000           121.000000"
      ]
     },
     "execution_count": 16,
     "metadata": {},
     "output_type": "execute_result"
    }
   ],
   "source": [
    "df[[\"sentiment\", \"positive_tokens_len\",\"negative_tokens_len\"]].describe()"
   ]
  },
  {
   "cell_type": "code",
   "execution_count": 17,
   "id": "4829d75a-4768-4fb4-abac-e168d5d46c89",
   "metadata": {
    "execution": {
     "iopub.execute_input": "2025-10-24T11:58:34.874973Z",
     "iopub.status.busy": "2025-10-24T11:58:34.874541Z",
     "iopub.status.idle": "2025-10-24T11:58:35.557876Z",
     "shell.execute_reply": "2025-10-24T11:58:35.555915Z"
    }
   },
   "outputs": [
    {
     "data": {
      "image/png": "[encoded data removed]",
      "text/plain": [
       "<Figure size 640x480 with 2 Axes>"
      ]
     },
     "metadata": {},
     "output_type": "display_data"
    }
   ],
   "source": [
    "sns.heatmap(df[[\"sentiment\", \"positive_tokens_len\",\"negative_tokens_len\", \n",
    "                \"review_charecters_len\", \"review_word_len\", \"cleaned_review_charecter_len\", \n",
    "                \"cleaned_review_word_len\"]].corr(numeric_only=True), annot=True, fmt=\".2f\")\n",
    "plt.show()"
   ]
  },
  {
   "cell_type": "markdown",
   "id": "ed445b9e-c0cd-41b5-878b-0571eb4de15b",
   "metadata": {},
   "source": [
    "## Saving df"
   ]
  },
  {
   "cell_type": "code",
   "execution_count": 18,
   "id": "8f3989ba-af85-4577-900e-40a415bf5e7d",
   "metadata": {
    "execution": {
     "iopub.execute_input": "2025-10-24T11:58:35.564154Z",
     "iopub.status.busy": "2025-10-24T11:58:35.563398Z",
     "iopub.status.idle": "2025-10-24T11:58:41.021888Z",
     "shell.execute_reply": "2025-10-24T11:58:41.017178Z"
    }
   },
   "outputs": [],
   "source": [
    "save_pickle(df, SAVE_DF_PATH)"
   ]
  },
  {
   "cell_type": "markdown",
   "id": "19c60481-d0ea-4134-9aa5-70e66ca03f43",
   "metadata": {},
   "source": [
    "## Count Vectorizer"
   ]
  },
  {
   "cell_type": "code",
   "execution_count": 19,
   "id": "651a56f3-ea5c-4b56-a1b2-7ab70ad5872a",
   "metadata": {
    "execution": {
     "iopub.execute_input": "2025-10-24T11:58:41.040613Z",
     "iopub.status.busy": "2025-10-24T11:58:41.038063Z",
     "iopub.status.idle": "2025-10-24T11:58:41.061043Z",
     "shell.execute_reply": "2025-10-24T11:58:41.057290Z"
    }
   },
   "outputs": [],
   "source": [
    "countVecer = CountVectorizer(\n",
    "    encoding='utf-8',                     # Character encoding (e.g., 'latin1' for non-UTF files)\n",
    "    decode_error='strict',                # How to handle decode errors: 'strict', 'ignore', or 'replace'\n",
    "    strip_accents=None,                   # 'ascii'/'unicode' removes accents (e.g., “café”→“cafe”)\n",
    "    ngram_range=(1, 3),                   # Use unigrams only; (1,2) for unigrams + bigrams, etc.\n",
    "    analyzer='word',                      # 'word' (default), 'char', or 'char_wb' for character n-grams\n",
    "    max_df=1.0,                           # Ignore terms in >X% of docs (e.g., 0.9 removes common words)\n",
    "    min_df=1,                             # Ignore terms in <X docs (e.g., 2 removes rare words)\n",
    "    max_features=None,                    # Limit vocab size to top N most frequent tokens\n",
    "    vocabulary=None,                      # Fixed vocabulary dict/list if you already know the terms\n",
    "    binary=False,                         # If True, record presence (1/0) instead of counts\n",
    "    dtype=float,                          # Type of matrix values (int, float, etc.)\n",
    ")"
   ]
  },
  {
   "cell_type": "code",
   "execution_count": 20,
   "id": "c7d956e4-80f2-4b6b-9231-6851c742a735",
   "metadata": {
    "execution": {
     "iopub.execute_input": "2025-10-24T11:58:41.072051Z",
     "iopub.status.busy": "2025-10-24T11:58:41.071463Z",
     "iopub.status.idle": "2025-10-24T11:58:41.292425Z",
     "shell.execute_reply": "2025-10-24T11:58:41.288151Z"
    }
   },
   "outputs": [
    {
     "data": {
      "text/plain": [
       "45679    thought movie lacked building dramatic suspens...\n",
       "Name: cleaned_review, dtype: object"
      ]
     },
     "execution_count": 20,
     "metadata": {},
     "output_type": "execute_result"
    }
   ],
   "source": [
    "r = df['cleaned_review'].sample(1)\n",
    "countVectorized = countVecer.fit_transform(r)\n",
    "r"
   ]
  },
  {
   "cell_type": "code",
   "execution_count": 21,
   "id": "36b5a498-8f60-45c4-9446-b1272d088e8d",
   "metadata": {
    "execution": {
     "iopub.execute_input": "2025-10-24T11:58:41.300958Z",
     "iopub.status.busy": "2025-10-24T11:58:41.299999Z",
     "iopub.status.idle": "2025-10-24T11:58:41.315237Z",
     "shell.execute_reply": "2025-10-24T11:58:41.311869Z"
    }
   },
   "outputs": [
    {
     "data": {
      "text/plain": [
       "((1, 193),\n",
       " <Compressed Sparse Row sparse matrix of dtype 'float64'\n",
       " \twith 193 stored elements and shape (1, 193)>)"
      ]
     },
     "execution_count": 21,
     "metadata": {},
     "output_type": "execute_result"
    }
   ],
   "source": [
    "countVectorized.get_shape(), countVectorized"
   ]
  },
  {
   "cell_type": "code",
   "execution_count": 22,
   "id": "0df4a0d4-278a-4f4c-88b6-305df455e482",
   "metadata": {
    "execution": {
     "iopub.execute_input": "2025-10-24T11:58:41.323446Z",
     "iopub.status.busy": "2025-10-24T11:58:41.322592Z",
     "iopub.status.idle": "2025-10-24T11:58:41.339008Z",
     "shell.execute_reply": "2025-10-24T11:58:41.335812Z"
    },
    "scrolled": true
   },
   "outputs": [
    {
     "data": {
      "text/plain": [
       "array(['accomplish', 'accomplish film', 'accomplish film take', 'amy',\n",
       "       'amy irving', 'amy irving scene', 'another', 'another bring',\n",
       "       'another bring involvement', 'apart', 'apart opening',\n",
       "       'apart opening scene', 'best', 'best friend', 'best friend died',\n",
       "       'bring', 'bring involvement', 'bring involvement amy', 'brought',\n",
       "       'brought movie', 'brought movie pace', 'building',\n",
       "       'building dramatic', 'building dramatic suspense', 'climatic',\n",
       "       'climatic scene', 'climatic scene period', 'conclusion',\n",
       "       'conclusion movie', 'conclusion movie could', 'could', 'could hit',\n",
       "       'could hit fell', 'dialog', 'dialog movie',\n",
       "       'dialog movie terrible', 'died', 'died funeral',\n",
       "       'died funeral mentioned', 'dramatic', 'dramatic suspense',\n",
       "       'dramatic suspense first', 'fell', 'fell apart',\n",
       "       'fell apart opening', 'film', 'film movie', 'film movie went',\n",
       "       'film take', 'film take place', 'final', 'final climatic',\n",
       "       'final climatic scene', 'first', 'first movie', 'first movie hard',\n",
       "       'friend', 'friend died', 'friend died funeral', 'funeral',\n",
       "       'funeral mentioned', 'funeral mentioned movie', 'good',\n",
       "       'good thing', 'good thing film', 'hard', 'hard accomplish',\n",
       "       'hard accomplish film', 'hit', 'hit fell', 'hit fell apart',\n",
       "       'involvement', 'involvement amy', 'involvement amy irving',\n",
       "       'irving', 'irving scene', 'irving scene brought', 'kid',\n",
       "       'kid talk', 'kid talk conclusion', 'lacked', 'lacked building',\n",
       "       'lacked building dramatic', 'lead', 'lead final',\n",
       "       'lead final climatic', 'less', 'less violent',\n",
       "       'less violent sequel', 'mentioned', 'mentioned movie',\n",
       "       'mentioned movie another', 'movie', 'movie another',\n",
       "       'movie another bring', 'movie could', 'movie could hit',\n",
       "       'movie hard', 'movie hard accomplish', 'movie lacked',\n",
       "       'movie lacked building', 'movie lead', 'movie lead final',\n",
       "       'movie pace', 'movie pace dialog', 'movie terrible',\n",
       "       'movie terrible way', 'movie went', 'movie went relatively', 'one',\n",
       "       'one good', 'one good thing', 'opening', 'opening scene',\n",
       "       'original', 'original movie', 'original movie lead', 'pace',\n",
       "       'pace dialog', 'pace dialog movie', 'period', 'period year',\n",
       "       'period year still', 'place', 'place week', 'place week original',\n",
       "       'plot', 'plot seemed', 'plot seemed rushed', 'quickly',\n",
       "       'quickly plot', 'quickly plot seemed', 'rachel', 'rachel best',\n",
       "       'rachel best friend', 'reflected', 'reflected way',\n",
       "       'reflected way kid', 'relatively', 'relatively quickly',\n",
       "       'relatively quickly plot', 'rushed', 'rushed rachel',\n",
       "       'rushed rachel best', 'scene', 'scene brought',\n",
       "       'scene brought movie', 'scene period', 'scene period year',\n",
       "       'seemed', 'seemed rushed', 'seemed rushed rachel', 'sequel',\n",
       "       'sequel one', 'sequel one good', 'still', 'still less',\n",
       "       'still less violent', 'suspense', 'suspense first',\n",
       "       'suspense first movie', 'take', 'take place', 'take place week',\n",
       "       'talk', 'talk conclusion', 'talk conclusion movie', 'terrible',\n",
       "       'terrible way', 'terrible way reflected', 'thing', 'thing film',\n",
       "       'thing film movie', 'thought', 'thought movie',\n",
       "       'thought movie lacked', 'violent', 'violent sequel',\n",
       "       'violent sequel one', 'way', 'way kid', 'way kid talk',\n",
       "       'way reflected', 'way reflected way', 'week', 'week original',\n",
       "       'week original movie', 'went', 'went relatively',\n",
       "       'went relatively quickly', 'year', 'year still', 'year still less'],\n",
       "      dtype=object)"
      ]
     },
     "execution_count": 22,
     "metadata": {},
     "output_type": "execute_result"
    }
   ],
   "source": [
    "countVecer.get_feature_names_out()"
   ]
  },
  {
   "cell_type": "code",
   "execution_count": 23,
   "id": "b1f03aa1-fd91-4655-9064-e24ded1c5784",
   "metadata": {
    "execution": {
     "iopub.execute_input": "2025-10-24T11:58:41.345447Z",
     "iopub.status.busy": "2025-10-24T11:58:41.344104Z",
     "iopub.status.idle": "2025-10-24T11:58:41.397926Z",
     "shell.execute_reply": "2025-10-24T11:58:41.393218Z"
    }
   },
   "outputs": [
    {
     "data": {
      "text/html": [
       "<div>\n",
       "<style scoped>\n",
       "    .dataframe tbody tr th:only-of-type {\n",
       "        vertical-align: middle;\n",
       "    }\n",
       "\n",
       "    .dataframe tbody tr th {\n",
       "        vertical-align: top;\n",
       "    }\n",
       "\n",
       "    .dataframe thead th {\n",
       "        text-align: right;\n",
       "    }\n",
       "</style>\n",
       "<table border=\"1\" class=\"dataframe\">\n",
       "  <thead>\n",
       "    <tr style=\"text-align: right;\">\n",
       "      <th></th>\n",
       "      <th>accomplish</th>\n",
       "      <th>accomplish film</th>\n",
       "      <th>accomplish film take</th>\n",
       "      <th>amy</th>\n",
       "      <th>amy irving</th>\n",
       "      <th>amy irving scene</th>\n",
       "      <th>another</th>\n",
       "      <th>another bring</th>\n",
       "      <th>another bring involvement</th>\n",
       "      <th>apart</th>\n",
       "      <th>...</th>\n",
       "      <th>way reflected way</th>\n",
       "      <th>week</th>\n",
       "      <th>week original</th>\n",
       "      <th>week original movie</th>\n",
       "      <th>went</th>\n",
       "      <th>went relatively</th>\n",
       "      <th>went relatively quickly</th>\n",
       "      <th>year</th>\n",
       "      <th>year still</th>\n",
       "      <th>year still less</th>\n",
       "    </tr>\n",
       "  </thead>\n",
       "  <tbody>\n",
       "    <tr>\n",
       "      <th>0</th>\n",
       "      <td>1.0</td>\n",
       "      <td>1.0</td>\n",
       "      <td>1.0</td>\n",
       "      <td>1.0</td>\n",
       "      <td>1.0</td>\n",
       "      <td>1.0</td>\n",
       "      <td>1.0</td>\n",
       "      <td>1.0</td>\n",
       "      <td>1.0</td>\n",
       "      <td>1.0</td>\n",
       "      <td>...</td>\n",
       "      <td>1.0</td>\n",
       "      <td>1.0</td>\n",
       "      <td>1.0</td>\n",
       "      <td>1.0</td>\n",
       "      <td>1.0</td>\n",
       "      <td>1.0</td>\n",
       "      <td>1.0</td>\n",
       "      <td>1.0</td>\n",
       "      <td>1.0</td>\n",
       "      <td>1.0</td>\n",
       "    </tr>\n",
       "  </tbody>\n",
       "</table>\n",
       "<p>1 rows × 193 columns</p>\n",
       "</div>"
      ],
      "text/plain": [
       "   accomplish  accomplish film  accomplish film take  amy  amy irving  \\\n",
       "0         1.0              1.0                   1.0  1.0         1.0   \n",
       "\n",
       "   amy irving scene  another  another bring  another bring involvement  apart  \\\n",
       "0               1.0      1.0            1.0                        1.0    1.0   \n",
       "\n",
       "   ...  way reflected way  week  week original  week original movie  went  \\\n",
       "0  ...                1.0   1.0            1.0                  1.0   1.0   \n",
       "\n",
       "   went relatively  went relatively quickly  year  year still  year still less  \n",
       "0              1.0                      1.0   1.0         1.0              1.0  \n",
       "\n",
       "[1 rows x 193 columns]"
      ]
     },
     "execution_count": 23,
     "metadata": {},
     "output_type": "execute_result"
    }
   ],
   "source": [
    "pd.DataFrame(countVectorized.toarray(), columns=countVecer.get_feature_names_out())"
   ]
  },
  {
   "cell_type": "code",
   "execution_count": 24,
   "id": "1e683abc-8cb9-4eb2-b5d3-9f61023e9bd0",
   "metadata": {
    "execution": {
     "iopub.execute_input": "2025-10-24T11:58:41.403317Z",
     "iopub.status.busy": "2025-10-24T11:58:41.402683Z",
     "iopub.status.idle": "2025-10-24T11:58:41.409395Z",
     "shell.execute_reply": "2025-10-24T11:58:41.407924Z"
    }
   },
   "outputs": [],
   "source": [
    "countVecer = CountVectorizer(\n",
    "    encoding=COUNT_ENCODING,             # Character encoding (e.g., 'latin1' for non-UTF files)\n",
    "    decode_error=COUNT_DECODE_ERROR,     # How to handle decode errors: 'strict', 'ignore', or 'replace'\n",
    "    strip_accents=COUNT_STRIP_ACCENTS,   # 'ascii'/'unicode' removes accents (e.g., “café”→“cafe”)\n",
    "    ngram_range=COUNT_NGRAM_RANGE,       # Use unigrams only; (1,2) for unigrams + bigrams, etc.\n",
    "    analyzer=COUNT_ANALYZER,             # 'word' (default), 'char', or 'char_wb' for character n-grams\n",
    "    max_df=COUNT_MAX_DF,                 # Ignore terms in >X% of docs (e.g., 0.9 removes common words)\n",
    "    min_df=COUNT_MIN_DF,                 # Ignore terms in <X docs (e.g., 2 removes rare words)\n",
    "    max_features=COUNT_MAX_FEATURES,     # Limit vocab size to top N most frequent tokens\n",
    "    vocabulary=COUNT_VOCABULARY,         # Fixed vocabulary dict/list if you already know the terms\n",
    "    binary=COUNT_BINARY,                 # If True, record presence (1/0) instead of counts\n",
    "    dtype=np.float32,                    # Type of matrix values (int, float, etc.)\n",
    ")"
   ]
  },
  {
   "cell_type": "code",
   "execution_count": 25,
   "id": "439421ef-6040-48f3-9682-e9b293f6b9cc",
   "metadata": {
    "execution": {
     "iopub.execute_input": "2025-10-24T11:58:41.414883Z",
     "iopub.status.busy": "2025-10-24T11:58:41.414254Z",
     "iopub.status.idle": "2025-10-24T12:00:04.164410Z",
     "shell.execute_reply": "2025-10-24T12:00:04.161972Z"
    }
   },
   "outputs": [],
   "source": [
    "countVectorized = countVecer.fit_transform(df[\"cleaned_review\"])"
   ]
  },
  {
   "cell_type": "code",
   "execution_count": 26,
   "id": "2065d098-1896-4bd8-b391-e31dfb1b6a2c",
   "metadata": {
    "execution": {
     "iopub.execute_input": "2025-10-24T12:00:04.168916Z",
     "iopub.status.busy": "2025-10-24T12:00:04.168493Z",
     "iopub.status.idle": "2025-10-24T12:00:04.176600Z",
     "shell.execute_reply": "2025-10-24T12:00:04.174337Z"
    }
   },
   "outputs": [
    {
     "data": {
      "text/plain": [
       "((50000, 20000), 5044360)"
      ]
     },
     "execution_count": 26,
     "metadata": {},
     "output_type": "execute_result"
    }
   ],
   "source": [
    "countVectorized.shape, countVectorized.nnz"
   ]
  },
  {
   "cell_type": "code",
   "execution_count": 27,
   "id": "1e2d6f52-c646-4c1e-a6eb-69c0da50e666",
   "metadata": {
    "execution": {
     "iopub.execute_input": "2025-10-24T12:00:04.182841Z",
     "iopub.status.busy": "2025-10-24T12:00:04.182365Z",
     "iopub.status.idle": "2025-10-24T12:00:09.679956Z",
     "shell.execute_reply": "2025-10-24T12:00:09.678063Z"
    }
   },
   "outputs": [],
   "source": [
    "save_pickle(countVecer, COUNT_VECTORIZER_PATH)\n",
    "save_npz(COUNT_MATRIX_PATH, countVectorized)"
   ]
  },
  {
   "cell_type": "code",
   "execution_count": 28,
   "id": "830543f4-88e8-45ac-8f9c-8111187fff3b",
   "metadata": {
    "execution": {
     "iopub.execute_input": "2025-10-24T12:00:09.685784Z",
     "iopub.status.busy": "2025-10-24T12:00:09.685347Z",
     "iopub.status.idle": "2025-10-24T12:00:09.745510Z",
     "shell.execute_reply": "2025-10-24T12:00:09.743256Z"
    }
   },
   "outputs": [],
   "source": [
    "del countVectorized\n",
    "del countVecer"
   ]
  },
  {
   "cell_type": "markdown",
   "id": "7578af24-41e2-4a96-a6ed-329b959d38af",
   "metadata": {},
   "source": [
    "## Tf-idf Vectorizer"
   ]
  },
  {
   "cell_type": "code",
   "execution_count": 29,
   "id": "828db5d4-ae01-4d1c-bcec-861e789283a8",
   "metadata": {
    "execution": {
     "iopub.execute_input": "2025-10-24T12:00:09.751041Z",
     "iopub.status.busy": "2025-10-24T12:00:09.750562Z",
     "iopub.status.idle": "2025-10-24T12:00:09.760709Z",
     "shell.execute_reply": "2025-10-24T12:00:09.756307Z"
    }
   },
   "outputs": [],
   "source": [
    "tfidfVecer = TfidfVectorizer(\n",
    "    encoding='utf-8',                     # Character encoding (e.g., 'latin1' for some older corpora)\n",
    "    decode_error='strict',                # How to handle decode errors: 'strict', 'ignore', or 'replace'\n",
    "    strip_accents=None,                   # 'ascii'/'unicode' removes accents (“café”→“cafe”)\n",
    "    analyzer='word',                      # 'word' (default), 'char', or 'char_wb' (within word boundaries)\n",
    "    ngram_range=(1, 3),                   # Use unigrams only; (1,2) for unigrams + bigrams, etc.\n",
    "    max_df=1.0,                           # Ignore terms in >X% of docs (e.g., 0.9 removes very common words)\n",
    "    min_df=1,                             # Ignore terms in <X docs (e.g., 2 removes very rare words)\n",
    "    max_features=None,                    # Keep only the top N features by frequency\n",
    "    vocabulary=None,                      # Fixed vocab list/dict (useful for applying same vocab later)\n",
    "    binary=False,                         # If True, use 1/0 instead of term frequency before TF-IDF scaling\n",
    "    dtype=np.float32,                     # Matrix value type (float32 or float64)\n",
    "    norm='l2',                            # Normalize vectors: 'l1', 'l2', or None (no normalization)\n",
    "    use_idf=True,                         # Enable inverse document frequency weighting\n",
    "    smooth_idf=True,                      # Adds 1 to document frequencies to avoid div-by-zero\n",
    "    sublinear_tf=False,                   # If True, use log(1 + tf) for term frequency scaling\n",
    ")"
   ]
  },
  {
   "cell_type": "code",
   "execution_count": 30,
   "id": "1e0d03a9-f510-450c-8afb-366a4ef9379b",
   "metadata": {
    "execution": {
     "iopub.execute_input": "2025-10-24T12:00:09.767820Z",
     "iopub.status.busy": "2025-10-24T12:00:09.767374Z",
     "iopub.status.idle": "2025-10-24T12:00:09.872762Z",
     "shell.execute_reply": "2025-10-24T12:00:09.871422Z"
    }
   },
   "outputs": [
    {
     "data": {
      "text/plain": [
       "8003    grew therefore must understand witnessed first...\n",
       "Name: cleaned_review, dtype: object"
      ]
     },
     "execution_count": 30,
     "metadata": {},
     "output_type": "execute_result"
    }
   ],
   "source": [
    "r = df['cleaned_review'].sample(1)\n",
    "tfidfVectorized = tfidfVecer.fit_transform(r)\n",
    "r"
   ]
  },
  {
   "cell_type": "code",
   "execution_count": 31,
   "id": "839b729f-5cb7-4fb2-94ef-bcb91a54f392",
   "metadata": {
    "execution": {
     "iopub.execute_input": "2025-10-24T12:00:09.879180Z",
     "iopub.status.busy": "2025-10-24T12:00:09.878612Z",
     "iopub.status.idle": "2025-10-24T12:00:09.899711Z",
     "shell.execute_reply": "2025-10-24T12:00:09.895634Z"
    }
   },
   "outputs": [
    {
     "data": {
      "text/plain": [
       "((1, 483),\n",
       " array([[0.04029115, 0.04029115, 0.04029115, 0.04029115, 0.04029115,\n",
       "         0.04029115, 0.04029115, 0.04029115, 0.04029115, 0.04029115,\n",
       "         0.04029115, 0.04029115, 0.04029115, 0.04029115, 0.04029115,\n",
       "         0.04029115, 0.04029115, 0.04029115, 0.04029115, 0.04029115,\n",
       "         0.04029115, 0.0805823 , 0.04029115, 0.04029115, 0.04029115,\n",
       "         0.04029115, 0.04029115, 0.04029115, 0.04029115, 0.04029115,\n",
       "         0.04029115, 0.04029115, 0.04029115, 0.04029115, 0.04029115,\n",
       "         0.04029115, 0.04029115, 0.04029115, 0.04029115, 0.04029115,\n",
       "         0.04029115, 0.04029115, 0.04029115, 0.04029115, 0.04029115,\n",
       "         0.04029115, 0.04029115, 0.04029115, 0.04029115, 0.04029115,\n",
       "         0.04029115, 0.04029115, 0.04029115, 0.0805823 , 0.04029115,\n",
       "         0.04029115, 0.04029115, 0.04029115, 0.04029115, 0.04029115,\n",
       "         0.04029115, 0.04029115, 0.04029115, 0.04029115, 0.04029115,\n",
       "         0.04029115, 0.04029115, 0.04029115, 0.04029115, 0.04029115,\n",
       "         0.04029115, 0.04029115, 0.04029115, 0.04029115, 0.04029115,\n",
       "         0.04029115, 0.04029115, 0.04029115, 0.04029115, 0.04029115,\n",
       "         0.04029115, 0.04029115, 0.04029115, 0.04029115, 0.04029115,\n",
       "         0.04029115, 0.04029115, 0.04029115, 0.04029115, 0.04029115,\n",
       "         0.04029115, 0.04029115, 0.04029115, 0.04029115, 0.04029115,\n",
       "         0.04029115, 0.04029115, 0.0805823 , 0.04029115, 0.04029115,\n",
       "         0.04029115, 0.04029115, 0.04029115, 0.04029115, 0.04029115,\n",
       "         0.04029115, 0.04029115, 0.04029115, 0.04029115, 0.04029115,\n",
       "         0.04029115, 0.04029115, 0.04029115, 0.04029115, 0.0805823 ,\n",
       "         0.04029115, 0.04029115, 0.04029115, 0.04029115, 0.04029115,\n",
       "         0.04029115, 0.04029115, 0.1611646 , 0.04029115, 0.04029115,\n",
       "         0.04029115, 0.04029115, 0.04029115, 0.04029115, 0.04029115,\n",
       "         0.04029115, 0.04029115, 0.04029115, 0.04029115, 0.04029115,\n",
       "         0.04029115, 0.04029115, 0.04029115, 0.04029115, 0.1611646 ,\n",
       "         0.04029115, 0.04029115, 0.04029115, 0.04029115, 0.04029115,\n",
       "         0.04029115, 0.04029115, 0.04029115, 0.04029115, 0.04029115,\n",
       "         0.04029115, 0.04029115, 0.04029115, 0.04029115, 0.04029115,\n",
       "         0.04029115, 0.04029115, 0.04029115, 0.04029115, 0.04029115,\n",
       "         0.04029115, 0.04029115, 0.04029115, 0.0805823 , 0.04029115,\n",
       "         0.04029115, 0.04029115, 0.04029115, 0.04029115, 0.04029115,\n",
       "         0.04029115, 0.04029115, 0.04029115, 0.04029115, 0.04029115,\n",
       "         0.04029115, 0.04029115, 0.04029115, 0.04029115, 0.04029115,\n",
       "         0.0805823 , 0.04029115, 0.04029115, 0.04029115, 0.04029115,\n",
       "         0.04029115, 0.04029115, 0.04029115, 0.04029115, 0.04029115,\n",
       "         0.04029115, 0.04029115, 0.04029115, 0.04029115, 0.04029115,\n",
       "         0.04029115, 0.04029115, 0.04029115, 0.04029115, 0.04029115,\n",
       "         0.04029115, 0.04029115, 0.04029115, 0.04029115, 0.04029115,\n",
       "         0.04029115, 0.04029115, 0.04029115, 0.04029115, 0.04029115,\n",
       "         0.04029115, 0.04029115, 0.04029115, 0.04029115, 0.04029115,\n",
       "         0.04029115, 0.04029115, 0.04029115, 0.04029115, 0.04029115,\n",
       "         0.04029115, 0.04029115, 0.04029115, 0.04029115, 0.04029115,\n",
       "         0.04029115, 0.04029115, 0.04029115, 0.04029115, 0.04029115,\n",
       "         0.04029115, 0.04029115, 0.04029115, 0.04029115, 0.04029115,\n",
       "         0.04029115, 0.04029115, 0.04029115, 0.04029115, 0.04029115,\n",
       "         0.04029115, 0.04029115, 0.04029115, 0.04029115, 0.04029115,\n",
       "         0.04029115, 0.04029115, 0.04029115, 0.04029115, 0.04029115,\n",
       "         0.04029115, 0.04029115, 0.0805823 , 0.04029115, 0.04029115,\n",
       "         0.04029115, 0.04029115, 0.04029115, 0.04029115, 0.04029115,\n",
       "         0.12087344, 0.04029115, 0.04029115, 0.04029115, 0.04029115,\n",
       "         0.04029115, 0.04029115, 0.04029115, 0.04029115, 0.04029115,\n",
       "         0.04029115, 0.04029115, 0.04029115, 0.0805823 , 0.04029115,\n",
       "         0.04029115, 0.04029115, 0.04029115, 0.04029115, 0.04029115,\n",
       "         0.04029115, 0.20145574, 0.04029115, 0.04029115, 0.04029115,\n",
       "         0.04029115, 0.04029115, 0.04029115, 0.04029115, 0.04029115,\n",
       "         0.04029115, 0.04029115, 0.04029115, 0.04029115, 0.04029115,\n",
       "         0.04029115, 0.04029115, 0.04029115, 0.04029115, 0.04029115,\n",
       "         0.04029115, 0.04029115, 0.04029115, 0.04029115, 0.04029115,\n",
       "         0.04029115, 0.04029115, 0.04029115, 0.04029115, 0.04029115,\n",
       "         0.04029115, 0.04029115, 0.04029115, 0.12087344, 0.04029115,\n",
       "         0.04029115, 0.04029115, 0.04029115, 0.04029115, 0.04029115,\n",
       "         0.04029115, 0.04029115, 0.04029115, 0.04029115, 0.04029115,\n",
       "         0.04029115, 0.04029115, 0.04029115, 0.04029115, 0.04029115,\n",
       "         0.04029115, 0.04029115, 0.04029115, 0.04029115, 0.04029115,\n",
       "         0.04029115, 0.04029115, 0.04029115, 0.04029115, 0.04029115,\n",
       "         0.04029115, 0.04029115, 0.04029115, 0.04029115, 0.04029115,\n",
       "         0.04029115, 0.04029115, 0.04029115, 0.04029115, 0.04029115,\n",
       "         0.04029115, 0.04029115, 0.04029115, 0.0805823 , 0.04029115,\n",
       "         0.04029115, 0.04029115, 0.04029115, 0.04029115, 0.04029115,\n",
       "         0.04029115, 0.0805823 , 0.04029115, 0.04029115, 0.04029115,\n",
       "         0.04029115, 0.04029115, 0.04029115, 0.04029115, 0.04029115,\n",
       "         0.04029115, 0.04029115, 0.04029115, 0.04029115, 0.04029115,\n",
       "         0.04029115, 0.04029115, 0.04029115, 0.04029115, 0.04029115,\n",
       "         0.04029115, 0.0805823 , 0.0805823 , 0.04029115, 0.04029115,\n",
       "         0.0805823 , 0.04029115, 0.04029115, 0.04029115, 0.04029115,\n",
       "         0.04029115, 0.04029115, 0.04029115, 0.04029115, 0.04029115,\n",
       "         0.04029115, 0.04029115, 0.04029115, 0.04029115, 0.04029115,\n",
       "         0.04029115, 0.04029115, 0.04029115, 0.04029115, 0.04029115,\n",
       "         0.0805823 , 0.04029115, 0.04029115, 0.04029115, 0.04029115,\n",
       "         0.04029115, 0.04029115, 0.04029115, 0.04029115, 0.04029115,\n",
       "         0.04029115, 0.04029115, 0.04029115, 0.04029115, 0.04029115,\n",
       "         0.04029115, 0.04029115, 0.0805823 , 0.04029115, 0.04029115,\n",
       "         0.04029115, 0.04029115, 0.04029115, 0.04029115, 0.04029115,\n",
       "         0.04029115, 0.04029115, 0.04029115, 0.04029115, 0.04029115,\n",
       "         0.04029115, 0.04029115, 0.04029115, 0.04029115, 0.04029115,\n",
       "         0.04029115, 0.04029115, 0.04029115, 0.04029115, 0.04029115,\n",
       "         0.04029115, 0.04029115, 0.04029115, 0.04029115, 0.04029115,\n",
       "         0.04029115, 0.1611646 , 0.04029115, 0.04029115, 0.04029115,\n",
       "         0.04029115, 0.04029115, 0.04029115, 0.04029115, 0.04029115,\n",
       "         0.04029115, 0.04029115, 0.04029115, 0.04029115, 0.04029115,\n",
       "         0.04029115, 0.04029115, 0.04029115, 0.04029115, 0.04029115,\n",
       "         0.04029115, 0.04029115, 0.04029115, 0.04029115, 0.04029115,\n",
       "         0.0805823 , 0.04029115, 0.04029115, 0.04029115, 0.04029115,\n",
       "         0.04029115, 0.04029115, 0.04029115]], dtype=float32),\n",
       " <Compressed Sparse Row sparse matrix of dtype 'float32'\n",
       " \twith 483 stored elements and shape (1, 483)>)"
      ]
     },
     "execution_count": 31,
     "metadata": {},
     "output_type": "execute_result"
    }
   ],
   "source": [
    "tfidfVectorized.shape, tfidfVectorized.toarray(), tfidfVectorized"
   ]
  },
  {
   "cell_type": "code",
   "execution_count": 32,
   "id": "49eceedd-7f94-4653-8bf8-c0e85331753c",
   "metadata": {
    "execution": {
     "iopub.execute_input": "2025-10-24T12:00:09.903467Z",
     "iopub.status.busy": "2025-10-24T12:00:09.903063Z",
     "iopub.status.idle": "2025-10-24T12:00:09.915983Z",
     "shell.execute_reply": "2025-10-24T12:00:09.913174Z"
    }
   },
   "outputs": [
    {
     "data": {
      "text/plain": [
       "array(['actor', 'actor older', 'actor older whatsoever', 'actually',\n",
       "       'actually remember', 'actually remember part', 'ago',\n",
       "       'ago character', 'ago character believable', 'airborne',\n",
       "       'airborne possible', 'airborne possible dcoms', 'almost',\n",
       "       'almost much', 'almost much zenon', 'always', 'always gay',\n",
       "       'always gay feel', 'amount', 'amount excitement',\n",
       "       'amount excitement zoog', 'apparently', 'apparently lack',\n",
       "       'apparently lack curse', 'apparently type',\n",
       "       'apparently type movie', 'appeared', 'appeared zenon',\n",
       "       'appeared zenon halloweentown', 'around', 'around table',\n",
       "       'around table asked', 'asked', 'asked seem', 'asked seem hip',\n",
       "       'asking', 'asking always', 'asking always gay', 'awe', 'awe talk',\n",
       "       'awe talk week', 'bad', 'bad effective', 'bad effective fact',\n",
       "       'believable', 'believable funny', 'believable funny granted',\n",
       "       'betrayed', 'betrayed could', 'betrayed could compare', 'brink',\n",
       "       'brink appeared', 'brink appeared zenon', 'brother',\n",
       "       'brother front', 'brother front disney', 'brother looked',\n",
       "       'brother looked slightly', 'brought', 'brought even',\n",
       "       'brought even watch', 'bunch', 'bunch old', 'bunch old rotting',\n",
       "       'came', 'came whoever', 'came whoever watching', 'catch',\n",
       "       'catch next', 'catch next weekend', 'channel', 'channel try',\n",
       "       'channel try convey', 'character', 'character believable',\n",
       "       'character believable funny', 'charm', 'charm sat',\n",
       "       'charm sat little', 'cheesier', 'cheesier people',\n",
       "       'cheesier people prefer', 'childhood', 'childhood movie',\n",
       "       'childhood movie came', 'christ', 'christ completely',\n",
       "       'christ completely different', 'come', 'come catch',\n",
       "       'come catch next', 'compare', 'compare han', 'compare han solo',\n",
       "       'complete', 'complete idiot', 'complete idiot apparently',\n",
       "       'completely', 'completely awe', 'completely awe talk',\n",
       "       'completely different', 'completely different generation',\n",
       "       'constitute', 'constitute childhood', 'constitute childhood movie',\n",
       "       'conversation', 'conversation literally',\n",
       "       'conversation literally word', 'convey', 'convey make',\n",
       "       'convey make understand', 'corporate', 'corporate people',\n",
       "       'corporate people disney', 'could', 'could compare',\n",
       "       'could compare han', 'could express', 'could express amount',\n",
       "       'curse', 'curse word', 'curse word enough', 'dcoms', 'dcoms brink',\n",
       "       'dcoms brink appeared', 'dcoms enter', 'dcoms enter stuck',\n",
       "       'dcoms got', 'dcoms got even', 'dcoms like', 'dcoms like least',\n",
       "       'dialog', 'dialog seem', 'dialog seem bad', 'different',\n",
       "       'different generation', 'disappointed', 'disappointed betrayed',\n",
       "       'disappointed betrayed could', 'disney', 'disney brought',\n",
       "       'disney brought even', 'disney channel', 'disney channel try',\n",
       "       'disney charm', 'disney charm sat', 'disney sat',\n",
       "       'disney sat around', 'effective', 'effective fact',\n",
       "       'effective fact actually', 'effort', 'effort let',\n",
       "       'effort let realize', 'enough', 'enough give',\n",
       "       'enough give people', 'enter', 'enter stuck', 'enter stuck suburb',\n",
       "       'etc', 'etc movie', 'etc movie constitute', 'even',\n",
       "       'even cheesier', 'even cheesier people', 'even watch',\n",
       "       'even watch dialog', 'exaggerating', 'exaggerating flashback',\n",
       "       'exaggerating flashback talent', 'excitement', 'excitement zoog',\n",
       "       'excitement zoog disney', 'express', 'express amount',\n",
       "       'express amount excitement', 'fact', 'fact actually',\n",
       "       'fact actually remember', 'feel', 'feel disappointed',\n",
       "       'feel disappointed betrayed', 'feel like', 'feel like bunch',\n",
       "       'feeling', 'feeling dcoms', 'feeling dcoms enter', 'firsthand',\n",
       "       'firsthand premier', 'firsthand premier greatest', 'flashback',\n",
       "       'flashback talent', 'flashback talent young', 'found',\n",
       "       'found lando', 'found lando sold', 'front', 'front disney',\n",
       "       'front disney channel', 'funny', 'funny granted',\n",
       "       'funny granted little', 'gay', 'gay feel', 'gay feel disappointed',\n",
       "       'generation', 'give', 'give people', 'give people christ', 'got',\n",
       "       'got even', 'got even cheesier', 'granted', 'granted little',\n",
       "       'granted little stereotypical', 'greatest', 'greatest dcoms',\n",
       "       'greatest dcoms brink', 'grew', 'grew therefore',\n",
       "       'grew therefore must', 'half', 'half movie',\n",
       "       'half movie exaggerating', 'halloweentown', 'halloweentown johnny',\n",
       "       'halloweentown johnny tsunami', 'han', 'han solo',\n",
       "       'han solo found', 'hip', 'hip youngster', 'hip youngster ok',\n",
       "       'idiot', 'idiot apparently', 'idiot apparently type', 'johnny',\n",
       "       'johnny tsunami', 'johnny tsunami etc', 'lack', 'lack curse',\n",
       "       'lack curse word', 'lando', 'lando sold', 'lando sold vader',\n",
       "       'least', 'least made', 'least made little', 'let', 'let realize',\n",
       "       'let realize think', 'like', 'like bunch', 'like bunch old',\n",
       "       'like least', 'like least made', 'literally', 'literally word',\n",
       "       'literally word per', 'little', 'little brother',\n",
       "       'little brother front', 'little effort', 'little effort let',\n",
       "       'little stereotypical', 'little stereotypical make', 'looked',\n",
       "       'looked slightly', 'looked slightly puzzled', 'made',\n",
       "       'made little', 'made little effort', 'make', 'make disney',\n",
       "       'make disney charm', 'make understand', 'make understand feeling',\n",
       "       'maybe', 'maybe dcoms', 'maybe dcoms like', 'movie', 'movie came',\n",
       "       'movie came whoever', 'movie constitute',\n",
       "       'movie constitute childhood', 'movie exaggerating',\n",
       "       'movie exaggerating flashback', 'movie saw', 'movie saw ten',\n",
       "       'movie work', 'movie work stuck', 'much', 'much zenon',\n",
       "       'much zenon airborne', 'must', 'must understand',\n",
       "       'must understand witnessed', 'next', 'next weekend',\n",
       "       'next weekend think', 'ok', 'ok maybe', 'ok maybe dcoms', 'old',\n",
       "       'old rotting', 'old rotting corporate', 'older',\n",
       "       'older whatsoever', 'older whatsoever plot', 'part',\n",
       "       'part conversation', 'part conversation literally', 'people',\n",
       "       'people christ', 'people christ completely', 'people disney',\n",
       "       'people disney sat', 'people prefer', 'people prefer though',\n",
       "       'per', 'per word', 'per word movie', 'plot', 'plot ridiculous',\n",
       "       'plot ridiculous feel', 'possible', 'possible dcoms',\n",
       "       'possible dcoms got', 'prefer', 'prefer though',\n",
       "       'prefer though apparently', 'premier', 'premier greatest',\n",
       "       'premier greatest dcoms', 'puzzled', 'puzzled asking',\n",
       "       'puzzled asking always', 'rated', 'rated almost',\n",
       "       'rated almost much', 'realize', 'realize think',\n",
       "       'realize think complete', 'remember', 'remember part',\n",
       "       'remember part conversation', 'ridiculous', 'ridiculous feel',\n",
       "       'ridiculous feel like', 'rotting', 'rotting corporate',\n",
       "       'rotting corporate people', 'sat', 'sat around',\n",
       "       'sat around table', 'sat little', 'sat little brother', 'saw',\n",
       "       'saw ten', 'saw ten year', 'seem', 'seem bad',\n",
       "       'seem bad effective', 'seem hip', 'seem hip youngster', 'slightly',\n",
       "       'slightly puzzled', 'slightly puzzled asking', 'sold',\n",
       "       'sold vader', 'sold vader half', 'solo', 'solo found',\n",
       "       'solo found lando', 'stand', 'stand completely',\n",
       "       'stand completely awe', 'stereotypical', 'stereotypical make',\n",
       "       'stereotypical make disney', 'stuck', 'stuck suburb',\n",
       "       'stuck suburb brother', 'stuck suburb rated', 'suburb',\n",
       "       'suburb brother', 'suburb brother looked', 'suburb rated',\n",
       "       'suburb rated almost', 'table', 'table asked', 'table asked seem',\n",
       "       'talent', 'talent young', 'talent young actor', 'talk',\n",
       "       'talk week', 'talk week come', 'ten', 'ten year', 'ten year ago',\n",
       "       'therefore', 'therefore must', 'therefore must understand',\n",
       "       'think', 'think complete', 'think complete idiot', 'think word',\n",
       "       'think word could', 'though', 'though apparently',\n",
       "       'though apparently lack', 'try', 'try convey', 'try convey make',\n",
       "       'tsunami', 'tsunami etc', 'tsunami etc movie', 'type',\n",
       "       'type movie', 'type movie work', 'understand',\n",
       "       'understand feeling', 'understand feeling dcoms',\n",
       "       'understand witnessed', 'understand witnessed firsthand', 'vader',\n",
       "       'vader half', 'vader half movie', 'watch', 'watch dialog',\n",
       "       'watch dialog seem', 'watching', 'watching would',\n",
       "       'watching would stand', 'week', 'week come', 'week come catch',\n",
       "       'weekend', 'weekend think', 'weekend think word', 'whatsoever',\n",
       "       'whatsoever plot', 'whatsoever plot ridiculous', 'whoever',\n",
       "       'whoever watching', 'whoever watching would', 'witnessed',\n",
       "       'witnessed firsthand', 'witnessed firsthand premier', 'word',\n",
       "       'word could', 'word could express', 'word enough',\n",
       "       'word enough give', 'word movie', 'word movie saw', 'word per',\n",
       "       'word per word', 'work', 'work stuck', 'work stuck suburb',\n",
       "       'would', 'would stand', 'would stand completely', 'year',\n",
       "       'year ago', 'year ago character', 'young', 'young actor',\n",
       "       'young actor older', 'youngster', 'youngster ok',\n",
       "       'youngster ok maybe', 'zenon', 'zenon airborne',\n",
       "       'zenon airborne possible', 'zenon halloweentown',\n",
       "       'zenon halloweentown johnny', 'zoog', 'zoog disney',\n",
       "       'zoog disney brought'], dtype=object)"
      ]
     },
     "execution_count": 32,
     "metadata": {},
     "output_type": "execute_result"
    }
   ],
   "source": [
    "tfidfVecer.get_feature_names_out()"
   ]
  },
  {
   "cell_type": "code",
   "execution_count": 33,
   "id": "20b206e4-6e01-47b4-a061-61ddc5f9dda2",
   "metadata": {
    "execution": {
     "iopub.execute_input": "2025-10-24T12:00:09.919994Z",
     "iopub.status.busy": "2025-10-24T12:00:09.919585Z",
     "iopub.status.idle": "2025-10-24T12:00:09.954382Z",
     "shell.execute_reply": "2025-10-24T12:00:09.952767Z"
    }
   },
   "outputs": [
    {
     "data": {
      "text/html": [
       "<div>\n",
       "<style scoped>\n",
       "    .dataframe tbody tr th:only-of-type {\n",
       "        vertical-align: middle;\n",
       "    }\n",
       "\n",
       "    .dataframe tbody tr th {\n",
       "        vertical-align: top;\n",
       "    }\n",
       "\n",
       "    .dataframe thead th {\n",
       "        text-align: right;\n",
       "    }\n",
       "</style>\n",
       "<table border=\"1\" class=\"dataframe\">\n",
       "  <thead>\n",
       "    <tr style=\"text-align: right;\">\n",
       "      <th></th>\n",
       "      <th>actor</th>\n",
       "      <th>actor older</th>\n",
       "      <th>actor older whatsoever</th>\n",
       "      <th>actually</th>\n",
       "      <th>actually remember</th>\n",
       "      <th>actually remember part</th>\n",
       "      <th>ago</th>\n",
       "      <th>ago character</th>\n",
       "      <th>ago character believable</th>\n",
       "      <th>airborne</th>\n",
       "      <th>...</th>\n",
       "      <th>youngster ok</th>\n",
       "      <th>youngster ok maybe</th>\n",
       "      <th>zenon</th>\n",
       "      <th>zenon airborne</th>\n",
       "      <th>zenon airborne possible</th>\n",
       "      <th>zenon halloweentown</th>\n",
       "      <th>zenon halloweentown johnny</th>\n",
       "      <th>zoog</th>\n",
       "      <th>zoog disney</th>\n",
       "      <th>zoog disney brought</th>\n",
       "    </tr>\n",
       "  </thead>\n",
       "  <tbody>\n",
       "    <tr>\n",
       "      <th>0</th>\n",
       "      <td>0.040291</td>\n",
       "      <td>0.040291</td>\n",
       "      <td>0.040291</td>\n",
       "      <td>0.040291</td>\n",
       "      <td>0.040291</td>\n",
       "      <td>0.040291</td>\n",
       "      <td>0.040291</td>\n",
       "      <td>0.040291</td>\n",
       "      <td>0.040291</td>\n",
       "      <td>0.040291</td>\n",
       "      <td>...</td>\n",
       "      <td>0.040291</td>\n",
       "      <td>0.040291</td>\n",
       "      <td>0.080582</td>\n",
       "      <td>0.040291</td>\n",
       "      <td>0.040291</td>\n",
       "      <td>0.040291</td>\n",
       "      <td>0.040291</td>\n",
       "      <td>0.040291</td>\n",
       "      <td>0.040291</td>\n",
       "      <td>0.040291</td>\n",
       "    </tr>\n",
       "  </tbody>\n",
       "</table>\n",
       "<p>1 rows × 483 columns</p>\n",
       "</div>"
      ],
      "text/plain": [
       "      actor  actor older  actor older whatsoever  actually  actually remember  \\\n",
       "0  0.040291     0.040291                0.040291  0.040291           0.040291   \n",
       "\n",
       "   actually remember part       ago  ago character  ago character believable  \\\n",
       "0                0.040291  0.040291       0.040291                  0.040291   \n",
       "\n",
       "   airborne  ...  youngster ok  youngster ok maybe     zenon  zenon airborne  \\\n",
       "0  0.040291  ...      0.040291            0.040291  0.080582        0.040291   \n",
       "\n",
       "   zenon airborne possible  zenon halloweentown  zenon halloweentown johnny  \\\n",
       "0                 0.040291             0.040291                    0.040291   \n",
       "\n",
       "       zoog  zoog disney  zoog disney brought  \n",
       "0  0.040291     0.040291             0.040291  \n",
       "\n",
       "[1 rows x 483 columns]"
      ]
     },
     "execution_count": 33,
     "metadata": {},
     "output_type": "execute_result"
    }
   ],
   "source": [
    "pd.DataFrame(tfidfVectorized.toarray(), columns=tfidfVecer.get_feature_names_out())"
   ]
  },
  {
   "cell_type": "code",
   "execution_count": 34,
   "id": "058900d8-2806-4f5b-bf5f-573c6bfaec9b",
   "metadata": {
    "execution": {
     "iopub.execute_input": "2025-10-24T12:00:09.958388Z",
     "iopub.status.busy": "2025-10-24T12:00:09.957843Z",
     "iopub.status.idle": "2025-10-24T12:00:09.968172Z",
     "shell.execute_reply": "2025-10-24T12:00:09.966228Z"
    }
   },
   "outputs": [],
   "source": [
    "tfidfVecer = TfidfVectorizer(\n",
    "    encoding=TFIDF_ENCODING,               # Character encoding (e.g., 'latin1' for some older corpora)\n",
    "    decode_error=TFIDF_DECODE_ERROR,       # How to handle decode errors: 'strict', 'ignore', or 'replace'\n",
    "    strip_accents=TFIDF_STRIP_ACCENTS,     # 'ascii'/'unicode' removes accents (“café”→“cafe”)\n",
    "    analyzer=TFIDF_ANALYZER,               # 'word' (default), 'char', or 'char_wb' (within word boundaries)\n",
    "    ngram_range=TFIDF_NGRAM_RANGE,         # Use unigrams only; (1,2) for unigrams + bigrams, etc.\n",
    "    max_df=TFIDF_MAX_DF,                   # Ignore terms in >X% of docs (e.g., 0.9 removes very common words)\n",
    "    min_df=TFIDF_MIN_DF,                   # Ignore terms in <X docs (e.g., 2 removes very rare words)\n",
    "    max_features=TFIDF_MAX_FEATURES,       # Keep only the top N features by frequency\n",
    "    vocabulary=TFIDF_VOCABULARY,           # Fixed vocab list/dict (useful for applying same vocab later)\n",
    "    binary=TFIDF_BINARY,                   # If True, use 1/0 instead of term frequency before TF-IDF scaling\n",
    "    dtype=np.float32,                      # Matrix value type (float32 or float64)\n",
    "    norm=TFIDF_NORM,                       # Normalize vectors: 'l1', 'l2', or None (no normalization)\n",
    "    use_idf=TFIDF_USE_IDF,                 # Enable inverse document frequency weighting\n",
    "    smooth_idf=TFIDF_SMOOTH_IDF,           # Adds 1 to document frequencies to avoid div-by-zero\n",
    "    sublinear_tf=TFIDF_SUBLINEAR_TF,       # If True, use log(1 + tf) for term frequency scaling\n",
    ")"
   ]
  },
  {
   "cell_type": "code",
   "execution_count": 35,
   "id": "b42d282f-2cd6-48e9-9c3d-d9f5c233ed2a",
   "metadata": {
    "execution": {
     "iopub.execute_input": "2025-10-24T12:00:09.971606Z",
     "iopub.status.busy": "2025-10-24T12:00:09.971191Z",
     "iopub.status.idle": "2025-10-24T12:01:32.797696Z",
     "shell.execute_reply": "2025-10-24T12:01:32.795653Z"
    }
   },
   "outputs": [],
   "source": [
    "tfidfVectorized = tfidfVecer.fit_transform(df['cleaned_review'])"
   ]
  },
  {
   "cell_type": "code",
   "execution_count": 36,
   "id": "034d0de7-b9ac-4d12-ab85-bc00d73d7ffc",
   "metadata": {
    "execution": {
     "iopub.execute_input": "2025-10-24T12:01:32.801600Z",
     "iopub.status.busy": "2025-10-24T12:01:32.801176Z",
     "iopub.status.idle": "2025-10-24T12:01:32.811840Z",
     "shell.execute_reply": "2025-10-24T12:01:32.809393Z"
    }
   },
   "outputs": [
    {
     "data": {
      "text/plain": [
       "((50000, 20000), 5044360)"
      ]
     },
     "execution_count": 36,
     "metadata": {},
     "output_type": "execute_result"
    }
   ],
   "source": [
    "tfidfVectorized.shape, tfidfVectorized.nnz"
   ]
  },
  {
   "cell_type": "code",
   "execution_count": 37,
   "id": "27bade36-b9b2-4590-b96a-a5e185a1945c",
   "metadata": {
    "execution": {
     "iopub.execute_input": "2025-10-24T12:01:32.816335Z",
     "iopub.status.busy": "2025-10-24T12:01:32.815884Z",
     "iopub.status.idle": "2025-10-24T12:01:39.563460Z",
     "shell.execute_reply": "2025-10-24T12:01:39.560479Z"
    }
   },
   "outputs": [],
   "source": [
    "save_pickle(tfidfVecer, TFIDF_VECTORIZER_PATH)\n",
    "save_npz(TFIDF_MATRIX_PATH, tfidfVectorized)"
   ]
  },
  {
   "cell_type": "code",
   "execution_count": 38,
   "id": "d9f4b5ab-f92e-4ca1-9936-633924fbc278",
   "metadata": {
    "execution": {
     "iopub.execute_input": "2025-10-24T12:01:39.567614Z",
     "iopub.status.busy": "2025-10-24T12:01:39.567199Z",
     "iopub.status.idle": "2025-10-24T12:01:39.630765Z",
     "shell.execute_reply": "2025-10-24T12:01:39.628026Z"
    }
   },
   "outputs": [],
   "source": [
    "del tfidfVectorized\n",
    "del tfidfVecer"
   ]
  },
  {
   "cell_type": "markdown",
   "id": "18abc649-8033-472b-90dd-8b8a6857a027",
   "metadata": {},
   "source": [
    "## Word to Vec models"
   ]
  },
  {
   "cell_type": "markdown",
   "id": "dad602a5-fa1a-4299-a0f5-b468ebf23df5",
   "metadata": {},
   "source": [
    "### W2V"
   ]
  },
  {
   "cell_type": "code",
   "execution_count": 55,
   "id": "ddfc2936-b6ac-4da0-a6b1-358a36d5c9dc",
   "metadata": {},
   "outputs": [],
   "source": [
    "w2v = Word2Vec(sentences=df[\"tokens\"].tolist(), vector_size=300, window=12, min_count=5, sg=1, epochs=12, workers=-1)"
   ]
  },
  {
   "cell_type": "code",
   "execution_count": 56,
   "id": "b923918f-34db-4777-af90-62910033f3f6",
   "metadata": {},
   "outputs": [],
   "source": [
    "w2v.save('../models/w2v.model')"
   ]
  },
  {
   "cell_type": "code",
   "execution_count": 57,
   "id": "72f0ed56-3ae0-4bbb-a16f-f0e82f61297c",
   "metadata": {},
   "outputs": [
    {
     "data": {
      "text/plain": [
       "[('venal', 0.2541438341140747),\n",
       " ('downgrade', 0.22715307772159576),\n",
       " ('patiently', 0.2246485948562622),\n",
       " ('villain', 0.2235267460346222),\n",
       " ('wajda', 0.21494567394256592),\n",
       " ('flopped', 0.2106916904449463),\n",
       " ('century', 0.20911087095737457),\n",
       " ('arkin', 0.2081729620695114),\n",
       " ('grabbed', 0.20759066939353943),\n",
       " ('baptism', 0.206340491771698)]"
      ]
     },
     "execution_count": 57,
     "metadata": {},
     "output_type": "execute_result"
    }
   ],
   "source": [
    "w2v.wv.most_similar('actor')"
   ]
  },
  {
   "cell_type": "code",
   "execution_count": 58,
   "id": "15417e5a-3a30-4afd-b895-a2002d53894f",
   "metadata": {},
   "outputs": [
    {
     "data": {
      "text/plain": [
       "[('exotic', 0.2580218017101288),\n",
       " ('santo', 0.2481982558965683),\n",
       " ('blacksmith', 0.2310451716184616),\n",
       " ('langella', 0.2171274721622467),\n",
       " ('peed', 0.20839224755764008),\n",
       " ('undisputed', 0.2056414932012558),\n",
       " ('impressivei', 0.20323793590068817),\n",
       " ('circus', 0.2031862437725067),\n",
       " ('narrator', 0.2018582820892334),\n",
       " ('beneath', 0.1992671638727188)]"
      ]
     },
     "execution_count": 58,
     "metadata": {},
     "output_type": "execute_result"
    }
   ],
   "source": [
    "w2v.wv.most_similar(\"good\")"
   ]
  },
  {
   "cell_type": "code",
   "execution_count": 59,
   "id": "9245a410-72bf-4808-a406-041afcbf3f2b",
   "metadata": {},
   "outputs": [
    {
     "data": {
      "text/plain": [
       "[('sockpuppet', 0.2528936564922333),\n",
       " ('chapter', 0.23831437528133392),\n",
       " ('cctv', 0.23643429577350616),\n",
       " ('taryn', 0.2180393934249878),\n",
       " ('tulsa', 0.21282437443733215),\n",
       " ('tighe', 0.21213021874427795),\n",
       " ('via', 0.2107212394475937),\n",
       " ('emotionalism', 0.21061818301677704),\n",
       " ('triggering', 0.208798348903656),\n",
       " ('wajda', 0.20826171338558197)]"
      ]
     },
     "execution_count": 59,
     "metadata": {},
     "output_type": "execute_result"
    }
   ],
   "source": [
    "w2v.wv.most_similar(positive=[\"actor\", \"woman\"], negative=[\"man\"])"
   ]
  },
  {
   "cell_type": "code",
   "execution_count": 60,
   "id": "48bc3b8b-5917-4ec6-acf7-955d7c5a2c93",
   "metadata": {},
   "outputs": [
    {
     "data": {
      "text/plain": [
       "(np.float32(-0.06694317), np.float32(0.002177019))"
      ]
     },
     "execution_count": 60,
     "metadata": {},
     "output_type": "execute_result"
    }
   ],
   "source": [
    "w2v.wv.similarity(\"actor\", \"woman\"), w2v.wv.similarity(\"actress\", \"woman\") "
   ]
  },
  {
   "cell_type": "code",
   "execution_count": 61,
   "id": "40fd77bd-ad88-481b-958e-cc36f02a3110",
   "metadata": {},
   "outputs": [
    {
     "data": {
      "text/plain": [
       "[('actor', 0.571053683757782),\n",
       " ('woman', 0.5413703322410583),\n",
       " ('sockpuppet', 0.2535300552845001),\n",
       " ('cctv', 0.23859602212905884),\n",
       " ('chapter', 0.23852409422397614),\n",
       " ('taryn', 0.21920821070671082),\n",
       " ('tighe', 0.21226920187473297),\n",
       " ('tulsa', 0.21178434789180756),\n",
       " ('emotionalism', 0.2114517241716385),\n",
       " ('via', 0.2100626826286316)]"
      ]
     },
     "execution_count": 61,
     "metadata": {},
     "output_type": "execute_result"
    }
   ],
   "source": [
    "r = w2v.wv['actor'] - w2v.wv['man'] + w2v.wv['woman']\n",
    "w2v.wv.similar_by_vector(r)"
   ]
  },
  {
   "cell_type": "markdown",
   "id": "19cdbe20-ccaa-4d93-896d-8b9ee197fd41",
   "metadata": {},
   "source": [
    "### FastText "
   ]
  },
  {
   "cell_type": "code",
   "execution_count": 65,
   "id": "abc6af73-98a7-4e65-bce9-a27b8d4aa2c3",
   "metadata": {},
   "outputs": [],
   "source": [
    "ft = FastText(sentences=df[\"tokens\"].tolist(), vector_size=300, window=12, min_count=5, sg=1, epochs=1, workers=-1)"
   ]
  },
  {
   "cell_type": "code",
   "execution_count": 68,
   "id": "76d5a57f-14d4-4be7-a0c4-e06941f1e7a4",
   "metadata": {},
   "outputs": [],
   "source": [
    "ft.save('../models/fasttext.model')"
   ]
  },
  {
   "cell_type": "code",
   "execution_count": 69,
   "id": "12119d36-ccc2-4d86-ba1d-3cb2f84a4ac1",
   "metadata": {},
   "outputs": [
    {
     "data": {
      "text/plain": [
       "[('outsmart', 0.5683782696723938),\n",
       " ('smarter', 0.5341701507568359),\n",
       " ('streetsmart', 0.5262489318847656),\n",
       " ('smartest', 0.5078085660934448),\n",
       " ('smartly', 0.47602853178977966),\n",
       " ('smartaleck', 0.4750869572162628),\n",
       " ('mart', 0.44146814942359924),\n",
       " ('smartass', 0.4342176914215088),\n",
       " ('kmart', 0.3593417704105377),\n",
       " ('smash', 0.3305506110191345)]"
      ]
     },
     "execution_count": 69,
     "metadata": {},
     "output_type": "execute_result"
    }
   ],
   "source": [
    "ft.wv.most_similar('smart')"
   ]
  },
  {
   "cell_type": "code",
   "execution_count": 70,
   "id": "e845265d-9df7-4704-86a7-d802cb5447cd",
   "metadata": {},
   "outputs": [
    {
     "data": {
      "text/plain": [
       "[('goody', 0.5411157011985779),\n",
       " ('goodas', 0.5270947217941284),\n",
       " ('goodif', 0.519572913646698),\n",
       " ('goodand', 0.48619481921195984),\n",
       " ('goodi', 0.4856874942779541),\n",
       " ('goodygoody', 0.4723361134529114),\n",
       " ('goode', 0.4678071439266205),\n",
       " ('goodthe', 0.45598605275154114),\n",
       " ('goodguy', 0.4541243314743042),\n",
       " ('aregood', 0.4537118077278137)]"
      ]
     },
     "execution_count": 70,
     "metadata": {},
     "output_type": "execute_result"
    }
   ],
   "source": [
    "ft.wv.most_similar(\"good\")"
   ]
  },
  {
   "cell_type": "code",
   "execution_count": 71,
   "id": "4d011b6a-e6f2-4dad-b136-80061e4eca43",
   "metadata": {},
   "outputs": [
    {
     "data": {
      "text/plain": [
       "[('kingsleys', 0.32266560196876526),\n",
       " ('risktaking', 0.31349337100982666),\n",
       " ('kingsley', 0.31001219153404236),\n",
       " ('girlgirl', 0.29809537529945374),\n",
       " ('alltalking', 0.29413512349128723),\n",
       " ('girlie', 0.2794238030910492),\n",
       " ('talking', 0.25237298011779785),\n",
       " ('tarentino', 0.25110459327697754),\n",
       " ('releasing', 0.24939526617527008),\n",
       " ('girli', 0.24736759066581726)]"
      ]
     },
     "execution_count": 71,
     "metadata": {},
     "output_type": "execute_result"
    }
   ],
   "source": [
    "ft.wv.most_similar(positive=[\"king\", \"girl\"], negative=[\"boy\"])"
   ]
  },
  {
   "cell_type": "code",
   "execution_count": 72,
   "id": "598acf06-f9ec-4017-a283-72e91b6a10dd",
   "metadata": {},
   "outputs": [
    {
     "data": {
      "text/plain": [
       "(np.float32(0.0026288975), np.float32(-0.055612884))"
      ]
     },
     "execution_count": 72,
     "metadata": {},
     "output_type": "execute_result"
    }
   ],
   "source": [
    "ft.wv.similarity(\"king\", \"girl\"), w2v.wv.similarity(\"queen\", \"girl\") "
   ]
  },
  {
   "cell_type": "code",
   "execution_count": 73,
   "id": "87a9d570-3a39-48e0-8592-a36ccde86f34",
   "metadata": {},
   "outputs": [
    {
     "data": {
      "text/plain": [
       "[('king', 0.5123586654663086),\n",
       " ('girl', 0.46392184495925903),\n",
       " ('kingsleys', 0.30695071816444397),\n",
       " ('kingsley', 0.30032044649124146),\n",
       " ('risktaking', 0.29856494069099426),\n",
       " ('alltalking', 0.27565762400627136),\n",
       " ('girlgirl', 0.24969330430030823),\n",
       " ('tarentino', 0.24150341749191284),\n",
       " ('girlie', 0.23925212025642395),\n",
       " ('releasing', 0.23192457854747772)]"
      ]
     },
     "execution_count": 73,
     "metadata": {},
     "output_type": "execute_result"
    }
   ],
   "source": [
    "r = ft.wv['king'] - ft.wv['boy'] + ft.wv['girl']\n",
    "ft.wv.similar_by_vector(r)"
   ]
  },
  {
   "cell_type": "code",
   "execution_count": null,
   "id": "2b02a72c-3e6d-4a23-96fa-6635e7244d91",
   "metadata": {},
   "outputs": [],
   "source": []
  },
  {
   "cell_type": "code",
   "execution_count": null,
   "id": "b1315013-cd2f-4d3e-bc38-9cf5e95cc26c",
   "metadata": {},
   "outputs": [],
   "source": []
  }
 ],
 "metadata": {
  "kernelspec": {
   "display_name": "Python 3 (ipykernel)",
   "language": "python",
   "name": "python3"
  },
  "language_info": {
   "codemirror_mode": {
    "name": "ipython",
    "version": 3
   },
   "file_extension": ".py",
   "mimetype": "text/x-python",
   "name": "python",
   "nbconvert_exporter": "python",
   "pygments_lexer": "ipython3",
   "version": "3.10.18"
  }
 },
 "nbformat": 4,
 "nbformat_minor": 5
}
