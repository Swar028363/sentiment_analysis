{
 "cells": [
  {
   "cell_type": "markdown",
   "id": "a6cbaff0",
   "metadata": {},
   "source": [
    "# Sentiment Analysis"
   ]
  }
 ],
 "metadata": {
  "language_info": {
   "name": "python"
  }
 },
 "nbformat": 4,
 "nbformat_minor": 5
}
