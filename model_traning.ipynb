{
 "cells": [
  {
   "cell_type": "markdown",
   "id": "8b3812f7-536e-4db9-8f05-fa2e678f3408",
   "metadata": {},
   "source": [
    "# Model Traning"
   ]
  },
  {
   "cell_type": "markdown",
   "id": "81cd86e2-5470-4385-bc7d-d71163a90851",
   "metadata": {
    "jp-MarkdownHeadingCollapsed": true
   },
   "source": [
    "### Imports"
   ]
  },
  {
   "cell_type": "code",
   "execution_count": 3,
   "id": "0a630353-7ada-43d7-b2e7-aec79122ba4c",
   "metadata": {},
   "outputs": [],
   "source": [
    "import numpy as np \n",
    "import pandas as pd \n",
    "import sklearn as sk\n",
    "import seaborn as sns\n",
    "import matplotlib.pyplot as plt\n",
    "\n",
    "from tqdm import tqdm\n",
    "\n",
    "from sklearn.feature_extraction.text import TfidfVectorizer\n",
    "from sklearn.model_selection import train_test_split\n",
    "from sklearn.metrics import accuracy_score, precision_score, recall_score, f1_score, roc_auc_score, confusion_matrix\n",
    "\n",
    "from gensim.models import Word2Vec\n",
    "from gensim.models import FastText"
   ]
  },
  {
   "cell_type": "markdown",
   "id": "0609bc30-5e16-46de-b4a4-f548489b51a2",
   "metadata": {
    "jp-MarkdownHeadingCollapsed": true
   },
   "source": [
    "### loading w2v and fasttext models"
   ]
  },
  {
   "cell_type": "code",
   "execution_count": 7,
   "id": "0b83c346-6312-4262-849e-f28b20548ae8",
   "metadata": {},
   "outputs": [
    {
     "data": {
      "text/plain": [
       "[('great', 0.8438117504119873),\n",
       " ('well', 0.7960057258605957),\n",
       " ('excellent', 0.7909898161888123),\n",
       " ('decent', 0.7712104916572571),\n",
       " ('think', 0.7426007986068726),\n",
       " ('pretty', 0.7399470806121826),\n",
       " ('like', 0.7283840179443359),\n",
       " ('okay', 0.7239789962768555),\n",
       " ('fine', 0.7231138348579407),\n",
       " ('bad', 0.7200161814689636)]"
      ]
     },
     "execution_count": 7,
     "metadata": {},
     "output_type": "execute_result"
    }
   ],
   "source": [
    "w2v = Word2Vec.load('models/w2v/word2vac_vector_size=100_window=7_min_count=5_sg=1_epochs=15_workers=4.model')\n",
    "w2v.wv.most_similar(\"good\")"
   ]
  },
  {
   "cell_type": "code",
   "execution_count": 25,
   "id": "7ba5a2d2-e0a3-45d5-923b-79104b577ebf",
   "metadata": {},
   "outputs": [
    {
     "data": {
      "text/plain": [
       "[('great', 0.8385777473449707),\n",
       " ('well', 0.8175740242004395),\n",
       " ('excellent', 0.7854905128479004),\n",
       " ('think', 0.7670866250991821),\n",
       " ('decent', 0.7608587741851807),\n",
       " ('probably', 0.7406277060508728),\n",
       " ('fine', 0.7378620505332947),\n",
       " ('pretty', 0.7362132668495178),\n",
       " ('nice', 0.7332591414451599),\n",
       " ('ok', 0.7276937961578369)]"
      ]
     },
     "execution_count": 25,
     "metadata": {},
     "output_type": "execute_result"
    }
   ],
   "source": [
    "ft = FastText.load('models/FastText/FastText_vector_size=100_window=7_min_count=5_sg=1_epochs=15_workers=4.model')\n",
    "ft.wv.most_similar(\"good\")"
   ]
  },
  {
   "cell_type": "code",
   "execution_count": 26,
   "id": "efba6e93-8242-414a-9164-179584b2aa3f",
   "metadata": {},
   "outputs": [],
   "source": [
    "pad_vec = np.load('embeddings/pad_vec.npy')\n",
    "oov_vec = np.load('embeddings/oov_vec.npy') \n",
    "def get_ft_padded_embeddings(sentence, max_words):\n",
    "    model = ft\n",
    "    embedding_dim = model.vector_size\n",
    "    embeddings = []\n",
    "    \n",
    "    for word in sentence:\n",
    "        embeddings.append(model.wv[word])\n",
    "\n",
    "    # tuncate\n",
    "    if len(embeddings) > max_words:\n",
    "        embeddings = embeddings[:max_words]\n",
    "    # paddinf\n",
    "    else:\n",
    "        while len(embeddings) < max_words:\n",
    "            embeddings.append(pad_vec)\n",
    "\n",
    "    return np.array(embeddings)"
   ]
  },
  {
   "cell_type": "markdown",
   "id": "a9c05704-2eab-4a54-867c-c0102bbf19c2",
   "metadata": {
    "jp-MarkdownHeadingCollapsed": true
   },
   "source": [
    "## Logistic regression"
   ]
  },
  {
   "cell_type": "code",
   "execution_count": 2,
   "id": "8532b8f0-30cd-48ea-858e-00962eb79b5c",
   "metadata": {},
   "outputs": [],
   "source": [
    "from sklearn.linear_model import LogisticRegression"
   ]
  },
  {
   "cell_type": "markdown",
   "id": "998a811a-f1b0-4d33-b891-420a816fc749",
   "metadata": {},
   "source": [
    "### Tfid"
   ]
  },
  {
   "cell_type": "code",
   "execution_count": 3,
   "id": "54d106f7-ae5f-4d56-94d2-995165e9c560",
   "metadata": {},
   "outputs": [
    {
     "name": "stderr",
     "output_type": "stream",
     "text": [
      "0it [00:00, ?it/s]"
     ]
    },
    {
     "name": "stdout",
     "output_type": "stream",
     "text": [
      "Batch 0: Dropped 17 rows due to NaN target.\n"
     ]
    },
    {
     "name": "stderr",
     "output_type": "stream",
     "text": [
      "1it [02:51, 171.15s/it]"
     ]
    },
    {
     "name": "stdout",
     "output_type": "stream",
     "text": [
      "Batch 1: Dropped 57 rows due to NaN target.\n"
     ]
    },
    {
     "name": "stderr",
     "output_type": "stream",
     "text": [
      "2it [05:50, 176.10s/it]"
     ]
    },
    {
     "name": "stdout",
     "output_type": "stream",
     "text": [
      "Batch 2: Dropped 72 rows due to NaN target.\n"
     ]
    },
    {
     "name": "stderr",
     "output_type": "stream",
     "text": [
      "3it [08:45, 175.38s/it]"
     ]
    },
    {
     "name": "stdout",
     "output_type": "stream",
     "text": [
      "Batch 3: Dropped 120 rows due to NaN target.\n"
     ]
    },
    {
     "name": "stderr",
     "output_type": "stream",
     "text": [
      "4it [11:41, 175.69s/it]"
     ]
    },
    {
     "name": "stdout",
     "output_type": "stream",
     "text": [
      "Batch 4: Dropped 143 rows due to NaN target.\n"
     ]
    },
    {
     "name": "stderr",
     "output_type": "stream",
     "text": [
      "5it [14:37, 175.44s/it]\n"
     ]
    },
    {
     "name": "stdout",
     "output_type": "stream",
     "text": [
      "   batch  accuracy  precision    recall        f1   auc_roc  \\\n",
      "0      0  0.759680   0.769863  0.745358  0.757412  0.828406   \n",
      "1      1  0.716488   0.718571  0.689986  0.703989  0.784847   \n",
      "2      2  0.695973   0.715470  0.677124  0.695769  0.757975   \n",
      "3      3  0.702429   0.715517  0.672065  0.693111  0.771746   \n",
      "4      4  0.721045   0.736296  0.696078  0.715623  0.794311   \n",
      "\n",
      "           confusion_matrix  rows_dropped  \n",
      "0  [[576, 168], [192, 562]]            17  \n",
      "1  [[566, 197], [226, 503]]            57  \n",
      "2  [[519, 206], [247, 518]]            72  \n",
      "3  [[543, 198], [243, 498]]           120  \n",
      "4  [[524, 178], [217, 497]]           143  \n"
     ]
    }
   ],
   "source": [
    "chunksize = 10000\n",
    "tfid_lr_metrics_list = []\n",
    "tfid_lr = LogisticRegression(max_iter=1000)\n",
    "\n",
    "for i, chunk in enumerate(tqdm(pd.read_csv('dataset/preped/tfid_df.csv', dtype='float32', chunksize=chunksize))):\n",
    "\n",
    "    # Count initial rows\n",
    "    initial_rows = len(chunk)\n",
    "\n",
    "    # Drop rows where target is NaN\n",
    "    chunk = chunk.dropna(subset=['sentiment_LE'])\n",
    "\n",
    "    # Count dropped rows\n",
    "    dropped_rows = initial_rows - len(chunk)\n",
    "    if dropped_rows > 0:\n",
    "        print(f\"Batch {i}: Dropped {dropped_rows} rows due to NaN target.\")\n",
    "\n",
    "    # Drop target column and replace infs / NaNs in features\n",
    "    y = chunk['sentiment_LE']\n",
    "    X = chunk.drop(columns=['sentiment_LE'])\n",
    "    X = X.replace([np.inf, -np.inf], np.nan).fillna(0)\n",
    "\n",
    "    if len(X) == 0:\n",
    "        print(f\"Batch {i} is empty after cleaning. Skipping.\")\n",
    "        continue\n",
    "\n",
    "    # Train-validation split\n",
    "    X_train, X_val, y_train, y_val = train_test_split(\n",
    "        X, y, test_size=0.15, random_state=42, stratify=y\n",
    "    )\n",
    "\n",
    "    # Fit model\n",
    "    tfid_lr.fit(X_train, y_train)\n",
    "\n",
    "    # Predictions\n",
    "    y_pred = tfid_lr.predict(X_val)\n",
    "    y_prob = tfid_lr.predict_proba(X_val)[:, 1]\n",
    "\n",
    "    # Compute metrics\n",
    "    batch_metrics = {\n",
    "        'batch': i,\n",
    "        'accuracy': accuracy_score(y_val, y_pred),\n",
    "        'precision': precision_score(y_val, y_pred, zero_division=0),\n",
    "        'recall': recall_score(y_val, y_pred, zero_division=0),\n",
    "        'f1': f1_score(y_val, y_pred, zero_division=0),\n",
    "        'auc_roc': roc_auc_score(y_val, y_prob),\n",
    "        'confusion_matrix': confusion_matrix(y_val, y_pred),\n",
    "        'rows_dropped': dropped_rows\n",
    "    }\n",
    "\n",
    "    tfid_lr_metrics_list.append(batch_metrics)\n",
    "\n",
    "# Convert to DataFrame\n",
    "tfid_lr_metrics_df = pd.DataFrame(tfid_lr_metrics_list)\n",
    "print(tfid_lr_metrics_df)"
   ]
  },
  {
   "cell_type": "code",
   "execution_count": 5,
   "id": "91a4ff33-6f71-448f-98fa-5d53d4d886db",
   "metadata": {},
   "outputs": [
    {
     "data": {
      "text/plain": [
       "(accuracy     0.719123\n",
       " precision    0.731144\n",
       " recall       0.696122\n",
       " f1           0.713181\n",
       " auc_roc      0.787457\n",
       " dtype: float64,\n",
       " 409)"
      ]
     },
     "execution_count": 5,
     "metadata": {},
     "output_type": "execute_result"
    }
   ],
   "source": [
    "tfid_lr_metrics_df[['accuracy', 'precision', 'recall', 'f1', 'auc_roc']].mean(), tfid_lr_metrics_df['rows_dropped'].sum()"
   ]
  },
  {
   "cell_type": "code",
   "execution_count": 11,
   "id": "78b9f909-9b6f-492e-89d8-343d9f3e70b8",
   "metadata": {},
   "outputs": [
    {
     "data": {
      "image/png": "[encoded data removed]",
      "text/plain": [
       "<Figure size 640x480 with 2 Axes>"
      ]
     },
     "metadata": {},
     "output_type": "display_data"
    }
   ],
   "source": [
    "sns.heatmap(tfid_lr_metrics_df['confusion_matrix'].sum(), annot=True, fmt='.0f')\n",
    "plt.show()"
   ]
  },
  {
   "cell_type": "markdown",
   "id": "d0c11a34-ad90-4b5b-a550-9ca8fa4779f6",
   "metadata": {
    "jp-MarkdownHeadingCollapsed": true
   },
   "source": [
    "## Random Forest"
   ]
  },
  {
   "cell_type": "code",
   "execution_count": 12,
   "id": "b1e1949e-b4a4-4ce1-b595-d107068eaac0",
   "metadata": {},
   "outputs": [],
   "source": [
    "from sklearn.ensemble import RandomForestClassifier"
   ]
  },
  {
   "cell_type": "markdown",
   "id": "e7bd8fe2-6769-47d1-869c-b346a3276be0",
   "metadata": {},
   "source": [
    "### Tfid"
   ]
  },
  {
   "cell_type": "code",
   "execution_count": 13,
   "id": "3bba5488-9e1c-4c00-ad6e-8d9bd81108d0",
   "metadata": {},
   "outputs": [
    {
     "name": "stderr",
     "output_type": "stream",
     "text": [
      "0it [00:00, ?it/s]"
     ]
    },
    {
     "name": "stdout",
     "output_type": "stream",
     "text": [
      "Batch 0: Dropped 17 rows due to NaN target.\n"
     ]
    },
    {
     "name": "stderr",
     "output_type": "stream",
     "text": [
      "1it [03:27, 207.02s/it]"
     ]
    },
    {
     "name": "stdout",
     "output_type": "stream",
     "text": [
      "Batch 1: Dropped 57 rows due to NaN target.\n"
     ]
    },
    {
     "name": "stderr",
     "output_type": "stream",
     "text": [
      "2it [07:16, 220.32s/it]"
     ]
    },
    {
     "name": "stdout",
     "output_type": "stream",
     "text": [
      "Batch 2: Dropped 72 rows due to NaN target.\n"
     ]
    },
    {
     "name": "stderr",
     "output_type": "stream",
     "text": [
      "3it [11:02, 222.72s/it]"
     ]
    },
    {
     "name": "stdout",
     "output_type": "stream",
     "text": [
      "Batch 3: Dropped 120 rows due to NaN target.\n"
     ]
    },
    {
     "name": "stderr",
     "output_type": "stream",
     "text": [
      "4it [14:45, 223.06s/it]"
     ]
    },
    {
     "name": "stdout",
     "output_type": "stream",
     "text": [
      "Batch 4: Dropped 143 rows due to NaN target.\n"
     ]
    },
    {
     "name": "stderr",
     "output_type": "stream",
     "text": [
      "5it [18:16, 219.32s/it]\n"
     ]
    },
    {
     "name": "stdout",
     "output_type": "stream",
     "text": [
      "   batch  accuracy  precision    recall        f1   auc_roc  \\\n",
      "0      0  0.759012   0.775596  0.733422  0.753920  0.826637   \n",
      "1      1  0.731903   0.742984  0.689986  0.715505  0.774950   \n",
      "2      2  0.702685   0.709635  0.712418  0.711024  0.744081   \n",
      "3      3  0.702429   0.718023  0.666667  0.691393  0.756141   \n",
      "4      4  0.733051   0.736620  0.732493  0.734551  0.778346   \n",
      "\n",
      "           confusion_matrix  rows_dropped  \n",
      "0  [[584, 160], [201, 553]]            17  \n",
      "1  [[589, 174], [226, 503]]            57  \n",
      "2  [[502, 223], [220, 545]]            72  \n",
      "3  [[547, 194], [247, 494]]           120  \n",
      "4  [[515, 187], [191, 523]]           143  \n"
     ]
    }
   ],
   "source": [
    "chunksize = 10000\n",
    "tfid_rf_metrics_list = []\n",
    "tfid_rf = RandomForestClassifier()\n",
    "\n",
    "for i, chunk in enumerate(tqdm(pd.read_csv('dataset/preped/tfid_df.csv', dtype='float32', chunksize=chunksize))):\n",
    "    # Count initial rows\n",
    "    initial_rows = len(chunk)\n",
    "\n",
    "    # Drop rows where target is NaN\n",
    "    chunk = chunk.dropna(subset=['sentiment_LE'])\n",
    "\n",
    "    # Count dropped rows\n",
    "    dropped_rows = initial_rows - len(chunk)\n",
    "    if dropped_rows > 0:\n",
    "        print(f\"Batch {i}: Dropped {dropped_rows} rows due to NaN target.\")\n",
    "\n",
    "    # Drop target column and replace infs / NaNs in features\n",
    "    y = chunk['sentiment_LE']\n",
    "    X = chunk.drop(columns=['sentiment_LE'])\n",
    "    X = X.replace([np.inf, -np.inf], np.nan).fillna(0)\n",
    "\n",
    "    if len(X) == 0:\n",
    "        print(f\"Batch {i} is empty after cleaning. Skipping.\")\n",
    "        continue\n",
    "\n",
    "    # Train-validation split\n",
    "    X_train, X_val, y_train, y_val = train_test_split(\n",
    "        X, y, test_size=0.15, random_state=42, stratify=y\n",
    "    )\n",
    "\n",
    "    # Fit model\n",
    "    tfid_rf.fit(X_train, y_train)\n",
    "\n",
    "    # Predictions\n",
    "    y_pred = tfid_rf.predict(X_val)\n",
    "    y_prob = tfid_rf.predict_proba(X_val)[:, 1]\n",
    "\n",
    "    # Compute metrics\n",
    "    batch_metrics = {\n",
    "        'batch': i,\n",
    "        'accuracy': accuracy_score(y_val, y_pred),\n",
    "        'precision': precision_score(y_val, y_pred, zero_division=0),\n",
    "        'recall': recall_score(y_val, y_pred, zero_division=0),\n",
    "        'f1': f1_score(y_val, y_pred, zero_division=0),\n",
    "        'auc_roc': roc_auc_score(y_val, y_prob),\n",
    "        'confusion_matrix': confusion_matrix(y_val, y_pred),\n",
    "        'rows_dropped': dropped_rows\n",
    "    }\n",
    "\n",
    "    tfid_rf_metrics_list.append(batch_metrics)\n",
    "\n",
    "# Convert to DataFrame\n",
    "tfid_rf_metrics_df = pd.DataFrame(tfid_rf_metrics_list)\n",
    "print(tfid_rf_metrics_df)"
   ]
  },
  {
   "cell_type": "code",
   "execution_count": 14,
   "id": "1daa661f-1848-43c1-a6a1-4d7a0e44571c",
   "metadata": {},
   "outputs": [
    {
     "data": {
      "text/plain": [
       "(accuracy     0.725816\n",
       " precision    0.736572\n",
       " recall       0.706997\n",
       " f1           0.721278\n",
       " auc_roc      0.776031\n",
       " dtype: float64,\n",
       " 409)"
      ]
     },
     "execution_count": 14,
     "metadata": {},
     "output_type": "execute_result"
    }
   ],
   "source": [
    "tfid_rf_metrics_df[['accuracy', 'precision', 'recall', 'f1', 'auc_roc']].mean(), tfid_rf_metrics_df['rows_dropped'].sum()"
   ]
  },
  {
   "cell_type": "code",
   "execution_count": 15,
   "id": "c4dd681c-0d4c-4871-9784-d6d292e1d96e",
   "metadata": {},
   "outputs": [
    {
     "data": {
      "image/png": "[encoded data removed]",
      "text/plain": [
       "<Figure size 640x480 with 2 Axes>"
      ]
     },
     "metadata": {},
     "output_type": "display_data"
    }
   ],
   "source": [
    "sns.heatmap(tfid_rf_metrics_df['confusion_matrix'].sum(), annot=True, fmt='.0f')\n",
    "plt.show()"
   ]
  },
  {
   "cell_type": "markdown",
   "id": "efc49dc7-9129-4c41-b0e3-3b07f39c87cd",
   "metadata": {
    "jp-MarkdownHeadingCollapsed": true
   },
   "source": [
    "## Gausian NB"
   ]
  },
  {
   "cell_type": "code",
   "execution_count": 3,
   "id": "48953133-6d7a-49ef-926b-1e8fa78dd897",
   "metadata": {},
   "outputs": [],
   "source": [
    "from sklearn.naive_bayes import GaussianNB"
   ]
  },
  {
   "cell_type": "markdown",
   "id": "c24764ce-9dbf-473c-87d0-f6113d512d0e",
   "metadata": {},
   "source": [
    "### Tfid"
   ]
  },
  {
   "cell_type": "code",
   "execution_count": 4,
   "id": "effd19d3-cef8-4e6a-b455-0e38413b27f3",
   "metadata": {},
   "outputs": [
    {
     "name": "stderr",
     "output_type": "stream",
     "text": [
      "0it [00:00, ?it/s]"
     ]
    },
    {
     "name": "stdout",
     "output_type": "stream",
     "text": [
      "Batch 0: Dropped 17 rows due to NaN target.\n"
     ]
    },
    {
     "name": "stderr",
     "output_type": "stream",
     "text": [
      "1it [02:13, 133.66s/it]"
     ]
    },
    {
     "name": "stdout",
     "output_type": "stream",
     "text": [
      "Batch 1: Dropped 57 rows due to NaN target.\n"
     ]
    },
    {
     "name": "stderr",
     "output_type": "stream",
     "text": [
      "2it [04:39, 140.61s/it]"
     ]
    },
    {
     "name": "stdout",
     "output_type": "stream",
     "text": [
      "Batch 2: Dropped 72 rows due to NaN target.\n"
     ]
    },
    {
     "name": "stderr",
     "output_type": "stream",
     "text": [
      "3it [07:06, 143.70s/it]"
     ]
    },
    {
     "name": "stdout",
     "output_type": "stream",
     "text": [
      "Batch 3: Dropped 120 rows due to NaN target.\n"
     ]
    },
    {
     "name": "stderr",
     "output_type": "stream",
     "text": [
      "4it [09:35, 145.85s/it]"
     ]
    },
    {
     "name": "stdout",
     "output_type": "stream",
     "text": [
      "Batch 4: Dropped 143 rows due to NaN target.\n"
     ]
    },
    {
     "name": "stderr",
     "output_type": "stream",
     "text": [
      "5it [11:56, 143.29s/it]\n"
     ]
    },
    {
     "name": "stdout",
     "output_type": "stream",
     "text": [
      "   batch  accuracy  precision    recall        f1   auc_roc  \\\n",
      "0      0  0.550734   0.553080  0.559682  0.556361  0.552927   \n",
      "1      1  0.497319   0.485021  0.466392  0.475524  0.498330   \n",
      "2      2  0.483221   0.496706  0.492810  0.494751  0.485209   \n",
      "3      3  0.514170   0.513981  0.520918  0.517426  0.514609   \n",
      "4      4  0.502825   0.506831  0.519608  0.513140  0.498832   \n",
      "\n",
      "           confusion_matrix  rows_dropped  \n",
      "0  [[403, 341], [332, 422]]            17  \n",
      "1  [[402, 361], [389, 340]]            57  \n",
      "2  [[343, 382], [388, 377]]            72  \n",
      "3  [[376, 365], [355, 386]]           120  \n",
      "4  [[341, 361], [343, 371]]           143  \n"
     ]
    }
   ],
   "source": [
    "chunksize = 10000\n",
    "tfid_gnb_metrics_list = []\n",
    "tfid_gnb = GaussianNB()\n",
    "\n",
    "for i, chunk in enumerate(tqdm(pd.read_csv('dataset/preped/tfid_df.csv', dtype='float32', chunksize=chunksize))):\n",
    "    # Count initial rows\n",
    "    initial_rows = len(chunk)\n",
    "\n",
    "    # Drop rows where target is NaN\n",
    "    chunk = chunk.dropna(subset=['sentiment_LE'])\n",
    "\n",
    "    # Count dropped rows\n",
    "    dropped_rows = initial_rows - len(chunk)\n",
    "    if dropped_rows > 0:\n",
    "        print(f\"Batch {i}: Dropped {dropped_rows} rows due to NaN target.\")\n",
    "\n",
    "    # Drop target column and replace infs / NaNs in features\n",
    "    y = chunk['sentiment_LE']\n",
    "    X = chunk.drop(columns=['sentiment_LE'])\n",
    "    X = X.replace([np.inf, -np.inf], np.nan).fillna(0)\n",
    "\n",
    "    if len(X) == 0:\n",
    "        print(f\"Batch {i} is empty after cleaning. Skipping.\")\n",
    "        continue\n",
    "\n",
    "    # Train-validation split\n",
    "    X_train, X_val, y_train, y_val = train_test_split(\n",
    "        X, y, test_size=0.15, random_state=42, stratify=y\n",
    "    )\n",
    "\n",
    "    # Fit model\n",
    "    tfid_gnb.fit(X_train, y_train)\n",
    "\n",
    "    # Predictions\n",
    "    y_pred = tfid_gnb.predict(X_val)\n",
    "    y_prob = tfid_gnb.predict_proba(X_val)[:, 1]\n",
    "\n",
    "    # Compute metrics\n",
    "    batch_metrics = {\n",
    "        'batch': i,\n",
    "        'accuracy': accuracy_score(y_val, y_pred),\n",
    "        'precision': precision_score(y_val, y_pred, zero_division=0),\n",
    "        'recall': recall_score(y_val, y_pred, zero_division=0),\n",
    "        'f1': f1_score(y_val, y_pred, zero_division=0),\n",
    "        'auc_roc': roc_auc_score(y_val, y_prob),\n",
    "        'confusion_matrix': confusion_matrix(y_val, y_pred),\n",
    "        'rows_dropped': dropped_rows\n",
    "    }\n",
    "\n",
    "    tfid_gnb_metrics_list.append(batch_metrics)\n",
    "\n",
    "# Convert to DataFrame\n",
    "tfid_gnb_metrics_df = pd.DataFrame(tfid_gnb_metrics_list)\n",
    "print(tfid_gnb_metrics_df)"
   ]
  },
  {
   "cell_type": "code",
   "execution_count": 5,
   "id": "159df61b-63d1-4364-a2f1-329b24b68a73",
   "metadata": {},
   "outputs": [
    {
     "data": {
      "text/plain": [
       "(accuracy     0.509654\n",
       " precision    0.511124\n",
       " recall       0.511882\n",
       " f1           0.511440\n",
       " auc_roc      0.509981\n",
       " dtype: float64,\n",
       " 409)"
      ]
     },
     "execution_count": 5,
     "metadata": {},
     "output_type": "execute_result"
    }
   ],
   "source": [
    "tfid_gnb_metrics_df[['accuracy', 'precision', 'recall', 'f1', 'auc_roc']].mean(), tfid_gnb_metrics_df['rows_dropped'].sum() "
   ]
  },
  {
   "cell_type": "code",
   "execution_count": 6,
   "id": "9e317d23-2fdf-481b-99f4-18955382c15b",
   "metadata": {},
   "outputs": [
    {
     "data": {
      "image/png": "[encoded data removed]",
      "text/plain": [
       "<Figure size 640x480 with 2 Axes>"
      ]
     },
     "metadata": {},
     "output_type": "display_data"
    }
   ],
   "source": [
    "sns.heatmap(tfid_gnb_metrics_df['confusion_matrix'].sum(), annot=True, fmt='.0f')\n",
    "plt.show()"
   ]
  },
  {
   "cell_type": "markdown",
   "id": "9b62cd3d-6e5f-44af-8c2d-566040b0f0c7",
   "metadata": {
    "jp-MarkdownHeadingCollapsed": true
   },
   "source": [
    "## BernoulliNB"
   ]
  },
  {
   "cell_type": "code",
   "execution_count": 1,
   "id": "9482b1a4-f458-48c2-ae79-0c3284454584",
   "metadata": {},
   "outputs": [],
   "source": [
    "from sklearn.naive_bayes import BernoulliNB"
   ]
  },
  {
   "cell_type": "markdown",
   "id": "0d223dcd-0259-4692-9e28-72720e17efff",
   "metadata": {},
   "source": [
    "### Tfid"
   ]
  },
  {
   "cell_type": "code",
   "execution_count": 4,
   "id": "4d34f143-94c8-42e8-b103-4b7be57115ab",
   "metadata": {},
   "outputs": [
    {
     "name": "stderr",
     "output_type": "stream",
     "text": [
      "0it [00:00, ?it/s]"
     ]
    },
    {
     "name": "stdout",
     "output_type": "stream",
     "text": [
      "Batch 0: Dropped 17 rows due to NaN target.\n"
     ]
    },
    {
     "name": "stderr",
     "output_type": "stream",
     "text": [
      "1it [02:46, 166.53s/it]"
     ]
    },
    {
     "name": "stdout",
     "output_type": "stream",
     "text": [
      "Batch 1: Dropped 57 rows due to NaN target.\n"
     ]
    },
    {
     "name": "stderr",
     "output_type": "stream",
     "text": [
      "2it [05:34, 167.32s/it]"
     ]
    },
    {
     "name": "stdout",
     "output_type": "stream",
     "text": [
      "Batch 2: Dropped 72 rows due to NaN target.\n"
     ]
    },
    {
     "name": "stderr",
     "output_type": "stream",
     "text": [
      "3it [08:23, 168.01s/it]"
     ]
    },
    {
     "name": "stdout",
     "output_type": "stream",
     "text": [
      "Batch 3: Dropped 120 rows due to NaN target.\n"
     ]
    },
    {
     "name": "stderr",
     "output_type": "stream",
     "text": [
      "4it [11:19, 171.25s/it]"
     ]
    },
    {
     "name": "stdout",
     "output_type": "stream",
     "text": [
      "Batch 4: Dropped 143 rows due to NaN target.\n"
     ]
    },
    {
     "name": "stderr",
     "output_type": "stream",
     "text": [
      "5it [13:57, 167.42s/it]\n"
     ]
    },
    {
     "name": "stdout",
     "output_type": "stream",
     "text": [
      "   batch  accuracy  precision    recall        f1   auc_roc          confusion_matrix  rows_dropped\n",
      "0      0  0.607477   0.614325  0.591512  0.602703  0.640421  [[464, 280], [308, 446]]            17\n",
      "1      1  0.491287   0.478134  0.449931  0.463604  0.498730  [[405, 358], [401, 328]]            57\n",
      "2      2  0.485235   0.498667  0.488889  0.493729  0.491963  [[349, 376], [391, 374]]            72\n",
      "3      3  0.520243   0.523585  0.449393  0.483660  0.520790  [[438, 303], [408, 333]]           120\n",
      "4      4  0.490819   0.495449  0.533613  0.513823  0.504545  [[314, 388], [333, 381]]           143\n"
     ]
    }
   ],
   "source": [
    "chunksize = 10000\n",
    "tfid_bnb_metrics_list = []\n",
    "tfid_bnb = BernoulliNB()\n",
    "\n",
    "for i, chunk in enumerate(tqdm(pd.read_csv('dataset/preped/tfid_df.csv', dtype='float32', chunksize=chunksize))):\n",
    "    # Count initial rows\n",
    "    initial_rows = len(chunk)\n",
    "\n",
    "    # Drop rows where target is NaN\n",
    "    chunk = chunk.dropna(subset=['sentiment_LE'])\n",
    "\n",
    "    # Count dropped rows\n",
    "    dropped_rows = initial_rows - len(chunk)\n",
    "    if dropped_rows > 0:\n",
    "        print(f\"Batch {i}: Dropped {dropped_rows} rows due to NaN target.\")\n",
    "\n",
    "    # Drop target column and replace infs / NaNs in features\n",
    "    y = chunk['sentiment_LE']\n",
    "    X = chunk.drop(columns=['sentiment_LE'])\n",
    "    X = X.replace([np.inf, -np.inf], np.nan).fillna(0)\n",
    "\n",
    "    if len(X) == 0:\n",
    "        print(f\"Batch {i} is empty after cleaning. Skipping.\")\n",
    "        continue\n",
    "\n",
    "    # Train-validation split\n",
    "    X_train, X_val, y_train, y_val = train_test_split(\n",
    "        X, y, test_size=0.15, random_state=42, stratify=y\n",
    "    )\n",
    "\n",
    "    # Fit model\n",
    "    tfid_bnb.fit(X_train, y_train)\n",
    "\n",
    "    # Predictions\n",
    "    y_pred = tfid_bnb.predict(X_val)\n",
    "    y_prob = tfid_bnb.predict_proba(X_val)[:, 1]\n",
    "\n",
    "    # Compute metrics\n",
    "    batch_metrics = {\n",
    "        'batch': i,\n",
    "        'accuracy': accuracy_score(y_val, y_pred),\n",
    "        'precision': precision_score(y_val, y_pred, zero_division=0),\n",
    "        'recall': recall_score(y_val, y_pred, zero_division=0),\n",
    "        'f1': f1_score(y_val, y_pred, zero_division=0),\n",
    "        'auc_roc': roc_auc_score(y_val, y_prob),\n",
    "        'confusion_matrix': confusion_matrix(y_val, y_pred),\n",
    "        'rows_dropped': dropped_rows\n",
    "    }\n",
    "\n",
    "    tfid_bnb_metrics_list.append(batch_metrics)\n",
    "\n",
    "# Convert to DataFrame\n",
    "tfid_bnb_metrics_df = pd.DataFrame(tfid_bnb_metrics_list)\n",
    "print(tfid_bnb_metrics_df)"
   ]
  },
  {
   "cell_type": "code",
   "execution_count": 5,
   "id": "830cd54b-add2-4ede-8399-c81b448c6b08",
   "metadata": {},
   "outputs": [
    {
     "data": {
      "text/plain": [
       "(accuracy     0.519012\n",
       " precision    0.522032\n",
       " recall       0.502668\n",
       " f1           0.511504\n",
       " auc_roc      0.531290\n",
       " dtype: float64,\n",
       " 409)"
      ]
     },
     "execution_count": 5,
     "metadata": {},
     "output_type": "execute_result"
    }
   ],
   "source": [
    "tfid_bnb_metrics_df[['accuracy', 'precision', 'recall', 'f1', 'auc_roc']].mean(), tfid_bnb_metrics_df['rows_dropped'].sum() "
   ]
  },
  {
   "cell_type": "code",
   "execution_count": 6,
   "id": "6fcd60e6-bca5-4beb-940f-3b64ffb654e8",
   "metadata": {},
   "outputs": [
    {
     "data": {
      "image/png": "[encoded data removed]",
      "text/plain": [
       "<Figure size 640x480 with 2 Axes>"
      ]
     },
     "metadata": {},
     "output_type": "display_data"
    }
   ],
   "source": [
    "sns.heatmap(tfid_bnb_metrics_df['confusion_matrix'].sum(), annot=True, fmt='.0f')\n",
    "plt.show()"
   ]
  },
  {
   "cell_type": "markdown",
   "id": "f3ebc516-c1c3-49ec-b1c6-251816735ac6",
   "metadata": {
    "jp-MarkdownHeadingCollapsed": true
   },
   "source": [
    "## ComplementNB"
   ]
  },
  {
   "cell_type": "code",
   "execution_count": 8,
   "id": "18b55182-6118-47f4-be65-37cc58ab48f6",
   "metadata": {},
   "outputs": [],
   "source": [
    "from sklearn.naive_bayes import ComplementNB"
   ]
  },
  {
   "cell_type": "markdown",
   "id": "34ee74c7-d1a1-498c-a4fc-06ba95b7d225",
   "metadata": {},
   "source": [
    "### Tfid"
   ]
  },
  {
   "cell_type": "code",
   "execution_count": 9,
   "id": "e925fc17-6be2-414d-8d6b-ecc1df0fefdc",
   "metadata": {},
   "outputs": [
    {
     "name": "stderr",
     "output_type": "stream",
     "text": [
      "0it [00:00, ?it/s]"
     ]
    },
    {
     "name": "stdout",
     "output_type": "stream",
     "text": [
      "Batch 0: Dropped 17 rows due to NaN target.\n"
     ]
    },
    {
     "name": "stderr",
     "output_type": "stream",
     "text": [
      "1it [02:40, 160.13s/it]"
     ]
    },
    {
     "name": "stdout",
     "output_type": "stream",
     "text": [
      "Batch 1: Dropped 57 rows due to NaN target.\n"
     ]
    },
    {
     "name": "stderr",
     "output_type": "stream",
     "text": [
      "2it [05:45, 175.13s/it]"
     ]
    },
    {
     "name": "stdout",
     "output_type": "stream",
     "text": [
      "Batch 2: Dropped 72 rows due to NaN target.\n"
     ]
    },
    {
     "name": "stderr",
     "output_type": "stream",
     "text": [
      "3it [08:37, 173.68s/it]"
     ]
    },
    {
     "name": "stdout",
     "output_type": "stream",
     "text": [
      "Batch 3: Dropped 120 rows due to NaN target.\n"
     ]
    },
    {
     "name": "stderr",
     "output_type": "stream",
     "text": [
      "4it [11:29, 173.04s/it]"
     ]
    },
    {
     "name": "stdout",
     "output_type": "stream",
     "text": [
      "Batch 4: Dropped 143 rows due to NaN target.\n"
     ]
    },
    {
     "name": "stderr",
     "output_type": "stream",
     "text": [
      "5it [15:43, 188.76s/it]\n"
     ]
    },
    {
     "name": "stdout",
     "output_type": "stream",
     "text": [
      "   batch  accuracy  precision    recall        f1   auc_roc          confusion_matrix  rows_dropped\n",
      "0      0  0.759680   0.761968  0.759947  0.760956  0.822711  [[565, 179], [181, 573]]            17\n",
      "1      1  0.717828   0.704787  0.727023  0.715733  0.778844  [[541, 222], [199, 530]]            57\n",
      "2      2  0.703356   0.710013  0.713725  0.711864  0.756600  [[502, 223], [219, 546]]            72\n",
      "3      3  0.699730   0.696286  0.708502  0.702341  0.775782  [[512, 229], [216, 525]]           120\n",
      "4      4  0.733051   0.725806  0.756303  0.740741  0.796033  [[498, 204], [174, 540]]           143\n"
     ]
    }
   ],
   "source": [
    "chunksize = 10000\n",
    "tfid_cnb_metrics_list = []\n",
    "tfid_cnb = ComplementNB()\n",
    "\n",
    "for i, chunk in enumerate(tqdm(pd.read_csv('dataset/preped/tfid_df.csv', dtype='float32', chunksize=chunksize))):\n",
    "    # Count initial rows\n",
    "    initial_rows = len(chunk)\n",
    "\n",
    "    # Drop rows where target is NaN\n",
    "    chunk = chunk.dropna(subset=['sentiment_LE'])\n",
    "\n",
    "    # Count dropped rows\n",
    "    dropped_rows = initial_rows - len(chunk)\n",
    "    if dropped_rows > 0:\n",
    "        print(f\"Batch {i}: Dropped {dropped_rows} rows due to NaN target.\")\n",
    "\n",
    "    # Drop target column and replace infs / NaNs in features\n",
    "    y = chunk['sentiment_LE']\n",
    "    X = chunk.drop(columns=['sentiment_LE'])\n",
    "    X = X.replace([np.inf, -np.inf], np.nan).fillna(0)\n",
    "\n",
    "    if len(X) == 0:\n",
    "        print(f\"Batch {i} is empty after cleaning. Skipping.\")\n",
    "        continue\n",
    "\n",
    "    # Train-validation split\n",
    "    X_train, X_val, y_train, y_val = train_test_split(\n",
    "        X, y, test_size=0.15, random_state=42, stratify=y\n",
    "    )\n",
    "\n",
    "    # Fit model\n",
    "    tfid_cnb.fit(X_train, y_train)\n",
    "\n",
    "    # Predictions\n",
    "    y_pred = tfid_cnb.predict(X_val)\n",
    "    y_prob = tfid_cnb.predict_proba(X_val)[:, 1]\n",
    "\n",
    "    # Compute metrics\n",
    "    batch_metrics = {\n",
    "        'batch': i,\n",
    "        'accuracy': accuracy_score(y_val, y_pred),\n",
    "        'precision': precision_score(y_val, y_pred, zero_division=0),\n",
    "        'recall': recall_score(y_val, y_pred, zero_division=0),\n",
    "        'f1': f1_score(y_val, y_pred, zero_division=0),\n",
    "        'auc_roc': roc_auc_score(y_val, y_prob),\n",
    "        'confusion_matrix': confusion_matrix(y_val, y_pred),\n",
    "        'rows_dropped': dropped_rows\n",
    "    }\n",
    "\n",
    "    tfid_cnb_metrics_list.append(batch_metrics)\n",
    "\n",
    "# Convert to DataFrame\n",
    "tfid_cnb_metrics_df = pd.DataFrame(tfid_cnb_metrics_list)\n",
    "print(tfid_cnb_metrics_df)"
   ]
  },
  {
   "cell_type": "code",
   "execution_count": 10,
   "id": "51d9ecc7-0cea-4cf3-a8a6-f7b0c669f8dd",
   "metadata": {},
   "outputs": [
    {
     "data": {
      "text/plain": [
       "(accuracy     0.722729\n",
       " precision    0.719772\n",
       " recall       0.733100\n",
       " f1           0.726327\n",
       " auc_roc      0.785994\n",
       " dtype: float64,\n",
       " 409)"
      ]
     },
     "execution_count": 10,
     "metadata": {},
     "output_type": "execute_result"
    }
   ],
   "source": [
    "tfid_cnb_metrics_df[['accuracy', 'precision', 'recall', 'f1', 'auc_roc']].mean(), tfid_cnb_metrics_df['rows_dropped'].sum() "
   ]
  },
  {
   "cell_type": "code",
   "execution_count": 11,
   "id": "f59e0a0f-37de-4bdb-95e2-79df824103a8",
   "metadata": {},
   "outputs": [
    {
     "data": {
      "image/png": "[encoded data removed]",
      "text/plain": [
       "<Figure size 640x480 with 2 Axes>"
      ]
     },
     "metadata": {},
     "output_type": "display_data"
    }
   ],
   "source": [
    "sns.heatmap(tfid_cnb_metrics_df['confusion_matrix'].sum(), annot=True, fmt='.0f')\n",
    "plt.show()"
   ]
  },
  {
   "cell_type": "markdown",
   "id": "e28fdfdc-fc09-4b72-93b4-adef41f85f53",
   "metadata": {
    "jp-MarkdownHeadingCollapsed": true
   },
   "source": [
    "## SGDClassifier"
   ]
  },
  {
   "cell_type": "code",
   "execution_count": 12,
   "id": "12346d17-fef8-4fe7-8bfc-6e9e1f8d18b7",
   "metadata": {},
   "outputs": [],
   "source": [
    "from sklearn.linear_model import SGDClassifier"
   ]
  },
  {
   "cell_type": "markdown",
   "id": "c74d0737-1d97-415f-be47-1d6a3d6d0fcf",
   "metadata": {},
   "source": [
    "### Tfid"
   ]
  },
  {
   "cell_type": "code",
   "execution_count": 14,
   "id": "da408f21-55a7-4070-b322-2afac35476af",
   "metadata": {},
   "outputs": [
    {
     "name": "stderr",
     "output_type": "stream",
     "text": [
      "0it [00:00, ?it/s]"
     ]
    },
    {
     "name": "stdout",
     "output_type": "stream",
     "text": [
      "Batch 0: Dropped 17 rows due to NaN target.\n"
     ]
    },
    {
     "name": "stderr",
     "output_type": "stream",
     "text": [
      "1it [04:00, 240.71s/it]"
     ]
    },
    {
     "name": "stdout",
     "output_type": "stream",
     "text": [
      "Batch 1: Dropped 57 rows due to NaN target.\n"
     ]
    },
    {
     "name": "stderr",
     "output_type": "stream",
     "text": [
      "2it [08:19, 251.33s/it]"
     ]
    },
    {
     "name": "stdout",
     "output_type": "stream",
     "text": [
      "Batch 2: Dropped 72 rows due to NaN target.\n"
     ]
    },
    {
     "name": "stderr",
     "output_type": "stream",
     "text": [
      "3it [12:33, 252.50s/it]"
     ]
    },
    {
     "name": "stdout",
     "output_type": "stream",
     "text": [
      "Batch 3: Dropped 120 rows due to NaN target.\n"
     ]
    },
    {
     "name": "stderr",
     "output_type": "stream",
     "text": [
      "4it [15:57, 233.40s/it]"
     ]
    },
    {
     "name": "stdout",
     "output_type": "stream",
     "text": [
      "Batch 4: Dropped 143 rows due to NaN target.\n"
     ]
    },
    {
     "name": "stderr",
     "output_type": "stream",
     "text": [
      "5it [19:12, 230.42s/it]\n"
     ]
    },
    {
     "name": "stdout",
     "output_type": "stream",
     "text": [
      "   batch  accuracy  precision    recall        f1   auc_roc          confusion_matrix  rows_dropped\n",
      "0      0  0.686248   0.633208  0.895225  0.741758  0.790130   [[353, 391], [79, 675]]            17\n",
      "1      1  0.712466   0.678571  0.781893  0.726577  0.790102  [[493, 270], [159, 570]]            57\n",
      "2      2  0.681879   0.656284  0.798693  0.720519  0.751176  [[405, 320], [154, 611]]            72\n",
      "3      3  0.631579   0.857143  0.315789  0.461538  0.746828   [[702, 39], [507, 234]]           120\n",
      "4      4  0.655367   0.846626  0.386555  0.530769  0.766444   [[652, 50], [438, 276]]           143\n"
     ]
    }
   ],
   "source": [
    "chunksize = 10000\n",
    "tfid_sgdc_metrics_list = []\n",
    "tfid_sgdc = SGDClassifier(loss='log_loss')\n",
    "\n",
    "for i, chunk in enumerate(tqdm(pd.read_csv('dataset/preped/tfid_df.csv', dtype='float32', chunksize=chunksize))):\n",
    "    # Count initial rows\n",
    "    initial_rows = len(chunk)\n",
    "\n",
    "    # Drop rows where target is NaN\n",
    "    chunk = chunk.dropna(subset=['sentiment_LE'])\n",
    "\n",
    "    # Count dropped rows\n",
    "    dropped_rows = initial_rows - len(chunk)\n",
    "    if dropped_rows > 0:\n",
    "        print(f\"Batch {i}: Dropped {dropped_rows} rows due to NaN target.\")\n",
    "\n",
    "    # Drop target column and replace infs / NaNs in features\n",
    "    y = chunk['sentiment_LE']\n",
    "    X = chunk.drop(columns=['sentiment_LE'])\n",
    "    X = X.replace([np.inf, -np.inf], np.nan).fillna(0)\n",
    "\n",
    "    if len(X) == 0:\n",
    "        print(f\"Batch {i} is empty after cleaning. Skipping.\")\n",
    "        continue\n",
    "\n",
    "    # Train-validation split\n",
    "    X_train, X_val, y_train, y_val = train_test_split(\n",
    "        X, y, test_size=0.15, random_state=42, stratify=y\n",
    "    )\n",
    "\n",
    "    # Fit model\n",
    "    tfid_sgdc.fit(X_train, y_train)\n",
    "\n",
    "    # Predictions\n",
    "    y_pred = tfid_sgdc.predict(X_val)\n",
    "    y_prob = tfid_sgdc.predict_proba(X_val)[:, 1]\n",
    "\n",
    "    # Compute metrics\n",
    "    batch_metrics = {\n",
    "        'batch': i,\n",
    "        'accuracy': accuracy_score(y_val, y_pred),\n",
    "        'precision': precision_score(y_val, y_pred, zero_division=0),\n",
    "        'recall': recall_score(y_val, y_pred, zero_division=0),\n",
    "        'f1': f1_score(y_val, y_pred, zero_division=0),\n",
    "        'auc_roc': roc_auc_score(y_val, y_prob),\n",
    "        'confusion_matrix': confusion_matrix(y_val, y_pred),\n",
    "        'rows_dropped': dropped_rows\n",
    "    }\n",
    "\n",
    "    tfid_sgdc_metrics_list.append(batch_metrics)\n",
    "\n",
    "# Convert to DataFrame\n",
    "tfid_sgdc_metrics_df = pd.DataFrame(tfid_sgdc_metrics_list)\n",
    "print(tfid_sgdc_metrics_df)"
   ]
  },
  {
   "cell_type": "code",
   "execution_count": 15,
   "id": "ad49558a-3caf-47b2-9e0c-6aa85990e5ff",
   "metadata": {},
   "outputs": [
    {
     "data": {
      "text/plain": [
       "(accuracy     0.673508\n",
       " precision    0.734366\n",
       " recall       0.635631\n",
       " f1           0.636232\n",
       " auc_roc      0.768936\n",
       " dtype: float64,\n",
       " 409)"
      ]
     },
     "execution_count": 15,
     "metadata": {},
     "output_type": "execute_result"
    }
   ],
   "source": [
    "tfid_sgdc_metrics_df[['accuracy', 'precision', 'recall', 'f1', 'auc_roc']].mean(), tfid_sgdc_metrics_df['rows_dropped'].sum() "
   ]
  },
  {
   "cell_type": "code",
   "execution_count": 16,
   "id": "671c91de-af76-4581-b64f-f79dc519ea4b",
   "metadata": {},
   "outputs": [
    {
     "data": {
      "image/png": "[encoded data removed]",
      "text/plain": [
       "<Figure size 640x480 with 2 Axes>"
      ]
     },
     "metadata": {},
     "output_type": "display_data"
    }
   ],
   "source": [
    "sns.heatmap(tfid_sgdc_metrics_df['confusion_matrix'].sum(), annot=True, fmt='.0f')\n",
    "plt.show()"
   ]
  },
  {
   "cell_type": "markdown",
   "id": "fd9b51d4-f1a1-4d18-a003-2af97b020837",
   "metadata": {
    "jp-MarkdownHeadingCollapsed": true
   },
   "source": [
    "## GradientBoostingClassifier"
   ]
  },
  {
   "cell_type": "code",
   "execution_count": 17,
   "id": "af809fcf-c734-4e81-ac68-08b56bf2d2bc",
   "metadata": {},
   "outputs": [],
   "source": [
    "from sklearn.ensemble import GradientBoostingClassifier"
   ]
  },
  {
   "cell_type": "markdown",
   "id": "cd7ede3b-13dc-40e3-944c-98da6a37f3d8",
   "metadata": {},
   "source": [
    "### Tfid"
   ]
  },
  {
   "cell_type": "code",
   "execution_count": 18,
   "id": "d77f5107-e742-44a3-b94f-c18e67d25e51",
   "metadata": {},
   "outputs": [
    {
     "name": "stderr",
     "output_type": "stream",
     "text": [
      "0it [00:00, ?it/s]"
     ]
    },
    {
     "name": "stdout",
     "output_type": "stream",
     "text": [
      "Batch 0: Dropped 17 rows due to NaN target.\n"
     ]
    },
    {
     "name": "stderr",
     "output_type": "stream",
     "text": [
      "1it [09:01, 541.51s/it]"
     ]
    },
    {
     "name": "stdout",
     "output_type": "stream",
     "text": [
      "Batch 1: Dropped 57 rows due to NaN target.\n"
     ]
    },
    {
     "name": "stderr",
     "output_type": "stream",
     "text": [
      "2it [17:54, 536.41s/it]"
     ]
    },
    {
     "name": "stdout",
     "output_type": "stream",
     "text": [
      "Batch 2: Dropped 72 rows due to NaN target.\n"
     ]
    },
    {
     "name": "stderr",
     "output_type": "stream",
     "text": [
      "3it [26:51, 536.95s/it]"
     ]
    },
    {
     "name": "stdout",
     "output_type": "stream",
     "text": [
      "Batch 3: Dropped 120 rows due to NaN target.\n"
     ]
    },
    {
     "name": "stderr",
     "output_type": "stream",
     "text": [
      "4it [35:41, 534.04s/it]"
     ]
    },
    {
     "name": "stdout",
     "output_type": "stream",
     "text": [
      "Batch 4: Dropped 143 rows due to NaN target.\n"
     ]
    },
    {
     "name": "stderr",
     "output_type": "stream",
     "text": [
      "5it [44:13, 530.78s/it]\n"
     ]
    },
    {
     "name": "stdout",
     "output_type": "stream",
     "text": [
      "   batch  accuracy  precision    recall        f1   auc_roc          confusion_matrix  rows_dropped\n",
      "0      0  0.767023   0.766798  0.771883  0.769332  0.844073  [[567, 177], [172, 582]]            17\n",
      "1      1  0.740617   0.747826  0.707819  0.727273  0.802564  [[589, 174], [213, 516]]            57\n",
      "2      2  0.722148   0.727038  0.734641  0.730819  0.776569  [[514, 211], [203, 562]]            72\n",
      "3      3  0.706478   0.717330  0.681511  0.698962  0.789237  [[542, 199], [236, 505]]           120\n",
      "4      4  0.743644   0.754717  0.728291  0.741269  0.812708  [[533, 169], [194, 520]]           143\n"
     ]
    }
   ],
   "source": [
    "chunksize = 10000\n",
    "tfid_gbc_metrics_list = []\n",
    "tfid_gbc = GradientBoostingClassifier()\n",
    "\n",
    "for i, chunk in enumerate(tqdm(pd.read_csv('dataset/preped/tfid_df.csv', dtype='float32', chunksize=chunksize))):\n",
    "    # Count initial rows\n",
    "    initial_rows = len(chunk)\n",
    "\n",
    "    # Drop rows where target is NaN\n",
    "    chunk = chunk.dropna(subset=['sentiment_LE'])\n",
    "\n",
    "    # Count dropped rows\n",
    "    dropped_rows = initial_rows - len(chunk)\n",
    "    if dropped_rows > 0:\n",
    "        print(f\"Batch {i}: Dropped {dropped_rows} rows due to NaN target.\")\n",
    "\n",
    "    # Drop target column and replace infs / NaNs in features\n",
    "    y = chunk['sentiment_LE']\n",
    "    X = chunk.drop(columns=['sentiment_LE'])\n",
    "    X = X.replace([np.inf, -np.inf], np.nan).fillna(0)\n",
    "\n",
    "    if len(X) == 0:\n",
    "        print(f\"Batch {i} is empty after cleaning. Skipping.\")\n",
    "        continue\n",
    "\n",
    "    # Train-validation split\n",
    "    X_train, X_val, y_train, y_val = train_test_split(\n",
    "        X, y, test_size=0.15, random_state=42, stratify=y\n",
    "    )\n",
    "\n",
    "    # Fit model\n",
    "    tfid_gbc.fit(X_train, y_train)\n",
    "\n",
    "    # Predictions\n",
    "    y_pred = tfid_gbc.predict(X_val)\n",
    "    y_prob = tfid_gbc.predict_proba(X_val)[:, 1]\n",
    "\n",
    "    # Compute metrics\n",
    "    batch_metrics = {\n",
    "        'batch': i,\n",
    "        'accuracy': accuracy_score(y_val, y_pred),\n",
    "        'precision': precision_score(y_val, y_pred, zero_division=0),\n",
    "        'recall': recall_score(y_val, y_pred, zero_division=0),\n",
    "        'f1': f1_score(y_val, y_pred, zero_division=0),\n",
    "        'auc_roc': roc_auc_score(y_val, y_prob),\n",
    "        'confusion_matrix': confusion_matrix(y_val, y_pred),\n",
    "        'rows_dropped': dropped_rows\n",
    "    }\n",
    "\n",
    "    tfid_gbc_metrics_list.append(batch_metrics)\n",
    "\n",
    "# Convert to DataFrame\n",
    "tfid_gbc_metrics_df = pd.DataFrame(tfid_gbc_metrics_list)\n",
    "print(tfid_gbc_metrics_df)"
   ]
  },
  {
   "cell_type": "code",
   "execution_count": 19,
   "id": "f76a623c-5713-40cc-8e54-6000c61ba0c7",
   "metadata": {},
   "outputs": [
    {
     "data": {
      "text/plain": [
       "(accuracy     0.735982\n",
       " precision    0.742742\n",
       " recall       0.724829\n",
       " f1           0.733531\n",
       " auc_roc      0.805030\n",
       " dtype: float64,\n",
       " 409)"
      ]
     },
     "execution_count": 19,
     "metadata": {},
     "output_type": "execute_result"
    }
   ],
   "source": [
    "tfid_gbc_metrics_df[['accuracy', 'precision', 'recall', 'f1', 'auc_roc']].mean(), tfid_gbc_metrics_df['rows_dropped'].sum() "
   ]
  },
  {
   "cell_type": "code",
   "execution_count": 20,
   "id": "db3371a7-690d-48a9-a002-c29f771f04af",
   "metadata": {},
   "outputs": [
    {
     "data": {
      "image/png": "[encoded data removed]",
      "text/plain": [
       "<Figure size 640x480 with 2 Axes>"
      ]
     },
     "metadata": {},
     "output_type": "display_data"
    }
   ],
   "source": [
    "sns.heatmap(tfid_gbc_metrics_df['confusion_matrix'].sum(), annot=True, fmt='.0f')\n",
    "plt.show()"
   ]
  },
  {
   "cell_type": "markdown",
   "id": "441be9eb-0747-448d-95c3-56f011bc1f77",
   "metadata": {
    "jp-MarkdownHeadingCollapsed": true
   },
   "source": [
    "## KNeighborsClassifier"
   ]
  },
  {
   "cell_type": "code",
   "execution_count": 21,
   "id": "79fd361b-6a93-4022-8894-7cbc3dcd859d",
   "metadata": {},
   "outputs": [],
   "source": [
    "from sklearn.neighbors import KNeighborsClassifier"
   ]
  },
  {
   "cell_type": "markdown",
   "id": "f335d8f4-c379-447b-88d3-d1f0929e46ee",
   "metadata": {},
   "source": [
    "### Tfid"
   ]
  },
  {
   "cell_type": "code",
   "execution_count": 22,
   "id": "c1b7a06e-10e3-40c1-b3b3-9086ff4bfc34",
   "metadata": {},
   "outputs": [
    {
     "name": "stderr",
     "output_type": "stream",
     "text": [
      "0it [00:00, ?it/s]"
     ]
    },
    {
     "name": "stdout",
     "output_type": "stream",
     "text": [
      "Batch 0: Dropped 17 rows due to NaN target.\n"
     ]
    },
    {
     "name": "stderr",
     "output_type": "stream",
     "text": [
      "1it [04:01, 241.39s/it]"
     ]
    },
    {
     "name": "stdout",
     "output_type": "stream",
     "text": [
      "Batch 1: Dropped 57 rows due to NaN target.\n"
     ]
    },
    {
     "name": "stderr",
     "output_type": "stream",
     "text": [
      "2it [06:54, 201.14s/it]"
     ]
    },
    {
     "name": "stdout",
     "output_type": "stream",
     "text": [
      "Batch 2: Dropped 72 rows due to NaN target.\n"
     ]
    },
    {
     "name": "stderr",
     "output_type": "stream",
     "text": [
      "3it [09:52, 190.62s/it]"
     ]
    },
    {
     "name": "stdout",
     "output_type": "stream",
     "text": [
      "Batch 3: Dropped 120 rows due to NaN target.\n"
     ]
    },
    {
     "name": "stderr",
     "output_type": "stream",
     "text": [
      "4it [12:47, 184.53s/it]"
     ]
    },
    {
     "name": "stdout",
     "output_type": "stream",
     "text": [
      "Batch 4: Dropped 143 rows due to NaN target.\n"
     ]
    },
    {
     "name": "stderr",
     "output_type": "stream",
     "text": [
      "5it [15:40, 188.04s/it]\n"
     ]
    },
    {
     "name": "stdout",
     "output_type": "stream",
     "text": [
      "   batch  accuracy  precision    recall        f1   auc_roc          confusion_matrix  rows_dropped\n",
      "0      0  0.722296   0.730245  0.710875  0.720430  0.785260  [[546, 198], [218, 536]]            17\n",
      "1      1  0.690349   0.690442  0.663923  0.676923  0.746587  [[546, 217], [245, 484]]            57\n",
      "2      2  0.683893   0.692913  0.690196  0.691552  0.733072  [[491, 234], [237, 528]]            72\n",
      "3      3  0.669366   0.671683  0.662618  0.667120  0.737394  [[501, 240], [250, 491]]           120\n",
      "4      4  0.714689   0.717087  0.717087  0.717087  0.753741  [[500, 202], [202, 512]]           143\n"
     ]
    }
   ],
   "source": [
    "chunksize = 10000\n",
    "tfid_knn_metrics_list = []\n",
    "tfid_knn = KNeighborsClassifier()\n",
    "\n",
    "for i, chunk in enumerate(tqdm(pd.read_csv('dataset/preped/tfid_df.csv', dtype='float32', chunksize=chunksize))):\n",
    "    # Count initial rows\n",
    "    initial_rows = len(chunk)\n",
    "\n",
    "    # Drop rows where target is NaN\n",
    "    chunk = chunk.dropna(subset=['sentiment_LE'])\n",
    "\n",
    "    # Count dropped rows\n",
    "    dropped_rows = initial_rows - len(chunk)\n",
    "    if dropped_rows > 0:\n",
    "        print(f\"Batch {i}: Dropped {dropped_rows} rows due to NaN target.\")\n",
    "\n",
    "    # Drop target column and replace infs / NaNs in features\n",
    "    y = chunk['sentiment_LE']\n",
    "    X = chunk.drop(columns=['sentiment_LE'])\n",
    "    X = X.replace([np.inf, -np.inf], np.nan).fillna(0)\n",
    "\n",
    "    if len(X) == 0:\n",
    "        print(f\"Batch {i} is empty after cleaning. Skipping.\")\n",
    "        continue\n",
    "\n",
    "    # Train-validation split\n",
    "    X_train, X_val, y_train, y_val = train_test_split(\n",
    "        X, y, test_size=0.15, random_state=42, stratify=y\n",
    "    )\n",
    "\n",
    "    # Fit model\n",
    "    tfid_knn.fit(X_train, y_train)\n",
    "\n",
    "    # Predictions\n",
    "    y_pred = tfid_knn.predict(X_val)\n",
    "    y_prob = tfid_knn.predict_proba(X_val)[:, 1]\n",
    "\n",
    "    # Compute metrics\n",
    "    batch_metrics = {\n",
    "        'batch': i,\n",
    "        'accuracy': accuracy_score(y_val, y_pred),\n",
    "        'precision': precision_score(y_val, y_pred, zero_division=0),\n",
    "        'recall': recall_score(y_val, y_pred, zero_division=0),\n",
    "        'f1': f1_score(y_val, y_pred, zero_division=0),\n",
    "        'auc_roc': roc_auc_score(y_val, y_prob),\n",
    "        'confusion_matrix': confusion_matrix(y_val, y_pred),\n",
    "        'rows_dropped': dropped_rows\n",
    "    }\n",
    "\n",
    "    tfid_knn_metrics_list.append(batch_metrics)\n",
    "\n",
    "# Convert to DataFrame\n",
    "tfid_knn_metrics_df = pd.DataFrame(tfid_knn_metrics_list)\n",
    "print(tfid_knn_metrics_df)"
   ]
  },
  {
   "cell_type": "code",
   "execution_count": 23,
   "id": "54a0e7ef-5b27-4e75-8ba9-1bb820bcb67c",
   "metadata": {},
   "outputs": [
    {
     "data": {
      "text/plain": [
       "(accuracy     0.696119\n",
       " precision    0.700474\n",
       " recall       0.688940\n",
       " f1           0.694622\n",
       " auc_roc      0.751211\n",
       " dtype: float64,\n",
       " 409)"
      ]
     },
     "execution_count": 23,
     "metadata": {},
     "output_type": "execute_result"
    }
   ],
   "source": [
    "tfid_knn_metrics_df[['accuracy', 'precision', 'recall', 'f1', 'auc_roc']].mean(), tfid_knn_metrics_df['rows_dropped'].sum() "
   ]
  },
  {
   "cell_type": "code",
   "execution_count": 24,
   "id": "6d486f96-b1b0-4355-863b-e7daabd8fa5c",
   "metadata": {},
   "outputs": [
    {
     "data": {
      "image/png": "[encoded data removed]",
      "text/plain": [
       "<Figure size 640x480 with 2 Axes>"
      ]
     },
     "metadata": {},
     "output_type": "display_data"
    }
   ],
   "source": [
    "sns.heatmap(tfid_knn_metrics_df['confusion_matrix'].sum(), annot=True, fmt='.0f')\n",
    "plt.show()"
   ]
  },
  {
   "cell_type": "code",
   "execution_count": null,
   "id": "d82c53f2-020f-4fcc-9522-1ad6dadc0dd8",
   "metadata": {},
   "outputs": [],
   "source": []
  },
  {
   "cell_type": "code",
   "execution_count": null,
   "id": "e54ecb05-47bf-4b92-9dac-c9d92c07c2b5",
   "metadata": {},
   "outputs": [],
   "source": []
  }
 ],
 "metadata": {
  "kernelspec": {
   "display_name": "Python (sentiment_analysis)",
   "language": "python",
   "name": "sentiment_analysis"
  },
  "language_info": {
   "codemirror_mode": {
    "name": "ipython",
    "version": 3
   },
   "file_extension": ".py",
   "mimetype": "text/x-python",
   "name": "python",
   "nbconvert_exporter": "python",
   "pygments_lexer": "ipython3",
   "version": "3.10.18"
  }
 },
 "nbformat": 4,
 "nbformat_minor": 5
}
